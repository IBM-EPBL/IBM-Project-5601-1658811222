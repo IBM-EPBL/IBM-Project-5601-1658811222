{
  "nbformat": 4,
  "nbformat_minor": 0,
  "metadata": {
    "colab": {
      "provenance": [],
      "collapsed_sections": [
        "yjQFaqHdWVoK",
        "n7S-c9tTWnAp",
        "qUBFWsvqY1j7",
        "bAWGcibDY228",
        "j8hEu4aXZAtT",
        "eJaQIkExZJHm",
        "SYCs65OiZKaH",
        "Ghw-M_VBZbyU",
        "rYZFuf3KaCMO",
        "PBj_adqAaUTy",
        "_m3lzt27ahWr",
        "DrC3MB9uawkM",
        "-v2DNoZNdrbx",
        "yL8lbXaOeB6d",
        "pAwsX7soeJw_",
        "diQ_6IJ7ex1Q",
        "q4c53aIYfjxq"
      ]
    },
    "kernelspec": {
      "name": "python3",
      "display_name": "Python 3"
    },
    "language_info": {
      "name": "python"
    }
  },
  "cells": [
    {
      "cell_type": "code",
      "execution_count": null,
      "metadata": {
        "id": "5eH2axMlSggO"
      },
      "outputs": [],
      "source": []
    },
    {
      "cell_type": "markdown",
      "source": [
        "#Importing the packages"
      ],
      "metadata": {
        "id": "RZX6vI5tSkHF"
      }
    },
    {
      "cell_type": "code",
      "source": [
        "import numpy as np\n",
        "import pandas as pd\n",
        "import matplotlib.pyplot as plt\n",
        "import seaborn as sns\n",
        "%matplotlib inline"
      ],
      "metadata": {
        "id": "pd00IxQrVRfm"
      },
      "execution_count": null,
      "outputs": []
    },
    {
      "cell_type": "markdown",
      "source": [
        "#Loading the dataset"
      ],
      "metadata": {
        "id": "iUTF2MEbVcvO"
      }
    },
    {
      "cell_type": "code",
      "source": [
        "df = pd.read_csv(\"Mall_Customers.csv\")"
      ],
      "metadata": {
        "id": "XfiW_yGuVg4_",
        "outputId": "5e04c887-81c6-4094-b2ef-32f82d7dfff6",
        "colab": {
          "base_uri": "https://localhost:8080/",
          "height": 165
        }
      },
      "execution_count": null,
      "outputs": [
        {
          "output_type": "error",
          "ename": "NameError",
          "evalue": "ignored",
          "traceback": [
            "\u001b[0;31m---------------------------------------------------------------------------\u001b[0m",
            "\u001b[0;31mNameError\u001b[0m                                 Traceback (most recent call last)",
            "\u001b[0;32m<ipython-input-2-fc18eabe024b>\u001b[0m in \u001b[0;36m<module>\u001b[0;34m\u001b[0m\n\u001b[0;32m----> 1\u001b[0;31m \u001b[0mdf\u001b[0m \u001b[0;34m=\u001b[0m \u001b[0mpd\u001b[0m\u001b[0;34m.\u001b[0m\u001b[0mread_csv\u001b[0m\u001b[0;34m(\u001b[0m\u001b[0;34m\"Mall_Customers.csv\"\u001b[0m\u001b[0;34m)\u001b[0m\u001b[0;34m\u001b[0m\u001b[0;34m\u001b[0m\u001b[0m\n\u001b[0m",
            "\u001b[0;31mNameError\u001b[0m: name 'pd' is not defined"
          ]
        }
      ]
    },
    {
      "cell_type": "code",
      "source": [
        "df.head()"
      ],
      "metadata": {
        "id": "xcK1gHypVlVD"
      },
      "execution_count": null,
      "outputs": []
    },
    {
      "cell_type": "code",
      "source": [
        "df.rename(columns = {'Annual Income (k$)':'Annual Income','Spending Score (1-100)':'Spending Score'}, inplace = True)\n",
        "df.drop('CustomerID', axis = 1, inplace = True)"
      ],
      "metadata": {
        "id": "vwpVr2g8VuAR"
      },
      "execution_count": null,
      "outputs": []
    },
    {
      "cell_type": "code",
      "source": [
        "df.head()"
      ],
      "metadata": {
        "id": "oWyScjREVvIS"
      },
      "execution_count": null,
      "outputs": []
    },
    {
      "cell_type": "markdown",
      "source": [
        "#Visualization"
      ],
      "metadata": {
        "id": "fA0LvPEMV4qa"
      }
    },
    {
      "cell_type": "markdown",
      "source": [
        "#Univariate Analysis"
      ],
      "metadata": {
        "id": "EdWYoQMdV8UF"
      }
    },
    {
      "cell_type": "code",
      "source": [
        "sns.countplot(x = 'Gender', data = df)"
      ],
      "metadata": {
        "id": "B82gJ_hsV_iI"
      },
      "execution_count": null,
      "outputs": []
    },
    {
      "cell_type": "code",
      "source": [
        "sns.histplot(y = 'Age', data = df, bins = 15)"
      ],
      "metadata": {
        "id": "ruly6BEHWFB4"
      },
      "execution_count": null,
      "outputs": []
    },
    {
      "cell_type": "markdown",
      "source": [
        "#Bi-Variate Analysis"
      ],
      "metadata": {
        "id": "11p2TgoBWH2K"
      }
    },
    {
      "cell_type": "code",
      "source": [
        "sns.lineplot(x = 'Age', y = 'Annual Income', data = df)"
      ],
      "metadata": {
        "id": "MEBFFkoRWLJf"
      },
      "execution_count": null,
      "outputs": []
    },
    {
      "cell_type": "code",
      "source": [
        "sns.scatterplot(x = 'Age', y ='Spending Score', data = df)"
      ],
      "metadata": {
        "id": "a0QNPWu1WQS0"
      },
      "execution_count": null,
      "outputs": []
    },
    {
      "cell_type": "markdown",
      "source": [
        "#Multi-Variate Analysis"
      ],
      "metadata": {
        "id": "yjQFaqHdWVoK"
      }
    },
    {
      "cell_type": "code",
      "source": [
        "sns.heatmap(df.corr())"
      ],
      "metadata": {
        "id": "RUv0rTVQWYos"
      },
      "execution_count": null,
      "outputs": []
    },
    {
      "cell_type": "code",
      "source": [
        "sns.scatterplot(x = 'Age', y ='Spending Score', hue = 'Gender', data = df)"
      ],
      "metadata": {
        "id": "vK3Qett_WeHa"
      },
      "execution_count": null,
      "outputs": []
    },
    {
      "cell_type": "markdown",
      "source": [
        "#Descriptive Statistics"
      ],
      "metadata": {
        "id": "n7S-c9tTWnAp"
      }
    },
    {
      "cell_type": "code",
      "source": [
        "df.describe(include = 'all')"
      ],
      "metadata": {
        "id": "C2_-eoljWp-D"
      },
      "execution_count": null,
      "outputs": []
    },
    {
      "cell_type": "code",
      "source": [
        "df.mean()"
      ],
      "metadata": {
        "id": "KEmxI8MkYiDi"
      },
      "execution_count": null,
      "outputs": []
    },
    {
      "cell_type": "code",
      "source": [
        "df.median()"
      ],
      "metadata": {
        "id": "1CUsxcBDYpi2"
      },
      "execution_count": null,
      "outputs": []
    },
    {
      "cell_type": "code",
      "source": [
        "df.mode().head(1)"
      ],
      "metadata": {
        "id": "dxmVauo7YsBz"
      },
      "execution_count": null,
      "outputs": []
    },
    {
      "cell_type": "code",
      "source": [
        "df.std()"
      ],
      "metadata": {
        "id": "yDZNfThNYvqs"
      },
      "execution_count": null,
      "outputs": []
    },
    {
      "cell_type": "markdown",
      "source": [
        "#Handling Missing Values"
      ],
      "metadata": {
        "id": "qUBFWsvqY1j7"
      }
    },
    {
      "cell_type": "markdown",
      "source": [
        "#There aren't any missing values"
      ],
      "metadata": {
        "id": "bAWGcibDY228"
      }
    },
    {
      "cell_type": "code",
      "source": [
        "df.isnull().sum()"
      ],
      "metadata": {
        "id": "Wwv3F2YgY6m0"
      },
      "execution_count": null,
      "outputs": []
    },
    {
      "cell_type": "markdown",
      "source": [
        "#Finding outliers"
      ],
      "metadata": {
        "id": "j8hEu4aXZAtT"
      }
    },
    {
      "cell_type": "code",
      "source": [
        "df.boxplot()"
      ],
      "metadata": {
        "id": "R17Zg_khZENm"
      },
      "execution_count": null,
      "outputs": []
    },
    {
      "cell_type": "markdown",
      "source": [
        "#Outlier is present only in the Annual Income column"
      ],
      "metadata": {
        "id": "eJaQIkExZJHm"
      }
    },
    {
      "cell_type": "markdown",
      "source": [
        "#Number of outliers were two data points , so we discard it"
      ],
      "metadata": {
        "id": "SYCs65OiZKaH"
      }
    },
    {
      "cell_type": "code",
      "source": [
        "df = df.drop(df[df['Annual Income'] > 127].index)"
      ],
      "metadata": {
        "id": "FfBNleoeZN6B"
      },
      "execution_count": null,
      "outputs": []
    },
    {
      "cell_type": "code",
      "source": [
        "df.head()"
      ],
      "metadata": {
        "id": "-2IXTSg4ZQ0H"
      },
      "execution_count": null,
      "outputs": []
    },
    {
      "cell_type": "code",
      "source": [
        "df.boxplot()"
      ],
      "metadata": {
        "id": "h8QpasNyZU3A"
      },
      "execution_count": null,
      "outputs": []
    },
    {
      "cell_type": "code",
      "source": [
        "df.info()"
      ],
      "metadata": {
        "id": "bpTeWoVBZY2O"
      },
      "execution_count": null,
      "outputs": []
    },
    {
      "cell_type": "markdown",
      "source": [
        "#Checking for categorical variables"
      ],
      "metadata": {
        "id": "Ghw-M_VBZbyU"
      }
    },
    {
      "cell_type": "code",
      "source": [
        "from sklearn.preprocessing import LabelEncoder"
      ],
      "metadata": {
        "id": "CPG8VVZIZdQA"
      },
      "execution_count": null,
      "outputs": []
    },
    {
      "cell_type": "markdown",
      "source": [],
      "metadata": {
        "id": "6fwIf8HRVPzd"
      }
    },
    {
      "cell_type": "code",
      "source": [
        "le = LabelEncoder()"
      ],
      "metadata": {
        "id": "rRNUW4ZkZyoP"
      },
      "execution_count": null,
      "outputs": []
    },
    {
      "cell_type": "code",
      "source": [
        "df['Gender'] = le.fit_transform(df['Gender'])"
      ],
      "metadata": {
        "id": "BGoRRNNMZ2e4"
      },
      "execution_count": null,
      "outputs": []
    },
    {
      "cell_type": "code",
      "source": [
        "df.head()"
      ],
      "metadata": {
        "id": "MTEZHZxkZ4_7"
      },
      "execution_count": null,
      "outputs": []
    },
    {
      "cell_type": "markdown",
      "source": [
        "#Scaling the data"
      ],
      "metadata": {
        "id": "rYZFuf3KaCMO"
      }
    },
    {
      "cell_type": "code",
      "source": [
        "from sklearn.preprocessing import MinMaxScaler\n",
        "mms = MinMaxScaler()"
      ],
      "metadata": {
        "id": "hlB1_kA7aF-9"
      },
      "execution_count": null,
      "outputs": []
    },
    {
      "cell_type": "code",
      "source": [
        "df_scaled = mms.fit_transform(df)"
      ],
      "metadata": {
        "id": "wnC6iX_raK8W"
      },
      "execution_count": null,
      "outputs": []
    },
    {
      "cell_type": "code",
      "source": [
        "df_scaled"
      ],
      "metadata": {
        "id": "R1gyCRd3aNKJ"
      },
      "execution_count": null,
      "outputs": []
    },
    {
      "cell_type": "code",
      "source": [
        "df_scaled.shape"
      ],
      "metadata": {
        "id": "B3yCjhPQaQpZ"
      },
      "execution_count": null,
      "outputs": []
    },
    {
      "cell_type": "markdown",
      "source": [
        "#Performing clustering"
      ],
      "metadata": {
        "id": "PBj_adqAaUTy"
      }
    },
    {
      "cell_type": "code",
      "source": [
        "from sklearn.cluster import KMeans\n",
        "km = KMeans(n_clusters = 5)\n",
        "cluster = km.fit_predict(df_scaled)"
      ],
      "metadata": {
        "id": "m88pa-MFaV3L"
      },
      "execution_count": null,
      "outputs": []
    },
    {
      "cell_type": "code",
      "source": [
        "cluster"
      ],
      "metadata": {
        "id": "hJn9Ph_RaamQ"
      },
      "execution_count": null,
      "outputs": []
    },
    {
      "cell_type": "code",
      "source": [
        "np.unique(cluster)"
      ],
      "metadata": {
        "id": "ED_hEfPQac-w"
      },
      "execution_count": null,
      "outputs": []
    },
    {
      "cell_type": "code",
      "source": [
        "cluster.shape"
      ],
      "metadata": {
        "id": "nJXhgGzmae7X"
      },
      "execution_count": null,
      "outputs": []
    },
    {
      "cell_type": "markdown",
      "source": [
        "#Adding cluster data with primary data"
      ],
      "metadata": {
        "id": "_m3lzt27ahWr"
      }
    },
    {
      "cell_type": "code",
      "source": [
        "names = df.columns"
      ],
      "metadata": {
        "id": "uSi9uVPUaipr"
      },
      "execution_count": null,
      "outputs": []
    },
    {
      "cell_type": "code",
      "source": [
        "new_df = pd.DataFrame(df_scaled, columns = names)"
      ],
      "metadata": {
        "id": "Nn1cs8SuamyR"
      },
      "execution_count": null,
      "outputs": []
    },
    {
      "cell_type": "code",
      "source": [
        "new_df.head()"
      ],
      "metadata": {
        "id": "eNwQW3yzao5W"
      },
      "execution_count": null,
      "outputs": []
    },
    {
      "cell_type": "code",
      "source": [
        "new_df['clus'] = pd.Series(cluster)"
      ],
      "metadata": {
        "id": "ZgjD6lFtarbJ"
      },
      "execution_count": null,
      "outputs": []
    },
    {
      "cell_type": "code",
      "source": [
        "new_df.head()"
      ],
      "metadata": {
        "id": "Zzuuqwg-atvs"
      },
      "execution_count": null,
      "outputs": []
    },
    {
      "cell_type": "markdown",
      "source": [
        "#Splitting data into dependent and independent variables"
      ],
      "metadata": {
        "id": "DrC3MB9uawkM"
      }
    },
    {
      "cell_type": "code",
      "source": [
        "# X is independent variable and y is dependent\n",
        "X = new_df.iloc[:,:4]\n",
        "y = new_df.iloc[:,4:]"
      ],
      "metadata": {
        "id": "gbN6hIj3azAJ"
      },
      "execution_count": null,
      "outputs": []
    },
    {
      "cell_type": "code",
      "source": [
        "X.shape"
      ],
      "metadata": {
        "id": "Ag1NbWkZa2Oa"
      },
      "execution_count": null,
      "outputs": []
    },
    {
      "cell_type": "code",
      "source": [
        "y.shape"
      ],
      "metadata": {
        "id": "WZL_uZLJa5Ct"
      },
      "execution_count": null,
      "outputs": []
    },
    {
      "cell_type": "markdown",
      "source": [
        "#Splitting into training and testing datasets"
      ],
      "metadata": {
        "id": "-v2DNoZNdrbx"
      }
    },
    {
      "cell_type": "code",
      "source": [
        "from sklearn.model_selection import train_test_split\n",
        "X_train,X_test,y_train,y_test = train_test_split(X,y,test_size=0.25,random_state=1)"
      ],
      "metadata": {
        "id": "Gvxyjgb_dvmD"
      },
      "execution_count": null,
      "outputs": []
    },
    {
      "cell_type": "code",
      "source": [
        "X_train.shape"
      ],
      "metadata": {
        "id": "UPF0fqIsdz_x"
      },
      "execution_count": null,
      "outputs": []
    },
    {
      "cell_type": "code",
      "source": [
        "y_train.shape"
      ],
      "metadata": {
        "id": "p8bNCNQGd105"
      },
      "execution_count": null,
      "outputs": []
    },
    {
      "cell_type": "code",
      "source": [
        "X_test.shape"
      ],
      "metadata": {
        "id": "BOWJghKhd5TW"
      },
      "execution_count": null,
      "outputs": []
    },
    {
      "cell_type": "code",
      "source": [
        "y_test.shape"
      ],
      "metadata": {
        "id": "pljfjPYFd7iH"
      },
      "execution_count": null,
      "outputs": []
    },
    {
      "cell_type": "markdown",
      "source": [
        "#Building the model"
      ],
      "metadata": {
        "id": "yL8lbXaOeB6d"
      }
    },
    {
      "cell_type": "code",
      "source": [
        "from sklearn.svm import SVC\n",
        "svm = SVC(kernel = 'linear')"
      ],
      "metadata": {
        "id": "VPwO9hcueFI3"
      },
      "execution_count": null,
      "outputs": []
    },
    {
      "cell_type": "markdown",
      "source": [
        "#Train the model"
      ],
      "metadata": {
        "id": "pAwsX7soeJw_"
      }
    },
    {
      "cell_type": "code",
      "source": [
        "svm.fit(X_train,y_train)"
      ],
      "metadata": {
        "id": "rJsNX80SeIez"
      },
      "execution_count": null,
      "outputs": []
    },
    {
      "cell_type": "code",
      "source": [
        "SVC(kernel='linear')"
      ],
      "metadata": {
        "id": "zYzNpPn-euVz"
      },
      "execution_count": null,
      "outputs": []
    },
    {
      "cell_type": "markdown",
      "source": [
        "#Test the model"
      ],
      "metadata": {
        "id": "diQ_6IJ7ex1Q"
      }
    },
    {
      "cell_type": "code",
      "source": [
        "pred_test = svm.predict(X_test)"
      ],
      "metadata": {
        "id": "jWaNyQjUe6pE"
      },
      "execution_count": null,
      "outputs": []
    },
    {
      "cell_type": "code",
      "source": [
        "pred_test"
      ],
      "metadata": {
        "id": "ddCqoa9le9sN"
      },
      "execution_count": null,
      "outputs": []
    },
    {
      "cell_type": "code",
      "source": [
        "y_test.head()"
      ],
      "metadata": {
        "id": "QkRtlrikffgV"
      },
      "execution_count": null,
      "outputs": []
    },
    {
      "cell_type": "markdown",
      "source": [
        "#Evaluation Metrics"
      ],
      "metadata": {
        "id": "q4c53aIYfjxq"
      }
    },
    {
      "cell_type": "code",
      "source": [
        "from sklearn.metrics import accuracy_score, confusion_matrix\n",
        "accuracy_score(pred_test,y_test)"
      ],
      "metadata": {
        "id": "vEsNaffifnSE"
      },
      "execution_count": null,
      "outputs": []
    },
    {
      "cell_type": "code",
      "source": [
        "confusion_matrix(pred_test,y_test)"
      ],
      "metadata": {
        "id": "FuCbfcEhfu4R"
      },
      "execution_count": null,
      "outputs": []
    }
  ]
}