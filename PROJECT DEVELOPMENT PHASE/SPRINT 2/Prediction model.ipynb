{
 "cells": [
  {
   "cell_type": "code",
   "execution_count": 18,
   "id": "9073bac6",
   "metadata": {},
   "outputs": [],
   "source": [
    "#import libraries\n",
    "import pandas as pd\n",
    "import numpy as np\n",
    "import matplotlib.pyplot as plt\n",
    "import seaborn as sns\n",
    "from matplotlib import rcParams"
   ]
  },
  {
   "cell_type": "code",
   "execution_count": 19,
   "id": "5ce28648",
   "metadata": {},
   "outputs": [],
   "source": [
    "import os, types\n",
    "import pandas as pd\n",
    "from botocore.client import Config\n",
    "import ibm_boto3\n",
    "\n",
    "def __iter__(self): return 0\n",
    "\n",
    "# @hidden_cell\n",
    "# The following code accesses a file in your IBM Cloud Object Storage. It includes your credentials.\n",
    "# You might want to remove those credentials before you share the notebook.\n",
    "cos_client = ibm_boto3.client(service_name='s3',\n",
    "    ibm_api_key_id='9aSkuMDufRQ-_cGNUoBz7Lt6oBI_rXUiZ_yao-U4oncs',\n",
    "    ibm_auth_endpoint=\"https://iam.cloud.ibm.com/oidc/token\",\n",
    "    config=Config(signature_version='oauth'),\n",
    "    endpoint_url='https://s3.private.us.cloud-object-storage.appdomain.cloud')\n",
    "\n",
    "bucket = 'flightdelayprediction-donotdelete-pr-ocgt3z2vhznocj'\n",
    "object_key = 'flightdata2.xlsx'\n",
    "\n",
    "body = cos_client.get_object(Bucket=bucket,Key=object_key)['Body']\n",
    "df= pd.read_excel(body.read())"
   ]
  },
  {
   "cell_type": "code",
   "execution_count": 20,
   "id": "6065917b",
   "metadata": {},
   "outputs": [
    {
     "data": {
      "text/html": [
       "<div>\n",
       "<style scoped>\n",
       "    .dataframe tbody tr th:only-of-type {\n",
       "        vertical-align: middle;\n",
       "    }\n",
       "\n",
       "    .dataframe tbody tr th {\n",
       "        vertical-align: top;\n",
       "    }\n",
       "\n",
       "    .dataframe thead th {\n",
       "        text-align: right;\n",
       "    }\n",
       "</style>\n",
       "<table border=\"1\" class=\"dataframe\">\n",
       "  <thead>\n",
       "    <tr style=\"text-align: right;\">\n",
       "      <th></th>\n",
       "      <th>YEAR</th>\n",
       "      <th>QUARTER</th>\n",
       "      <th>MONTH</th>\n",
       "      <th>DAY_OF_MONTH</th>\n",
       "      <th>DAY_OF_WEEK</th>\n",
       "      <th>UNIQUE_CARRIER</th>\n",
       "      <th>TAIL_NUM</th>\n",
       "      <th>FL_NUM</th>\n",
       "      <th>ORIGIN_AIRPORT_ID</th>\n",
       "      <th>ORIGIN</th>\n",
       "      <th>...</th>\n",
       "      <th>ARR_TIME.1</th>\n",
       "      <th>ARR_DELAY</th>\n",
       "      <th>ARR_DEL15</th>\n",
       "      <th>CANCELLED</th>\n",
       "      <th>DIVERTED</th>\n",
       "      <th>CRS_ELAPSED_TIME1</th>\n",
       "      <th>ACTUAL_ELAPSED_TIME1</th>\n",
       "      <th>CRS_ELAPSED_TIME</th>\n",
       "      <th>ACTUAL_ELAPSED_TIME</th>\n",
       "      <th>DISTANCE</th>\n",
       "    </tr>\n",
       "  </thead>\n",
       "  <tbody>\n",
       "    <tr>\n",
       "      <th>0</th>\n",
       "      <td>2016</td>\n",
       "      <td>1</td>\n",
       "      <td>1</td>\n",
       "      <td>1</td>\n",
       "      <td>5</td>\n",
       "      <td>DL</td>\n",
       "      <td>N836DN</td>\n",
       "      <td>1399</td>\n",
       "      <td>10397</td>\n",
       "      <td>ATL</td>\n",
       "      <td>...</td>\n",
       "      <td>2102.0</td>\n",
       "      <td>-41.0</td>\n",
       "      <td>0.0</td>\n",
       "      <td>0</td>\n",
       "      <td>0</td>\n",
       "      <td>05:38:00</td>\n",
       "      <td>04:55:00</td>\n",
       "      <td>338</td>\n",
       "      <td>295.0</td>\n",
       "      <td>2182</td>\n",
       "    </tr>\n",
       "    <tr>\n",
       "      <th>1</th>\n",
       "      <td>2016</td>\n",
       "      <td>1</td>\n",
       "      <td>1</td>\n",
       "      <td>1</td>\n",
       "      <td>5</td>\n",
       "      <td>DL</td>\n",
       "      <td>N964DN</td>\n",
       "      <td>1476</td>\n",
       "      <td>11433</td>\n",
       "      <td>DTW</td>\n",
       "      <td>...</td>\n",
       "      <td>1439.0</td>\n",
       "      <td>4.0</td>\n",
       "      <td>0.0</td>\n",
       "      <td>0</td>\n",
       "      <td>0</td>\n",
       "      <td>01:50:00</td>\n",
       "      <td>01:55:00</td>\n",
       "      <td>110</td>\n",
       "      <td>115.0</td>\n",
       "      <td>528</td>\n",
       "    </tr>\n",
       "    <tr>\n",
       "      <th>2</th>\n",
       "      <td>2016</td>\n",
       "      <td>1</td>\n",
       "      <td>1</td>\n",
       "      <td>1</td>\n",
       "      <td>5</td>\n",
       "      <td>DL</td>\n",
       "      <td>N813DN</td>\n",
       "      <td>1597</td>\n",
       "      <td>10397</td>\n",
       "      <td>ATL</td>\n",
       "      <td>...</td>\n",
       "      <td>1142.0</td>\n",
       "      <td>-33.0</td>\n",
       "      <td>0.0</td>\n",
       "      <td>0</td>\n",
       "      <td>0</td>\n",
       "      <td>05:35:00</td>\n",
       "      <td>05:00:00</td>\n",
       "      <td>335</td>\n",
       "      <td>300.0</td>\n",
       "      <td>2182</td>\n",
       "    </tr>\n",
       "    <tr>\n",
       "      <th>3</th>\n",
       "      <td>2016</td>\n",
       "      <td>1</td>\n",
       "      <td>1</td>\n",
       "      <td>1</td>\n",
       "      <td>5</td>\n",
       "      <td>DL</td>\n",
       "      <td>N587NW</td>\n",
       "      <td>1768</td>\n",
       "      <td>14747</td>\n",
       "      <td>SEA</td>\n",
       "      <td>...</td>\n",
       "      <td>1345.0</td>\n",
       "      <td>10.0</td>\n",
       "      <td>0.0</td>\n",
       "      <td>0</td>\n",
       "      <td>0</td>\n",
       "      <td>03:16:00</td>\n",
       "      <td>03:25:00</td>\n",
       "      <td>196</td>\n",
       "      <td>205.0</td>\n",
       "      <td>1399</td>\n",
       "    </tr>\n",
       "    <tr>\n",
       "      <th>4</th>\n",
       "      <td>2016</td>\n",
       "      <td>1</td>\n",
       "      <td>1</td>\n",
       "      <td>1</td>\n",
       "      <td>5</td>\n",
       "      <td>DL</td>\n",
       "      <td>N836DN</td>\n",
       "      <td>1823</td>\n",
       "      <td>14747</td>\n",
       "      <td>SEA</td>\n",
       "      <td>...</td>\n",
       "      <td>615.0</td>\n",
       "      <td>8.0</td>\n",
       "      <td>0.0</td>\n",
       "      <td>0</td>\n",
       "      <td>0</td>\n",
       "      <td>04:07:00</td>\n",
       "      <td>04:19:00</td>\n",
       "      <td>247</td>\n",
       "      <td>259.0</td>\n",
       "      <td>1927</td>\n",
       "    </tr>\n",
       "  </tbody>\n",
       "</table>\n",
       "<p>5 rows × 31 columns</p>\n",
       "</div>"
      ],
      "text/plain": [
       "   YEAR  QUARTER  MONTH  DAY_OF_MONTH  DAY_OF_WEEK UNIQUE_CARRIER TAIL_NUM  \\\n",
       "0  2016        1      1             1            5             DL   N836DN   \n",
       "1  2016        1      1             1            5             DL   N964DN   \n",
       "2  2016        1      1             1            5             DL   N813DN   \n",
       "3  2016        1      1             1            5             DL   N587NW   \n",
       "4  2016        1      1             1            5             DL   N836DN   \n",
       "\n",
       "   FL_NUM  ORIGIN_AIRPORT_ID ORIGIN  ...  ARR_TIME.1 ARR_DELAY ARR_DEL15  \\\n",
       "0    1399              10397    ATL  ...      2102.0     -41.0       0.0   \n",
       "1    1476              11433    DTW  ...      1439.0       4.0       0.0   \n",
       "2    1597              10397    ATL  ...      1142.0     -33.0       0.0   \n",
       "3    1768              14747    SEA  ...      1345.0      10.0       0.0   \n",
       "4    1823              14747    SEA  ...       615.0       8.0       0.0   \n",
       "\n",
       "   CANCELLED DIVERTED  CRS_ELAPSED_TIME1  ACTUAL_ELAPSED_TIME1  \\\n",
       "0          0        0           05:38:00              04:55:00   \n",
       "1          0        0           01:50:00              01:55:00   \n",
       "2          0        0           05:35:00              05:00:00   \n",
       "3          0        0           03:16:00              03:25:00   \n",
       "4          0        0           04:07:00              04:19:00   \n",
       "\n",
       "   CRS_ELAPSED_TIME ACTUAL_ELAPSED_TIME  DISTANCE  \n",
       "0               338               295.0      2182  \n",
       "1               110               115.0       528  \n",
       "2               335               300.0      2182  \n",
       "3               196               205.0      1399  \n",
       "4               247               259.0      1927  \n",
       "\n",
       "[5 rows x 31 columns]"
      ]
     },
     "execution_count": 20,
     "metadata": {},
     "output_type": "execute_result"
    }
   ],
   "source": [
    "df.head()"
   ]
  },
  {
   "cell_type": "code",
   "execution_count": 21,
   "id": "8ef86246",
   "metadata": {},
   "outputs": [],
   "source": [
    "from datetime import datetime\n"
   ]
  },
  {
   "cell_type": "code",
   "execution_count": 22,
   "id": "d0311af6",
   "metadata": {},
   "outputs": [],
   "source": [
    "import datetime as dt"
   ]
  },
  {
   "cell_type": "code",
   "execution_count": 23,
   "id": "40a4aa5c",
   "metadata": {},
   "outputs": [],
   "source": [
    "from datetime import datetime"
   ]
  },
  {
   "cell_type": "code",
   "execution_count": null,
   "id": "ba1ff894",
   "metadata": {},
   "outputs": [],
   "source": []
  },
  {
   "cell_type": "code",
   "execution_count": 61,
   "id": "99c4baa1",
   "metadata": {},
   "outputs": [
    {
     "data": {
      "text/plain": [
       "'/home/wsuser/work'"
      ]
     },
     "execution_count": 61,
     "metadata": {},
     "output_type": "execute_result"
    }
   ],
   "source": [
    "pwd"
   ]
  },
  {
   "cell_type": "code",
   "execution_count": 24,
   "id": "e757ab9f",
   "metadata": {},
   "outputs": [
    {
     "data": {
      "text/plain": [
       "(11231, 31)"
      ]
     },
     "execution_count": 24,
     "metadata": {},
     "output_type": "execute_result"
    }
   ],
   "source": [
    "df.shape"
   ]
  },
  {
   "cell_type": "code",
   "execution_count": 25,
   "id": "61e6c0d9",
   "metadata": {},
   "outputs": [
    {
     "name": "stdout",
     "output_type": "stream",
     "text": [
      "<class 'pandas.core.frame.DataFrame'>\n",
      "RangeIndex: 11231 entries, 0 to 11230\n",
      "Data columns (total 31 columns):\n",
      " #   Column                Non-Null Count  Dtype  \n",
      "---  ------                --------------  -----  \n",
      " 0   YEAR                  11231 non-null  int64  \n",
      " 1   QUARTER               11231 non-null  int64  \n",
      " 2   MONTH                 11231 non-null  int64  \n",
      " 3   DAY_OF_MONTH          11231 non-null  int64  \n",
      " 4   DAY_OF_WEEK           11231 non-null  int64  \n",
      " 5   UNIQUE_CARRIER        11231 non-null  object \n",
      " 6   TAIL_NUM              11231 non-null  object \n",
      " 7   FL_NUM                11231 non-null  int64  \n",
      " 8   ORIGIN_AIRPORT_ID     11231 non-null  int64  \n",
      " 9   ORIGIN                11231 non-null  object \n",
      " 10  DEST_AIRPORT_ID       11231 non-null  int64  \n",
      " 11  DEST                  11231 non-null  object \n",
      " 12  CRS_DEP_TIME          11231 non-null  object \n",
      " 13  CRS_DEP_TIME.1        11231 non-null  int64  \n",
      " 14  DEP_TIME              11124 non-null  object \n",
      " 15  DEP_TIME.1            11124 non-null  float64\n",
      " 16  DEP_DELAY             11124 non-null  float64\n",
      " 17  DEP_DEL15             11124 non-null  float64\n",
      " 18  CRS_ARR_TIME          11231 non-null  object \n",
      " 19  CRS_ARR_TIME.1        11231 non-null  int64  \n",
      " 20  ARR_TIME              11116 non-null  object \n",
      " 21  ARR_TIME.1            11116 non-null  float64\n",
      " 22  ARR_DELAY             11043 non-null  float64\n",
      " 23  ARR_DEL15             11043 non-null  float64\n",
      " 24  CANCELLED             11231 non-null  int64  \n",
      " 25  DIVERTED              11231 non-null  int64  \n",
      " 26  CRS_ELAPSED_TIME1     11231 non-null  object \n",
      " 27  ACTUAL_ELAPSED_TIME1  11231 non-null  object \n",
      " 28  CRS_ELAPSED_TIME      11231 non-null  int64  \n",
      " 29  ACTUAL_ELAPSED_TIME   11043 non-null  float64\n",
      " 30  DISTANCE              11231 non-null  int64  \n",
      "dtypes: float64(7), int64(14), object(10)\n",
      "memory usage: 2.7+ MB\n"
     ]
    }
   ],
   "source": [
    "df.info()"
   ]
  },
  {
   "cell_type": "code",
   "execution_count": 26,
   "id": "605bdb74",
   "metadata": {
    "scrolled": true
   },
   "outputs": [
    {
     "data": {
      "text/plain": [
       "YEAR                    False\n",
       "QUARTER                 False\n",
       "MONTH                   False\n",
       "DAY_OF_MONTH            False\n",
       "DAY_OF_WEEK             False\n",
       "UNIQUE_CARRIER          False\n",
       "TAIL_NUM                False\n",
       "FL_NUM                  False\n",
       "ORIGIN_AIRPORT_ID       False\n",
       "ORIGIN                  False\n",
       "DEST_AIRPORT_ID         False\n",
       "DEST                    False\n",
       "CRS_DEP_TIME            False\n",
       "CRS_DEP_TIME.1          False\n",
       "DEP_TIME                 True\n",
       "DEP_TIME.1               True\n",
       "DEP_DELAY                True\n",
       "DEP_DEL15                True\n",
       "CRS_ARR_TIME            False\n",
       "CRS_ARR_TIME.1          False\n",
       "ARR_TIME                 True\n",
       "ARR_TIME.1               True\n",
       "ARR_DELAY                True\n",
       "ARR_DEL15                True\n",
       "CANCELLED               False\n",
       "DIVERTED                False\n",
       "CRS_ELAPSED_TIME1       False\n",
       "ACTUAL_ELAPSED_TIME1    False\n",
       "CRS_ELAPSED_TIME        False\n",
       "ACTUAL_ELAPSED_TIME      True\n",
       "DISTANCE                False\n",
       "dtype: bool"
      ]
     },
     "execution_count": 26,
     "metadata": {},
     "output_type": "execute_result"
    }
   ],
   "source": [
    "df.isnull().any()"
   ]
  },
  {
   "cell_type": "code",
   "execution_count": 31,
   "id": "3c38d88f",
   "metadata": {},
   "outputs": [],
   "source": [
    "df['DEP_DELAY'].fillna(df['DEP_DELAY'].median(),inplace=True)"
   ]
  },
  {
   "cell_type": "code",
   "execution_count": 32,
   "id": "a7a050e1",
   "metadata": {},
   "outputs": [
    {
     "data": {
      "text/html": [
       "<div>\n",
       "<style scoped>\n",
       "    .dataframe tbody tr th:only-of-type {\n",
       "        vertical-align: middle;\n",
       "    }\n",
       "\n",
       "    .dataframe tbody tr th {\n",
       "        vertical-align: top;\n",
       "    }\n",
       "\n",
       "    .dataframe thead th {\n",
       "        text-align: right;\n",
       "    }\n",
       "</style>\n",
       "<table border=\"1\" class=\"dataframe\">\n",
       "  <thead>\n",
       "    <tr style=\"text-align: right;\">\n",
       "      <th></th>\n",
       "      <th>YEAR</th>\n",
       "      <th>QUARTER</th>\n",
       "      <th>MONTH</th>\n",
       "      <th>DAY_OF_MONTH</th>\n",
       "      <th>DAY_OF_WEEK</th>\n",
       "      <th>FL_NUM</th>\n",
       "      <th>ORIGIN_AIRPORT_ID</th>\n",
       "      <th>DEST_AIRPORT_ID</th>\n",
       "      <th>CRS_DEP_TIME.1</th>\n",
       "      <th>DEP_TIME.1</th>\n",
       "      <th>...</th>\n",
       "      <th>DEP_DEL15</th>\n",
       "      <th>CRS_ARR_TIME.1</th>\n",
       "      <th>ARR_TIME.1</th>\n",
       "      <th>ARR_DELAY</th>\n",
       "      <th>ARR_DEL15</th>\n",
       "      <th>CANCELLED</th>\n",
       "      <th>DIVERTED</th>\n",
       "      <th>CRS_ELAPSED_TIME</th>\n",
       "      <th>ACTUAL_ELAPSED_TIME</th>\n",
       "      <th>DISTANCE</th>\n",
       "    </tr>\n",
       "  </thead>\n",
       "  <tbody>\n",
       "    <tr>\n",
       "      <th>count</th>\n",
       "      <td>11231.0</td>\n",
       "      <td>11231.000000</td>\n",
       "      <td>11231.000000</td>\n",
       "      <td>11231.000000</td>\n",
       "      <td>11231.000000</td>\n",
       "      <td>11231.000000</td>\n",
       "      <td>11231.000000</td>\n",
       "      <td>11231.000000</td>\n",
       "      <td>11231.000000</td>\n",
       "      <td>11124.000000</td>\n",
       "      <td>...</td>\n",
       "      <td>11231.000000</td>\n",
       "      <td>11231.000000</td>\n",
       "      <td>11116.000000</td>\n",
       "      <td>11043.000000</td>\n",
       "      <td>11043.000000</td>\n",
       "      <td>11231.000000</td>\n",
       "      <td>11231.000000</td>\n",
       "      <td>11231.000000</td>\n",
       "      <td>11043.000000</td>\n",
       "      <td>11231.000000</td>\n",
       "    </tr>\n",
       "    <tr>\n",
       "      <th>mean</th>\n",
       "      <td>2016.0</td>\n",
       "      <td>2.544475</td>\n",
       "      <td>6.628973</td>\n",
       "      <td>15.790758</td>\n",
       "      <td>3.960199</td>\n",
       "      <td>1334.325617</td>\n",
       "      <td>12334.516695</td>\n",
       "      <td>12302.274508</td>\n",
       "      <td>1320.798326</td>\n",
       "      <td>1327.189410</td>\n",
       "      <td>...</td>\n",
       "      <td>0.141483</td>\n",
       "      <td>1537.312795</td>\n",
       "      <td>1523.978499</td>\n",
       "      <td>-2.573123</td>\n",
       "      <td>0.124513</td>\n",
       "      <td>0.010150</td>\n",
       "      <td>0.006589</td>\n",
       "      <td>190.652124</td>\n",
       "      <td>179.661233</td>\n",
       "      <td>1161.031965</td>\n",
       "    </tr>\n",
       "    <tr>\n",
       "      <th>std</th>\n",
       "      <td>0.0</td>\n",
       "      <td>1.090701</td>\n",
       "      <td>3.354678</td>\n",
       "      <td>8.782056</td>\n",
       "      <td>1.995257</td>\n",
       "      <td>811.875227</td>\n",
       "      <td>1595.026510</td>\n",
       "      <td>1601.988550</td>\n",
       "      <td>490.737845</td>\n",
       "      <td>500.306462</td>\n",
       "      <td>...</td>\n",
       "      <td>0.348535</td>\n",
       "      <td>502.512494</td>\n",
       "      <td>512.536041</td>\n",
       "      <td>39.232521</td>\n",
       "      <td>0.330181</td>\n",
       "      <td>0.100241</td>\n",
       "      <td>0.080908</td>\n",
       "      <td>78.386317</td>\n",
       "      <td>77.940399</td>\n",
       "      <td>643.683379</td>\n",
       "    </tr>\n",
       "    <tr>\n",
       "      <th>min</th>\n",
       "      <td>2016.0</td>\n",
       "      <td>1.000000</td>\n",
       "      <td>1.000000</td>\n",
       "      <td>1.000000</td>\n",
       "      <td>1.000000</td>\n",
       "      <td>7.000000</td>\n",
       "      <td>10397.000000</td>\n",
       "      <td>10397.000000</td>\n",
       "      <td>10.000000</td>\n",
       "      <td>1.000000</td>\n",
       "      <td>...</td>\n",
       "      <td>0.000000</td>\n",
       "      <td>2.000000</td>\n",
       "      <td>1.000000</td>\n",
       "      <td>-67.000000</td>\n",
       "      <td>0.000000</td>\n",
       "      <td>0.000000</td>\n",
       "      <td>0.000000</td>\n",
       "      <td>93.000000</td>\n",
       "      <td>75.000000</td>\n",
       "      <td>509.000000</td>\n",
       "    </tr>\n",
       "    <tr>\n",
       "      <th>25%</th>\n",
       "      <td>2016.0</td>\n",
       "      <td>2.000000</td>\n",
       "      <td>4.000000</td>\n",
       "      <td>8.000000</td>\n",
       "      <td>2.000000</td>\n",
       "      <td>624.000000</td>\n",
       "      <td>10397.000000</td>\n",
       "      <td>10397.000000</td>\n",
       "      <td>905.000000</td>\n",
       "      <td>905.000000</td>\n",
       "      <td>...</td>\n",
       "      <td>0.000000</td>\n",
       "      <td>1130.000000</td>\n",
       "      <td>1135.000000</td>\n",
       "      <td>-19.000000</td>\n",
       "      <td>0.000000</td>\n",
       "      <td>0.000000</td>\n",
       "      <td>0.000000</td>\n",
       "      <td>127.000000</td>\n",
       "      <td>117.000000</td>\n",
       "      <td>594.000000</td>\n",
       "    </tr>\n",
       "    <tr>\n",
       "      <th>50%</th>\n",
       "      <td>2016.0</td>\n",
       "      <td>3.000000</td>\n",
       "      <td>7.000000</td>\n",
       "      <td>16.000000</td>\n",
       "      <td>4.000000</td>\n",
       "      <td>1267.000000</td>\n",
       "      <td>12478.000000</td>\n",
       "      <td>12478.000000</td>\n",
       "      <td>1320.000000</td>\n",
       "      <td>1324.000000</td>\n",
       "      <td>...</td>\n",
       "      <td>0.000000</td>\n",
       "      <td>1559.000000</td>\n",
       "      <td>1547.000000</td>\n",
       "      <td>-10.000000</td>\n",
       "      <td>0.000000</td>\n",
       "      <td>0.000000</td>\n",
       "      <td>0.000000</td>\n",
       "      <td>159.000000</td>\n",
       "      <td>149.000000</td>\n",
       "      <td>907.000000</td>\n",
       "    </tr>\n",
       "    <tr>\n",
       "      <th>75%</th>\n",
       "      <td>2016.0</td>\n",
       "      <td>3.000000</td>\n",
       "      <td>9.000000</td>\n",
       "      <td>23.000000</td>\n",
       "      <td>6.000000</td>\n",
       "      <td>2032.000000</td>\n",
       "      <td>13487.000000</td>\n",
       "      <td>13487.000000</td>\n",
       "      <td>1735.000000</td>\n",
       "      <td>1739.000000</td>\n",
       "      <td>...</td>\n",
       "      <td>0.000000</td>\n",
       "      <td>1952.000000</td>\n",
       "      <td>1945.000000</td>\n",
       "      <td>1.000000</td>\n",
       "      <td>0.000000</td>\n",
       "      <td>0.000000</td>\n",
       "      <td>0.000000</td>\n",
       "      <td>255.000000</td>\n",
       "      <td>236.000000</td>\n",
       "      <td>1927.000000</td>\n",
       "    </tr>\n",
       "    <tr>\n",
       "      <th>max</th>\n",
       "      <td>2016.0</td>\n",
       "      <td>4.000000</td>\n",
       "      <td>12.000000</td>\n",
       "      <td>31.000000</td>\n",
       "      <td>7.000000</td>\n",
       "      <td>2853.000000</td>\n",
       "      <td>14747.000000</td>\n",
       "      <td>14747.000000</td>\n",
       "      <td>2359.000000</td>\n",
       "      <td>2400.000000</td>\n",
       "      <td>...</td>\n",
       "      <td>1.000000</td>\n",
       "      <td>2359.000000</td>\n",
       "      <td>2400.000000</td>\n",
       "      <td>615.000000</td>\n",
       "      <td>1.000000</td>\n",
       "      <td>1.000000</td>\n",
       "      <td>1.000000</td>\n",
       "      <td>397.000000</td>\n",
       "      <td>428.000000</td>\n",
       "      <td>2422.000000</td>\n",
       "    </tr>\n",
       "  </tbody>\n",
       "</table>\n",
       "<p>8 rows × 21 columns</p>\n",
       "</div>"
      ],
      "text/plain": [
       "          YEAR       QUARTER         MONTH  DAY_OF_MONTH   DAY_OF_WEEK  \\\n",
       "count  11231.0  11231.000000  11231.000000  11231.000000  11231.000000   \n",
       "mean    2016.0      2.544475      6.628973     15.790758      3.960199   \n",
       "std        0.0      1.090701      3.354678      8.782056      1.995257   \n",
       "min     2016.0      1.000000      1.000000      1.000000      1.000000   \n",
       "25%     2016.0      2.000000      4.000000      8.000000      2.000000   \n",
       "50%     2016.0      3.000000      7.000000     16.000000      4.000000   \n",
       "75%     2016.0      3.000000      9.000000     23.000000      6.000000   \n",
       "max     2016.0      4.000000     12.000000     31.000000      7.000000   \n",
       "\n",
       "             FL_NUM  ORIGIN_AIRPORT_ID  DEST_AIRPORT_ID  CRS_DEP_TIME.1  \\\n",
       "count  11231.000000       11231.000000     11231.000000    11231.000000   \n",
       "mean    1334.325617       12334.516695     12302.274508     1320.798326   \n",
       "std      811.875227        1595.026510      1601.988550      490.737845   \n",
       "min        7.000000       10397.000000     10397.000000       10.000000   \n",
       "25%      624.000000       10397.000000     10397.000000      905.000000   \n",
       "50%     1267.000000       12478.000000     12478.000000     1320.000000   \n",
       "75%     2032.000000       13487.000000     13487.000000     1735.000000   \n",
       "max     2853.000000       14747.000000     14747.000000     2359.000000   \n",
       "\n",
       "         DEP_TIME.1  ...     DEP_DEL15  CRS_ARR_TIME.1    ARR_TIME.1  \\\n",
       "count  11124.000000  ...  11231.000000    11231.000000  11116.000000   \n",
       "mean    1327.189410  ...      0.141483     1537.312795   1523.978499   \n",
       "std      500.306462  ...      0.348535      502.512494    512.536041   \n",
       "min        1.000000  ...      0.000000        2.000000      1.000000   \n",
       "25%      905.000000  ...      0.000000     1130.000000   1135.000000   \n",
       "50%     1324.000000  ...      0.000000     1559.000000   1547.000000   \n",
       "75%     1739.000000  ...      0.000000     1952.000000   1945.000000   \n",
       "max     2400.000000  ...      1.000000     2359.000000   2400.000000   \n",
       "\n",
       "          ARR_DELAY     ARR_DEL15     CANCELLED      DIVERTED  \\\n",
       "count  11043.000000  11043.000000  11231.000000  11231.000000   \n",
       "mean      -2.573123      0.124513      0.010150      0.006589   \n",
       "std       39.232521      0.330181      0.100241      0.080908   \n",
       "min      -67.000000      0.000000      0.000000      0.000000   \n",
       "25%      -19.000000      0.000000      0.000000      0.000000   \n",
       "50%      -10.000000      0.000000      0.000000      0.000000   \n",
       "75%        1.000000      0.000000      0.000000      0.000000   \n",
       "max      615.000000      1.000000      1.000000      1.000000   \n",
       "\n",
       "       CRS_ELAPSED_TIME  ACTUAL_ELAPSED_TIME      DISTANCE  \n",
       "count      11231.000000         11043.000000  11231.000000  \n",
       "mean         190.652124           179.661233   1161.031965  \n",
       "std           78.386317            77.940399    643.683379  \n",
       "min           93.000000            75.000000    509.000000  \n",
       "25%          127.000000           117.000000    594.000000  \n",
       "50%          159.000000           149.000000    907.000000  \n",
       "75%          255.000000           236.000000   1927.000000  \n",
       "max          397.000000           428.000000   2422.000000  \n",
       "\n",
       "[8 rows x 21 columns]"
      ]
     },
     "execution_count": 32,
     "metadata": {},
     "output_type": "execute_result"
    }
   ],
   "source": [
    "df.describe()"
   ]
  },
  {
   "cell_type": "code",
   "execution_count": 33,
   "id": "54c72a3d",
   "metadata": {},
   "outputs": [
    {
     "data": {
      "text/plain": [
       "ATL    3100\n",
       "MSP    2538\n",
       "DTW    2201\n",
       "SEA    2018\n",
       "JFK    1374\n",
       "Name: ORIGIN, dtype: int64"
      ]
     },
     "execution_count": 33,
     "metadata": {},
     "output_type": "execute_result"
    }
   ],
   "source": [
    "df.ORIGIN.value_counts()"
   ]
  },
  {
   "cell_type": "code",
   "execution_count": 34,
   "id": "fa62be3b",
   "metadata": {},
   "outputs": [
    {
     "data": {
      "text/plain": [
       "DL    11231\n",
       "Name: UNIQUE_CARRIER, dtype: int64"
      ]
     },
     "execution_count": 34,
     "metadata": {},
     "output_type": "execute_result"
    }
   ],
   "source": [
    "df.UNIQUE_CARRIER.value_counts()"
   ]
  },
  {
   "cell_type": "code",
   "execution_count": 35,
   "id": "7c0b1b95",
   "metadata": {},
   "outputs": [
    {
     "data": {
      "text/plain": [
       "10397    3100\n",
       "13487    2538\n",
       "11433    2201\n",
       "14747    2018\n",
       "12478    1374\n",
       "Name: ORIGIN_AIRPORT_ID, dtype: int64"
      ]
     },
     "execution_count": 35,
     "metadata": {},
     "output_type": "execute_result"
    }
   ],
   "source": [
    "df.ORIGIN_AIRPORT_ID.value_counts()"
   ]
  },
  {
   "cell_type": "code",
   "execution_count": 36,
   "id": "16f7d2ea",
   "metadata": {},
   "outputs": [
    {
     "data": {
      "text/plain": [
       "array(['ATL', 'DTW', 'SEA', 'MSP', 'JFK'], dtype=object)"
      ]
     },
     "execution_count": 36,
     "metadata": {},
     "output_type": "execute_result"
    }
   ],
   "source": [
    "df.ORIGIN.unique()"
   ]
  },
  {
   "cell_type": "code",
   "execution_count": 37,
   "id": "0d3bbcea",
   "metadata": {},
   "outputs": [
    {
     "data": {
      "text/plain": [
       "array([10397, 11433, 14747, 13487, 12478])"
      ]
     },
     "execution_count": 37,
     "metadata": {},
     "output_type": "execute_result"
    }
   ],
   "source": [
    "df.ORIGIN_AIRPORT_ID.unique()"
   ]
  },
  {
   "cell_type": "code",
   "execution_count": 38,
   "id": "caf8709b",
   "metadata": {},
   "outputs": [
    {
     "data": {
      "text/plain": [
       "array(['DL'], dtype=object)"
      ]
     },
     "execution_count": 38,
     "metadata": {},
     "output_type": "execute_result"
    }
   ],
   "source": [
    "df.UNIQUE_CARRIER.unique()"
   ]
  },
  {
   "cell_type": "code",
   "execution_count": 39,
   "id": "ea2c5fa3",
   "metadata": {},
   "outputs": [
    {
     "data": {
      "text/plain": [
       "<seaborn.axisgrid.FacetGrid at 0x7ff2e4382ee0>"
      ]
     },
     "execution_count": 39,
     "metadata": {},
     "output_type": "execute_result"
    },
    {
     "data": {
      "image/png": "[encoded data removed]",
      "text/plain": [
       "<Figure size 360x360 with 1 Axes>"
      ]
     },
     "metadata": {
      "needs_background": "light"
     },
     "output_type": "display_data"
    }
   ],
   "source": [
    "sns.displot(df.YEAR)"
   ]
  },
  {
   "cell_type": "code",
   "execution_count": 40,
   "id": "8775da0d",
   "metadata": {},
   "outputs": [
    {
     "data": {
      "text/plain": [
       "Text(0.5, 1.0, 'AIRPORT')"
      ]
     },
     "execution_count": 40,
     "metadata": {},
     "output_type": "execute_result"
    },
    {
     "data": {
      "image/png": "[encoded data removed]",
      "text/plain": [
       "<Figure size 432x288 with 1 Axes>"
      ]
     },
     "metadata": {},
     "output_type": "display_data"
    }
   ],
   "source": [
    "plt.pie(df.ORIGIN.value_counts(),labels=['ATL', 'DTW', 'SEA', 'MSP', 'JFK'],autopct=\"%1.1f%%\")\n",
    "plt.title('AIRPORT')"
   ]
  },
  {
   "cell_type": "code",
   "execution_count": 41,
   "id": "34fdfe30",
   "metadata": {},
   "outputs": [
    {
     "data": {
      "text/plain": [
       "<AxesSubplot:ylabel='ORIGIN'>"
      ]
     },
     "execution_count": 41,
     "metadata": {},
     "output_type": "execute_result"
    },
    {
     "data": {
      "image/png": "[encoded data removed]",
      "text/plain": [
       "<Figure size 432x288 with 1 Axes>"
      ]
     },
     "metadata": {
      "needs_background": "light"
     },
     "output_type": "display_data"
    }
   ],
   "source": [
    "sns.barplot(df.ORIGIN.value_counts().index,df.ORIGIN.value_counts())"
   ]
  },
  {
   "cell_type": "code",
   "execution_count": 42,
   "id": "06929a2a",
   "metadata": {},
   "outputs": [
    {
     "data": {
      "text/plain": [
       "array([[<AxesSubplot:title={'center':'YEAR'}>,\n",
       "        <AxesSubplot:title={'center':'QUARTER'}>,\n",
       "        <AxesSubplot:title={'center':'MONTH'}>,\n",
       "        <AxesSubplot:title={'center':'DAY_OF_MONTH'}>,\n",
       "        <AxesSubplot:title={'center':'DAY_OF_WEEK'}>],\n",
       "       [<AxesSubplot:title={'center':'FL_NUM'}>,\n",
       "        <AxesSubplot:title={'center':'ORIGIN_AIRPORT_ID'}>,\n",
       "        <AxesSubplot:title={'center':'DEST_AIRPORT_ID'}>,\n",
       "        <AxesSubplot:title={'center':'CRS_DEP_TIME.1'}>,\n",
       "        <AxesSubplot:title={'center':'DEP_TIME.1'}>],\n",
       "       [<AxesSubplot:title={'center':'DEP_DELAY'}>,\n",
       "        <AxesSubplot:title={'center':'DEP_DEL15'}>,\n",
       "        <AxesSubplot:title={'center':'CRS_ARR_TIME.1'}>,\n",
       "        <AxesSubplot:title={'center':'ARR_TIME.1'}>,\n",
       "        <AxesSubplot:title={'center':'ARR_DELAY'}>],\n",
       "       [<AxesSubplot:title={'center':'ARR_DEL15'}>,\n",
       "        <AxesSubplot:title={'center':'CANCELLED'}>,\n",
       "        <AxesSubplot:title={'center':'DIVERTED'}>,\n",
       "        <AxesSubplot:title={'center':'CRS_ELAPSED_TIME'}>,\n",
       "        <AxesSubplot:title={'center':'ACTUAL_ELAPSED_TIME'}>],\n",
       "       [<AxesSubplot:title={'center':'DISTANCE'}>, <AxesSubplot:>,\n",
       "        <AxesSubplot:>, <AxesSubplot:>, <AxesSubplot:>]], dtype=object)"
      ]
     },
     "execution_count": 42,
     "metadata": {},
     "output_type": "execute_result"
    },
    {
     "data": {
      "image/png": "[encoded data removed]",
      "text/plain": [
       "<Figure size 1440x1440 with 25 Axes>"
      ]
     },
     "metadata": {
      "needs_background": "light"
     },
     "output_type": "display_data"
    }
   ],
   "source": [
    "df.hist(figsize=(20,20))"
   ]
  },
  {
   "cell_type": "code",
   "execution_count": 43,
   "id": "90af69cc",
   "metadata": {},
   "outputs": [
    {
     "data": {
      "text/plain": [
       "<AxesSubplot:xlabel='QUARTER'>"
      ]
     },
     "execution_count": 43,
     "metadata": {},
     "output_type": "execute_result"
    },
    {
     "data": {
      "image/png": "[encoded data removed]",
      "text/plain": [
       "<Figure size 432x288 with 1 Axes>"
      ]
     },
     "metadata": {
      "needs_background": "light"
     },
     "output_type": "display_data"
    }
   ],
   "source": [
    "sns.boxplot(df.QUARTER)"
   ]
  },
  {
   "cell_type": "code",
   "execution_count": 44,
   "id": "4b952076",
   "metadata": {},
   "outputs": [
    {
     "data": {
      "text/plain": [
       "<AxesSubplot:xlabel='MONTH'>"
      ]
     },
     "execution_count": 44,
     "metadata": {},
     "output_type": "execute_result"
    },
    {
     "data": {
      "image/png": "[encoded data removed]",
      "text/plain": [
       "<Figure size 432x288 with 1 Axes>"
      ]
     },
     "metadata": {
      "needs_background": "light"
     },
     "output_type": "display_data"
    }
   ],
   "source": [
    "sns.boxplot(df.MONTH)"
   ]
  },
  {
   "cell_type": "code",
   "execution_count": 45,
   "id": "06e7e9a3",
   "metadata": {},
   "outputs": [
    {
     "data": {
      "text/plain": [
       "<AxesSubplot:xlabel='DAY_OF_MONTH'>"
      ]
     },
     "execution_count": 45,
     "metadata": {},
     "output_type": "execute_result"
    },
    {
     "data": {
      "image/png": "[encoded data removed]",
      "text/plain": [
       "<Figure size 432x288 with 1 Axes>"
      ]
     },
     "metadata": {
      "needs_background": "light"
     },
     "output_type": "display_data"
    }
   ],
   "source": [
    "sns.boxplot(df.DAY_OF_MONTH)"
   ]
  },
  {
   "cell_type": "code",
   "execution_count": 46,
   "id": "390ccfbc",
   "metadata": {},
   "outputs": [
    {
     "data": {
      "text/plain": [
       "<AxesSubplot:xlabel='FL_NUM'>"
      ]
     },
     "execution_count": 46,
     "metadata": {},
     "output_type": "execute_result"
    },
    {
     "data": {
      "image/png": "[encoded data removed]",
      "text/plain": [
       "<Figure size 432x288 with 1 Axes>"
      ]
     },
     "metadata": {
      "needs_background": "light"
     },
     "output_type": "display_data"
    }
   ],
   "source": [
    "sns.boxplot(df.FL_NUM)"
   ]
  },
  {
   "cell_type": "code",
   "execution_count": 48,
   "id": "4041eba2",
   "metadata": {},
   "outputs": [
    {
     "data": {
      "text/plain": [
       "<AxesSubplot:xlabel='CANCELLED'>"
      ]
     },
     "execution_count": 48,
     "metadata": {},
     "output_type": "execute_result"
    },
    {
     "data": {
      "image/png": "[encoded data removed]",
      "text/plain": [
       "<Figure size 432x288 with 1 Axes>"
      ]
     },
     "metadata": {
      "needs_background": "light"
     },
     "output_type": "display_data"
    }
   ],
   "source": [
    "sns.boxplot(df.CANCELLED)"
   ]
  },
  {
   "cell_type": "code",
   "execution_count": 49,
   "id": "3b8d7ab5",
   "metadata": {},
   "outputs": [
    {
     "data": {
      "text/plain": [
       "<AxesSubplot:xlabel='DIVERTED'>"
      ]
     },
     "execution_count": 49,
     "metadata": {},
     "output_type": "execute_result"
    },
    {
     "data": {
      "image/png": "[encoded data removed]",
      "text/plain": [
       "<Figure size 432x288 with 1 Axes>"
      ]
     },
     "metadata": {
      "needs_background": "light"
     },
     "output_type": "display_data"
    }
   ],
   "source": [
    "sns.boxplot(df.DIVERTED)"
   ]
  },
  {
   "cell_type": "code",
   "execution_count": 50,
   "id": "91345144",
   "metadata": {},
   "outputs": [
    {
     "data": {
      "text/plain": [
       "<AxesSubplot:xlabel='CRS_ELAPSED_TIME'>"
      ]
     },
     "execution_count": 50,
     "metadata": {},
     "output_type": "execute_result"
    },
    {
     "data": {
      "image/png": "[encoded data removed]",
      "text/plain": [
       "<Figure size 432x288 with 1 Axes>"
      ]
     },
     "metadata": {
      "needs_background": "light"
     },
     "output_type": "display_data"
    }
   ],
   "source": [
    "sns.boxplot(df.CRS_ELAPSED_TIME)"
   ]
  },
  {
   "cell_type": "code",
   "execution_count": 51,
   "id": "b3071804",
   "metadata": {},
   "outputs": [
    {
     "data": {
      "text/plain": [
       "<AxesSubplot:xlabel='ACTUAL_ELAPSED_TIME'>"
      ]
     },
     "execution_count": 51,
     "metadata": {},
     "output_type": "execute_result"
    },
    {
     "data": {
      "image/png": "[encoded data removed]",
      "text/plain": [
       "<Figure size 432x288 with 1 Axes>"
      ]
     },
     "metadata": {
      "needs_background": "light"
     },
     "output_type": "display_data"
    }
   ],
   "source": [
    "sns.boxplot(df.ACTUAL_ELAPSED_TIME)"
   ]
  },
  {
   "cell_type": "code",
   "execution_count": 52,
   "id": "8c645ca2",
   "metadata": {},
   "outputs": [
    {
     "data": {
      "text/plain": [
       "<AxesSubplot:xlabel='DISTANCE'>"
      ]
     },
     "execution_count": 52,
     "metadata": {},
     "output_type": "execute_result"
    },
    {
     "data": {
      "image/png": "[encoded data removed]",
      "text/plain": [
       "<Figure size 432x288 with 1 Axes>"
      ]
     },
     "metadata": {
      "needs_background": "light"
     },
     "output_type": "display_data"
    }
   ],
   "source": [
    "sns.boxplot(df.DISTANCE)"
   ]
  },
  {
   "cell_type": "code",
   "execution_count": null,
   "id": "501beb51",
   "metadata": {},
   "outputs": [],
   "source": []
  },
  {
   "cell_type": "code",
   "execution_count": 54,
   "id": "a22e6015",
   "metadata": {},
   "outputs": [
    {
     "data": {
      "text/plain": [
       "<AxesSubplot:xlabel='DEP_DELAY'>"
      ]
     },
     "execution_count": 54,
     "metadata": {},
     "output_type": "execute_result"
    },
    {
     "data": {
      "image/png": "[encoded data removed]",
      "text/plain": [
       "<Figure size 432x288 with 1 Axes>"
      ]
     },
     "metadata": {
      "needs_background": "light"
     },
     "output_type": "display_data"
    }
   ],
   "source": [
    "sns.boxplot(df.DEP_DELAY)"
   ]
  },
  {
   "cell_type": "code",
   "execution_count": 55,
   "id": "bfa8fe99",
   "metadata": {},
   "outputs": [
    {
     "data": {
      "text/plain": [
       "<AxesSubplot:xlabel='DEP_DEL15'>"
      ]
     },
     "execution_count": 55,
     "metadata": {},
     "output_type": "execute_result"
    },
    {
     "data": {
      "image/png": "[encoded data removed]",
      "text/plain": [
       "<Figure size 432x288 with 1 Axes>"
      ]
     },
     "metadata": {
      "needs_background": "light"
     },
     "output_type": "display_data"
    }
   ],
   "source": [
    "sns.boxplot(df.DEP_DEL15)"
   ]
  },
  {
   "cell_type": "code",
   "execution_count": 129,
   "id": "4c30b2c3",
   "metadata": {},
   "outputs": [
    {
     "name": "stderr",
     "output_type": "stream",
     "text": [
      "C:\\ProgramData\\Anaconda3\\lib\\site-packages\\seaborn\\_decorators.py:36: FutureWarning: Pass the following variable as a keyword arg: x. From version 0.12, the only valid positional argument will be `data`, and passing other arguments without an explicit keyword will result in an error or misinterpretation.\n",
      "  warnings.warn(\n"
     ]
    },
    {
     "data": {
      "text/plain": [
       "<AxesSubplot:xlabel='ARR_DELAY'>"
      ]
     },
     "execution_count": 129,
     "metadata": {},
     "output_type": "execute_result"
    },
    {
     "data": {
      "image/png": "[encoded data removed]",
      "text/plain": [
       "<Figure size 432x288 with 1 Axes>"
      ]
     },
     "metadata": {
      "needs_background": "light"
     },
     "output_type": "display_data"
    }
   ],
   "source": [
    "sns.boxplot(df.ARR_DELAY)"
   ]
  },
  {
   "cell_type": "code",
   "execution_count": 130,
   "id": "39c9531a",
   "metadata": {},
   "outputs": [
    {
     "name": "stderr",
     "output_type": "stream",
     "text": [
      "C:\\ProgramData\\Anaconda3\\lib\\site-packages\\seaborn\\_decorators.py:36: FutureWarning: Pass the following variable as a keyword arg: x. From version 0.12, the only valid positional argument will be `data`, and passing other arguments without an explicit keyword will result in an error or misinterpretation.\n",
      "  warnings.warn(\n"
     ]
    },
    {
     "data": {
      "text/plain": [
       "<AxesSubplot:xlabel='ARR_TIME'>"
      ]
     },
     "execution_count": 130,
     "metadata": {},
     "output_type": "execute_result"
    },
    {
     "data": {
      "image/png": "[encoded data removed]",
      "text/plain": [
       "<Figure size 432x288 with 1 Axes>"
      ]
     },
     "metadata": {
      "needs_background": "light"
     },
     "output_type": "display_data"
    }
   ],
   "source": [
    "sns.boxplot(df.ARR_TIME)"
   ]
  },
  {
   "cell_type": "code",
   "execution_count": 131,
   "id": "5b4634d8",
   "metadata": {},
   "outputs": [
    {
     "name": "stderr",
     "output_type": "stream",
     "text": [
      "C:\\ProgramData\\Anaconda3\\lib\\site-packages\\seaborn\\_decorators.py:36: FutureWarning: Pass the following variable as a keyword arg: x. From version 0.12, the only valid positional argument will be `data`, and passing other arguments without an explicit keyword will result in an error or misinterpretation.\n",
      "  warnings.warn(\n"
     ]
    },
    {
     "data": {
      "text/plain": [
       "<AxesSubplot:xlabel='ARR_DEL15'>"
      ]
     },
     "execution_count": 131,
     "metadata": {},
     "output_type": "execute_result"
    },
    {
     "data": {
      "image/png": "[encoded data removed]",
      "text/plain": [
       "<Figure size 432x288 with 1 Axes>"
      ]
     },
     "metadata": {
      "needs_background": "light"
     },
     "output_type": "display_data"
    }
   ],
   "source": [
    "sns.boxplot(df.ARR_DEL15)"
   ]
  },
  {
   "cell_type": "code",
   "execution_count": 132,
   "id": "8d8a5d05",
   "metadata": {},
   "outputs": [
    {
     "name": "stderr",
     "output_type": "stream",
     "text": [
      "C:\\ProgramData\\Anaconda3\\lib\\site-packages\\seaborn\\_decorators.py:36: FutureWarning: Pass the following variable as a keyword arg: x. From version 0.12, the only valid positional argument will be `data`, and passing other arguments without an explicit keyword will result in an error or misinterpretation.\n",
      "  warnings.warn(\n"
     ]
    },
    {
     "data": {
      "text/plain": [
       "<AxesSubplot:xlabel='DAY_OF_WEEK'>"
      ]
     },
     "execution_count": 132,
     "metadata": {},
     "output_type": "execute_result"
    },
    {
     "data": {
      "image/png": "[encoded data removed]",
      "text/plain": [
       "<Figure size 432x288 with 1 Axes>"
      ]
     },
     "metadata": {
      "needs_background": "light"
     },
     "output_type": "display_data"
    }
   ],
   "source": [
    "sns.boxplot(df.DAY_OF_WEEK)"
   ]
  },
  {
   "cell_type": "code",
   "execution_count": 133,
   "id": "34f0875d",
   "metadata": {},
   "outputs": [
    {
     "name": "stderr",
     "output_type": "stream",
     "text": [
      "C:\\ProgramData\\Anaconda3\\lib\\site-packages\\seaborn\\_decorators.py:36: FutureWarning: Pass the following variable as a keyword arg: x. From version 0.12, the only valid positional argument will be `data`, and passing other arguments without an explicit keyword will result in an error or misinterpretation.\n",
      "  warnings.warn(\n"
     ]
    },
    {
     "data": {
      "text/plain": [
       "<AxesSubplot:xlabel='ORIGIN_AIRPORT_ID'>"
      ]
     },
     "execution_count": 133,
     "metadata": {},
     "output_type": "execute_result"
    },
    {
     "data": {
      "image/png": "[encoded data removed]",
      "text/plain": [
       "<Figure size 432x288 with 1 Axes>"
      ]
     },
     "metadata": {
      "needs_background": "light"
     },
     "output_type": "display_data"
    }
   ],
   "source": [
    "sns.boxplot(df.ORIGIN_AIRPORT_ID)"
   ]
  },
  {
   "cell_type": "code",
   "execution_count": 134,
   "id": "d6e54f87",
   "metadata": {},
   "outputs": [
    {
     "name": "stderr",
     "output_type": "stream",
     "text": [
      "C:\\ProgramData\\Anaconda3\\lib\\site-packages\\seaborn\\_decorators.py:36: FutureWarning: Pass the following variable as a keyword arg: x. From version 0.12, the only valid positional argument will be `data`, and passing other arguments without an explicit keyword will result in an error or misinterpretation.\n",
      "  warnings.warn(\n"
     ]
    },
    {
     "data": {
      "text/plain": [
       "<AxesSubplot:xlabel='DEST_AIRPORT_ID'>"
      ]
     },
     "execution_count": 134,
     "metadata": {},
     "output_type": "execute_result"
    },
    {
     "data": {
      "image/png": "[encoded data removed]",
      "text/plain": [
       "<Figure size 432x288 with 1 Axes>"
      ]
     },
     "metadata": {
      "needs_background": "light"
     },
     "output_type": "display_data"
    }
   ],
   "source": [
    "sns.boxplot(df.DEST_AIRPORT_ID)"
   ]
  },
  {
   "cell_type": "code",
   "execution_count": 56,
   "id": "6389462e",
   "metadata": {},
   "outputs": [
    {
     "data": {
      "text/plain": [
       "DAY_OF_WEEK\n",
       "1    253.0\n",
       "2    213.0\n",
       "3    204.0\n",
       "4    245.0\n",
       "5    250.0\n",
       "6    198.0\n",
       "7    226.0\n",
       "Name: DEP_DEL15, dtype: float64"
      ]
     },
     "execution_count": 56,
     "metadata": {},
     "output_type": "execute_result"
    }
   ],
   "source": [
    "df.groupby(by=\"DAY_OF_WEEK\")[\"DEP_DEL15\"].sum()"
   ]
  },
  {
   "cell_type": "code",
   "execution_count": 57,
   "id": "8d0c7110",
   "metadata": {},
   "outputs": [
    {
     "data": {
      "text/plain": [
       "MONTH\n",
       "1     113.0\n",
       "2     115.0\n",
       "3     104.0\n",
       "4      96.0\n",
       "5      86.0\n",
       "6     168.0\n",
       "7     219.0\n",
       "8     246.0\n",
       "9      88.0\n",
       "10     86.0\n",
       "11     66.0\n",
       "12    202.0\n",
       "Name: DEP_DEL15, dtype: float64"
      ]
     },
     "execution_count": 57,
     "metadata": {},
     "output_type": "execute_result"
    }
   ],
   "source": [
    "df.groupby(by=\"MONTH\")[\"DEP_DEL15\"].sum()"
   ]
  },
  {
   "cell_type": "code",
   "execution_count": 58,
   "id": "1a520f90",
   "metadata": {
    "scrolled": true
   },
   "outputs": [
    {
     "data": {
      "text/html": [
       "<div>\n",
       "<style scoped>\n",
       "    .dataframe tbody tr th:only-of-type {\n",
       "        vertical-align: middle;\n",
       "    }\n",
       "\n",
       "    .dataframe tbody tr th {\n",
       "        vertical-align: top;\n",
       "    }\n",
       "\n",
       "    .dataframe thead th {\n",
       "        text-align: right;\n",
       "    }\n",
       "</style>\n",
       "<table border=\"1\" class=\"dataframe\">\n",
       "  <thead>\n",
       "    <tr style=\"text-align: right;\">\n",
       "      <th></th>\n",
       "      <th>YEAR</th>\n",
       "      <th>QUARTER</th>\n",
       "      <th>MONTH</th>\n",
       "      <th>DAY_OF_MONTH</th>\n",
       "      <th>DAY_OF_WEEK</th>\n",
       "      <th>UNIQUE_CARRIER</th>\n",
       "      <th>TAIL_NUM</th>\n",
       "      <th>FL_NUM</th>\n",
       "      <th>ORIGIN_AIRPORT_ID</th>\n",
       "      <th>ORIGIN</th>\n",
       "      <th>...</th>\n",
       "      <th>ARR_TIME.1</th>\n",
       "      <th>ARR_DELAY</th>\n",
       "      <th>ARR_DEL15</th>\n",
       "      <th>CANCELLED</th>\n",
       "      <th>DIVERTED</th>\n",
       "      <th>CRS_ELAPSED_TIME1</th>\n",
       "      <th>ACTUAL_ELAPSED_TIME1</th>\n",
       "      <th>CRS_ELAPSED_TIME</th>\n",
       "      <th>ACTUAL_ELAPSED_TIME</th>\n",
       "      <th>DISTANCE</th>\n",
       "    </tr>\n",
       "  </thead>\n",
       "  <tbody>\n",
       "    <tr>\n",
       "      <th>202</th>\n",
       "      <td>2016</td>\n",
       "      <td>1</td>\n",
       "      <td>1</td>\n",
       "      <td>10</td>\n",
       "      <td>7</td>\n",
       "      <td>DL</td>\n",
       "      <td>N125DL</td>\n",
       "      <td>1893</td>\n",
       "      <td>11433</td>\n",
       "      <td>DTW</td>\n",
       "      <td>...</td>\n",
       "      <td>1615.0</td>\n",
       "      <td>326.0</td>\n",
       "      <td>1.0</td>\n",
       "      <td>0</td>\n",
       "      <td>0</td>\n",
       "      <td>02:14:00</td>\n",
       "      <td>02:36:00</td>\n",
       "      <td>134</td>\n",
       "      <td>156.0</td>\n",
       "      <td>594</td>\n",
       "    </tr>\n",
       "    <tr>\n",
       "      <th>565</th>\n",
       "      <td>2016</td>\n",
       "      <td>1</td>\n",
       "      <td>1</td>\n",
       "      <td>24</td>\n",
       "      <td>7</td>\n",
       "      <td>DL</td>\n",
       "      <td>N3753</td>\n",
       "      <td>463</td>\n",
       "      <td>12478</td>\n",
       "      <td>JFK</td>\n",
       "      <td>...</td>\n",
       "      <td>2127.0</td>\n",
       "      <td>470.0</td>\n",
       "      <td>1.0</td>\n",
       "      <td>0</td>\n",
       "      <td>0</td>\n",
       "      <td>02:37:00</td>\n",
       "      <td>02:15:00</td>\n",
       "      <td>157</td>\n",
       "      <td>135.0</td>\n",
       "      <td>760</td>\n",
       "    </tr>\n",
       "    <tr>\n",
       "      <th>1199</th>\n",
       "      <td>2016</td>\n",
       "      <td>1</td>\n",
       "      <td>2</td>\n",
       "      <td>16</td>\n",
       "      <td>2</td>\n",
       "      <td>DL</td>\n",
       "      <td>N935DL</td>\n",
       "      <td>86</td>\n",
       "      <td>13487</td>\n",
       "      <td>MSP</td>\n",
       "      <td>...</td>\n",
       "      <td>2140.0</td>\n",
       "      <td>300.0</td>\n",
       "      <td>1.0</td>\n",
       "      <td>0</td>\n",
       "      <td>0</td>\n",
       "      <td>01:45:00</td>\n",
       "      <td>01:24:00</td>\n",
       "      <td>105</td>\n",
       "      <td>84.0</td>\n",
       "      <td>528</td>\n",
       "    </tr>\n",
       "    <tr>\n",
       "      <th>1605</th>\n",
       "      <td>2016</td>\n",
       "      <td>1</td>\n",
       "      <td>2</td>\n",
       "      <td>24</td>\n",
       "      <td>3</td>\n",
       "      <td>DL</td>\n",
       "      <td>N983DL</td>\n",
       "      <td>1156</td>\n",
       "      <td>10397</td>\n",
       "      <td>ATL</td>\n",
       "      <td>...</td>\n",
       "      <td>218.0</td>\n",
       "      <td>371.0</td>\n",
       "      <td>1.0</td>\n",
       "      <td>0</td>\n",
       "      <td>0</td>\n",
       "      <td>02:27:00</td>\n",
       "      <td>03:18:00</td>\n",
       "      <td>147</td>\n",
       "      <td>198.0</td>\n",
       "      <td>760</td>\n",
       "    </tr>\n",
       "    <tr>\n",
       "      <th>2535</th>\n",
       "      <td>2016</td>\n",
       "      <td>1</td>\n",
       "      <td>3</td>\n",
       "      <td>18</td>\n",
       "      <td>5</td>\n",
       "      <td>DL</td>\n",
       "      <td>N809DN</td>\n",
       "      <td>2330</td>\n",
       "      <td>14747</td>\n",
       "      <td>SEA</td>\n",
       "      <td>...</td>\n",
       "      <td>246.0</td>\n",
       "      <td>615.0</td>\n",
       "      <td>1.0</td>\n",
       "      <td>0</td>\n",
       "      <td>0</td>\n",
       "      <td>04:46:00</td>\n",
       "      <td>04:16:00</td>\n",
       "      <td>286</td>\n",
       "      <td>256.0</td>\n",
       "      <td>2182</td>\n",
       "    </tr>\n",
       "    <tr>\n",
       "      <th>2723</th>\n",
       "      <td>2016</td>\n",
       "      <td>2</td>\n",
       "      <td>4</td>\n",
       "      <td>10</td>\n",
       "      <td>7</td>\n",
       "      <td>DL</td>\n",
       "      <td>N624AG</td>\n",
       "      <td>1336</td>\n",
       "      <td>14747</td>\n",
       "      <td>SEA</td>\n",
       "      <td>...</td>\n",
       "      <td>2317.0</td>\n",
       "      <td>437.0</td>\n",
       "      <td>1.0</td>\n",
       "      <td>0</td>\n",
       "      <td>0</td>\n",
       "      <td>05:11:00</td>\n",
       "      <td>04:59:00</td>\n",
       "      <td>311</td>\n",
       "      <td>299.0</td>\n",
       "      <td>2422</td>\n",
       "    </tr>\n",
       "    <tr>\n",
       "      <th>4814</th>\n",
       "      <td>2016</td>\n",
       "      <td>2</td>\n",
       "      <td>6</td>\n",
       "      <td>16</td>\n",
       "      <td>4</td>\n",
       "      <td>DL</td>\n",
       "      <td>N319NB</td>\n",
       "      <td>2816</td>\n",
       "      <td>12478</td>\n",
       "      <td>JFK</td>\n",
       "      <td>...</td>\n",
       "      <td>2318.0</td>\n",
       "      <td>301.0</td>\n",
       "      <td>1.0</td>\n",
       "      <td>0</td>\n",
       "      <td>0</td>\n",
       "      <td>03:22:00</td>\n",
       "      <td>02:48:00</td>\n",
       "      <td>202</td>\n",
       "      <td>168.0</td>\n",
       "      <td>1029</td>\n",
       "    </tr>\n",
       "    <tr>\n",
       "      <th>5336</th>\n",
       "      <td>2016</td>\n",
       "      <td>3</td>\n",
       "      <td>7</td>\n",
       "      <td>1</td>\n",
       "      <td>5</td>\n",
       "      <td>DL</td>\n",
       "      <td>N171DN</td>\n",
       "      <td>43</td>\n",
       "      <td>12478</td>\n",
       "      <td>JFK</td>\n",
       "      <td>...</td>\n",
       "      <td>27.0</td>\n",
       "      <td>374.0</td>\n",
       "      <td>1.0</td>\n",
       "      <td>0</td>\n",
       "      <td>0</td>\n",
       "      <td>02:48:00</td>\n",
       "      <td>03:27:00</td>\n",
       "      <td>168</td>\n",
       "      <td>207.0</td>\n",
       "      <td>760</td>\n",
       "    </tr>\n",
       "    <tr>\n",
       "      <th>5340</th>\n",
       "      <td>2016</td>\n",
       "      <td>3</td>\n",
       "      <td>7</td>\n",
       "      <td>1</td>\n",
       "      <td>5</td>\n",
       "      <td>DL</td>\n",
       "      <td>N355NB</td>\n",
       "      <td>2214</td>\n",
       "      <td>13487</td>\n",
       "      <td>MSP</td>\n",
       "      <td>...</td>\n",
       "      <td>307.0</td>\n",
       "      <td>335.0</td>\n",
       "      <td>1.0</td>\n",
       "      <td>0</td>\n",
       "      <td>0</td>\n",
       "      <td>02:57:00</td>\n",
       "      <td>03:10:00</td>\n",
       "      <td>177</td>\n",
       "      <td>190.0</td>\n",
       "      <td>1029</td>\n",
       "    </tr>\n",
       "    <tr>\n",
       "      <th>5378</th>\n",
       "      <td>2016</td>\n",
       "      <td>3</td>\n",
       "      <td>7</td>\n",
       "      <td>1</td>\n",
       "      <td>5</td>\n",
       "      <td>DL</td>\n",
       "      <td>N377NW</td>\n",
       "      <td>984</td>\n",
       "      <td>10397</td>\n",
       "      <td>ATL</td>\n",
       "      <td>...</td>\n",
       "      <td>604.0</td>\n",
       "      <td>380.0</td>\n",
       "      <td>1.0</td>\n",
       "      <td>0</td>\n",
       "      <td>0</td>\n",
       "      <td>02:29:00</td>\n",
       "      <td>01:54:00</td>\n",
       "      <td>149</td>\n",
       "      <td>114.0</td>\n",
       "      <td>760</td>\n",
       "    </tr>\n",
       "    <tr>\n",
       "      <th>5524</th>\n",
       "      <td>2016</td>\n",
       "      <td>3</td>\n",
       "      <td>7</td>\n",
       "      <td>7</td>\n",
       "      <td>4</td>\n",
       "      <td>DL</td>\n",
       "      <td>N684DA</td>\n",
       "      <td>2218</td>\n",
       "      <td>14747</td>\n",
       "      <td>SEA</td>\n",
       "      <td>...</td>\n",
       "      <td>2354.0</td>\n",
       "      <td>539.0</td>\n",
       "      <td>1.0</td>\n",
       "      <td>0</td>\n",
       "      <td>0</td>\n",
       "      <td>04:20:00</td>\n",
       "      <td>03:58:00</td>\n",
       "      <td>260</td>\n",
       "      <td>238.0</td>\n",
       "      <td>1927</td>\n",
       "    </tr>\n",
       "    <tr>\n",
       "      <th>5561</th>\n",
       "      <td>2016</td>\n",
       "      <td>3</td>\n",
       "      <td>7</td>\n",
       "      <td>8</td>\n",
       "      <td>5</td>\n",
       "      <td>DL</td>\n",
       "      <td>N343NB</td>\n",
       "      <td>2816</td>\n",
       "      <td>12478</td>\n",
       "      <td>JFK</td>\n",
       "      <td>...</td>\n",
       "      <td>3.0</td>\n",
       "      <td>348.0</td>\n",
       "      <td>1.0</td>\n",
       "      <td>0</td>\n",
       "      <td>0</td>\n",
       "      <td>03:20:00</td>\n",
       "      <td>03:16:00</td>\n",
       "      <td>200</td>\n",
       "      <td>196.0</td>\n",
       "      <td>1029</td>\n",
       "    </tr>\n",
       "    <tr>\n",
       "      <th>5751</th>\n",
       "      <td>2016</td>\n",
       "      <td>3</td>\n",
       "      <td>7</td>\n",
       "      <td>13</td>\n",
       "      <td>3</td>\n",
       "      <td>DL</td>\n",
       "      <td>N991AT</td>\n",
       "      <td>1126</td>\n",
       "      <td>13487</td>\n",
       "      <td>MSP</td>\n",
       "      <td>...</td>\n",
       "      <td>2355.0</td>\n",
       "      <td>370.0</td>\n",
       "      <td>1.0</td>\n",
       "      <td>0</td>\n",
       "      <td>0</td>\n",
       "      <td>02:59:00</td>\n",
       "      <td>02:48:00</td>\n",
       "      <td>179</td>\n",
       "      <td>168.0</td>\n",
       "      <td>1029</td>\n",
       "    </tr>\n",
       "    <tr>\n",
       "      <th>6092</th>\n",
       "      <td>2016</td>\n",
       "      <td>3</td>\n",
       "      <td>7</td>\n",
       "      <td>25</td>\n",
       "      <td>1</td>\n",
       "      <td>DL</td>\n",
       "      <td>N910DE</td>\n",
       "      <td>220</td>\n",
       "      <td>12478</td>\n",
       "      <td>JFK</td>\n",
       "      <td>...</td>\n",
       "      <td>421.0</td>\n",
       "      <td>366.0</td>\n",
       "      <td>1.0</td>\n",
       "      <td>0</td>\n",
       "      <td>0</td>\n",
       "      <td>02:50:00</td>\n",
       "      <td>02:01:00</td>\n",
       "      <td>170</td>\n",
       "      <td>121.0</td>\n",
       "      <td>760</td>\n",
       "    </tr>\n",
       "    <tr>\n",
       "      <th>6195</th>\n",
       "      <td>2016</td>\n",
       "      <td>3</td>\n",
       "      <td>7</td>\n",
       "      <td>28</td>\n",
       "      <td>4</td>\n",
       "      <td>DL</td>\n",
       "      <td>N988DL</td>\n",
       "      <td>433</td>\n",
       "      <td>12478</td>\n",
       "      <td>JFK</td>\n",
       "      <td>...</td>\n",
       "      <td>5.0</td>\n",
       "      <td>457.0</td>\n",
       "      <td>1.0</td>\n",
       "      <td>0</td>\n",
       "      <td>0</td>\n",
       "      <td>02:38:00</td>\n",
       "      <td>02:44:00</td>\n",
       "      <td>158</td>\n",
       "      <td>164.0</td>\n",
       "      <td>760</td>\n",
       "    </tr>\n",
       "    <tr>\n",
       "      <th>6662</th>\n",
       "      <td>2016</td>\n",
       "      <td>3</td>\n",
       "      <td>8</td>\n",
       "      <td>8</td>\n",
       "      <td>1</td>\n",
       "      <td>DL</td>\n",
       "      <td>N855DN</td>\n",
       "      <td>173</td>\n",
       "      <td>10397</td>\n",
       "      <td>ATL</td>\n",
       "      <td>...</td>\n",
       "      <td>140.0</td>\n",
       "      <td>398.0</td>\n",
       "      <td>1.0</td>\n",
       "      <td>0</td>\n",
       "      <td>0</td>\n",
       "      <td>05:26:00</td>\n",
       "      <td>04:47:00</td>\n",
       "      <td>326</td>\n",
       "      <td>287.0</td>\n",
       "      <td>2182</td>\n",
       "    </tr>\n",
       "    <tr>\n",
       "      <th>6672</th>\n",
       "      <td>2016</td>\n",
       "      <td>3</td>\n",
       "      <td>8</td>\n",
       "      <td>8</td>\n",
       "      <td>1</td>\n",
       "      <td>DL</td>\n",
       "      <td>N923DL</td>\n",
       "      <td>2350</td>\n",
       "      <td>10397</td>\n",
       "      <td>ATL</td>\n",
       "      <td>...</td>\n",
       "      <td>1723.0</td>\n",
       "      <td>423.0</td>\n",
       "      <td>1.0</td>\n",
       "      <td>0</td>\n",
       "      <td>0</td>\n",
       "      <td>02:18:00</td>\n",
       "      <td>02:09:00</td>\n",
       "      <td>138</td>\n",
       "      <td>129.0</td>\n",
       "      <td>760</td>\n",
       "    </tr>\n",
       "    <tr>\n",
       "      <th>6686</th>\n",
       "      <td>2016</td>\n",
       "      <td>3</td>\n",
       "      <td>8</td>\n",
       "      <td>9</td>\n",
       "      <td>2</td>\n",
       "      <td>DL</td>\n",
       "      <td>N3763D</td>\n",
       "      <td>420</td>\n",
       "      <td>10397</td>\n",
       "      <td>ATL</td>\n",
       "      <td>...</td>\n",
       "      <td>2253.0</td>\n",
       "      <td>395.0</td>\n",
       "      <td>1.0</td>\n",
       "      <td>0</td>\n",
       "      <td>0</td>\n",
       "      <td>02:34:00</td>\n",
       "      <td>02:05:00</td>\n",
       "      <td>154</td>\n",
       "      <td>125.0</td>\n",
       "      <td>760</td>\n",
       "    </tr>\n",
       "    <tr>\n",
       "      <th>6693</th>\n",
       "      <td>2016</td>\n",
       "      <td>3</td>\n",
       "      <td>8</td>\n",
       "      <td>8</td>\n",
       "      <td>1</td>\n",
       "      <td>DL</td>\n",
       "      <td>N587NW</td>\n",
       "      <td>784</td>\n",
       "      <td>10397</td>\n",
       "      <td>ATL</td>\n",
       "      <td>...</td>\n",
       "      <td>1741.0</td>\n",
       "      <td>444.0</td>\n",
       "      <td>1.0</td>\n",
       "      <td>0</td>\n",
       "      <td>0</td>\n",
       "      <td>02:33:00</td>\n",
       "      <td>02:15:00</td>\n",
       "      <td>153</td>\n",
       "      <td>135.0</td>\n",
       "      <td>907</td>\n",
       "    </tr>\n",
       "    <tr>\n",
       "      <th>6696</th>\n",
       "      <td>2016</td>\n",
       "      <td>3</td>\n",
       "      <td>8</td>\n",
       "      <td>8</td>\n",
       "      <td>1</td>\n",
       "      <td>DL</td>\n",
       "      <td>N946DL</td>\n",
       "      <td>902</td>\n",
       "      <td>10397</td>\n",
       "      <td>ATL</td>\n",
       "      <td>...</td>\n",
       "      <td>2333.0</td>\n",
       "      <td>370.0</td>\n",
       "      <td>1.0</td>\n",
       "      <td>0</td>\n",
       "      <td>0</td>\n",
       "      <td>02:12:00</td>\n",
       "      <td>01:48:00</td>\n",
       "      <td>132</td>\n",
       "      <td>108.0</td>\n",
       "      <td>594</td>\n",
       "    </tr>\n",
       "    <tr>\n",
       "      <th>6701</th>\n",
       "      <td>2016</td>\n",
       "      <td>3</td>\n",
       "      <td>8</td>\n",
       "      <td>8</td>\n",
       "      <td>1</td>\n",
       "      <td>DL</td>\n",
       "      <td>N339NW</td>\n",
       "      <td>987</td>\n",
       "      <td>10397</td>\n",
       "      <td>ATL</td>\n",
       "      <td>...</td>\n",
       "      <td>1741.0</td>\n",
       "      <td>320.0</td>\n",
       "      <td>1.0</td>\n",
       "      <td>0</td>\n",
       "      <td>0</td>\n",
       "      <td>02:36:00</td>\n",
       "      <td>02:24:00</td>\n",
       "      <td>156</td>\n",
       "      <td>144.0</td>\n",
       "      <td>907</td>\n",
       "    </tr>\n",
       "    <tr>\n",
       "      <th>6744</th>\n",
       "      <td>2016</td>\n",
       "      <td>3</td>\n",
       "      <td>8</td>\n",
       "      <td>9</td>\n",
       "      <td>2</td>\n",
       "      <td>DL</td>\n",
       "      <td>N121DE</td>\n",
       "      <td>2827</td>\n",
       "      <td>10397</td>\n",
       "      <td>ATL</td>\n",
       "      <td>...</td>\n",
       "      <td>239.0</td>\n",
       "      <td>308.0</td>\n",
       "      <td>1.0</td>\n",
       "      <td>0</td>\n",
       "      <td>0</td>\n",
       "      <td>02:42:00</td>\n",
       "      <td>02:11:00</td>\n",
       "      <td>162</td>\n",
       "      <td>131.0</td>\n",
       "      <td>907</td>\n",
       "    </tr>\n",
       "    <tr>\n",
       "      <th>6767</th>\n",
       "      <td>2016</td>\n",
       "      <td>3</td>\n",
       "      <td>8</td>\n",
       "      <td>11</td>\n",
       "      <td>4</td>\n",
       "      <td>DL</td>\n",
       "      <td>N936DL</td>\n",
       "      <td>52</td>\n",
       "      <td>11433</td>\n",
       "      <td>DTW</td>\n",
       "      <td>...</td>\n",
       "      <td>1507.0</td>\n",
       "      <td>337.0</td>\n",
       "      <td>1.0</td>\n",
       "      <td>0</td>\n",
       "      <td>0</td>\n",
       "      <td>02:00:00</td>\n",
       "      <td>01:37:00</td>\n",
       "      <td>120</td>\n",
       "      <td>97.0</td>\n",
       "      <td>528</td>\n",
       "    </tr>\n",
       "    <tr>\n",
       "      <th>6790</th>\n",
       "      <td>2016</td>\n",
       "      <td>3</td>\n",
       "      <td>8</td>\n",
       "      <td>11</td>\n",
       "      <td>4</td>\n",
       "      <td>DL</td>\n",
       "      <td>N684DA</td>\n",
       "      <td>1444</td>\n",
       "      <td>14747</td>\n",
       "      <td>SEA</td>\n",
       "      <td>...</td>\n",
       "      <td>1958.0</td>\n",
       "      <td>423.0</td>\n",
       "      <td>1.0</td>\n",
       "      <td>0</td>\n",
       "      <td>0</td>\n",
       "      <td>04:15:00</td>\n",
       "      <td>04:10:00</td>\n",
       "      <td>255</td>\n",
       "      <td>250.0</td>\n",
       "      <td>1927</td>\n",
       "    </tr>\n",
       "    <tr>\n",
       "      <th>7129</th>\n",
       "      <td>2016</td>\n",
       "      <td>3</td>\n",
       "      <td>8</td>\n",
       "      <td>19</td>\n",
       "      <td>5</td>\n",
       "      <td>DL</td>\n",
       "      <td>N695DL</td>\n",
       "      <td>1542</td>\n",
       "      <td>14747</td>\n",
       "      <td>SEA</td>\n",
       "      <td>...</td>\n",
       "      <td>806.0</td>\n",
       "      <td>612.0</td>\n",
       "      <td>1.0</td>\n",
       "      <td>0</td>\n",
       "      <td>0</td>\n",
       "      <td>05:34:00</td>\n",
       "      <td>05:21:00</td>\n",
       "      <td>334</td>\n",
       "      <td>321.0</td>\n",
       "      <td>2422</td>\n",
       "    </tr>\n",
       "    <tr>\n",
       "      <th>7198</th>\n",
       "      <td>2016</td>\n",
       "      <td>3</td>\n",
       "      <td>8</td>\n",
       "      <td>4</td>\n",
       "      <td>4</td>\n",
       "      <td>DL</td>\n",
       "      <td>N550NW</td>\n",
       "      <td>1232</td>\n",
       "      <td>14747</td>\n",
       "      <td>SEA</td>\n",
       "      <td>...</td>\n",
       "      <td>420.0</td>\n",
       "      <td>461.0</td>\n",
       "      <td>1.0</td>\n",
       "      <td>0</td>\n",
       "      <td>0</td>\n",
       "      <td>04:53:00</td>\n",
       "      <td>04:24:00</td>\n",
       "      <td>293</td>\n",
       "      <td>264.0</td>\n",
       "      <td>2182</td>\n",
       "    </tr>\n",
       "    <tr>\n",
       "      <th>7259</th>\n",
       "      <td>2016</td>\n",
       "      <td>3</td>\n",
       "      <td>8</td>\n",
       "      <td>22</td>\n",
       "      <td>1</td>\n",
       "      <td>DL</td>\n",
       "      <td>N537US</td>\n",
       "      <td>1444</td>\n",
       "      <td>14747</td>\n",
       "      <td>SEA</td>\n",
       "      <td>...</td>\n",
       "      <td>2101.0</td>\n",
       "      <td>486.0</td>\n",
       "      <td>1.0</td>\n",
       "      <td>0</td>\n",
       "      <td>0</td>\n",
       "      <td>04:15:00</td>\n",
       "      <td>04:00:00</td>\n",
       "      <td>255</td>\n",
       "      <td>240.0</td>\n",
       "      <td>1927</td>\n",
       "    </tr>\n",
       "    <tr>\n",
       "      <th>9239</th>\n",
       "      <td>2016</td>\n",
       "      <td>4</td>\n",
       "      <td>10</td>\n",
       "      <td>30</td>\n",
       "      <td>7</td>\n",
       "      <td>DL</td>\n",
       "      <td>N710TW</td>\n",
       "      <td>454</td>\n",
       "      <td>12478</td>\n",
       "      <td>JFK</td>\n",
       "      <td>...</td>\n",
       "      <td>20.0</td>\n",
       "      <td>302.0</td>\n",
       "      <td>1.0</td>\n",
       "      <td>0</td>\n",
       "      <td>0</td>\n",
       "      <td>06:18:00</td>\n",
       "      <td>06:17:00</td>\n",
       "      <td>378</td>\n",
       "      <td>377.0</td>\n",
       "      <td>2422</td>\n",
       "    </tr>\n",
       "    <tr>\n",
       "      <th>10598</th>\n",
       "      <td>2016</td>\n",
       "      <td>4</td>\n",
       "      <td>12</td>\n",
       "      <td>11</td>\n",
       "      <td>7</td>\n",
       "      <td>DL</td>\n",
       "      <td>N6705Y</td>\n",
       "      <td>2174</td>\n",
       "      <td>11433</td>\n",
       "      <td>DTW</td>\n",
       "      <td>...</td>\n",
       "      <td>440.0</td>\n",
       "      <td>522.0</td>\n",
       "      <td>1.0</td>\n",
       "      <td>0</td>\n",
       "      <td>0</td>\n",
       "      <td>02:08:00</td>\n",
       "      <td>02:13:00</td>\n",
       "      <td>128</td>\n",
       "      <td>133.0</td>\n",
       "      <td>594</td>\n",
       "    </tr>\n",
       "    <tr>\n",
       "      <th>10754</th>\n",
       "      <td>2016</td>\n",
       "      <td>4</td>\n",
       "      <td>12</td>\n",
       "      <td>17</td>\n",
       "      <td>6</td>\n",
       "      <td>DL</td>\n",
       "      <td>N988DL</td>\n",
       "      <td>53</td>\n",
       "      <td>13487</td>\n",
       "      <td>MSP</td>\n",
       "      <td>...</td>\n",
       "      <td>129.0</td>\n",
       "      <td>436.0</td>\n",
       "      <td>1.0</td>\n",
       "      <td>0</td>\n",
       "      <td>0</td>\n",
       "      <td>01:38:00</td>\n",
       "      <td>01:39:00</td>\n",
       "      <td>98</td>\n",
       "      <td>99.0</td>\n",
       "      <td>528</td>\n",
       "    </tr>\n",
       "    <tr>\n",
       "      <th>10761</th>\n",
       "      <td>2016</td>\n",
       "      <td>4</td>\n",
       "      <td>12</td>\n",
       "      <td>17</td>\n",
       "      <td>6</td>\n",
       "      <td>DL</td>\n",
       "      <td>N988DL</td>\n",
       "      <td>603</td>\n",
       "      <td>11433</td>\n",
       "      <td>DTW</td>\n",
       "      <td>...</td>\n",
       "      <td>339.0</td>\n",
       "      <td>381.0</td>\n",
       "      <td>1.0</td>\n",
       "      <td>0</td>\n",
       "      <td>0</td>\n",
       "      <td>02:09:00</td>\n",
       "      <td>02:13:00</td>\n",
       "      <td>129</td>\n",
       "      <td>133.0</td>\n",
       "      <td>528</td>\n",
       "    </tr>\n",
       "  </tbody>\n",
       "</table>\n",
       "<p>31 rows × 31 columns</p>\n",
       "</div>"
      ],
      "text/plain": [
       "       YEAR  QUARTER  MONTH  DAY_OF_MONTH  DAY_OF_WEEK UNIQUE_CARRIER  \\\n",
       "202    2016        1      1            10            7             DL   \n",
       "565    2016        1      1            24            7             DL   \n",
       "1199   2016        1      2            16            2             DL   \n",
       "1605   2016        1      2            24            3             DL   \n",
       "2535   2016        1      3            18            5             DL   \n",
       "2723   2016        2      4            10            7             DL   \n",
       "4814   2016        2      6            16            4             DL   \n",
       "5336   2016        3      7             1            5             DL   \n",
       "5340   2016        3      7             1            5             DL   \n",
       "5378   2016        3      7             1            5             DL   \n",
       "5524   2016        3      7             7            4             DL   \n",
       "5561   2016        3      7             8            5             DL   \n",
       "5751   2016        3      7            13            3             DL   \n",
       "6092   2016        3      7            25            1             DL   \n",
       "6195   2016        3      7            28            4             DL   \n",
       "6662   2016        3      8             8            1             DL   \n",
       "6672   2016        3      8             8            1             DL   \n",
       "6686   2016        3      8             9            2             DL   \n",
       "6693   2016        3      8             8            1             DL   \n",
       "6696   2016        3      8             8            1             DL   \n",
       "6701   2016        3      8             8            1             DL   \n",
       "6744   2016        3      8             9            2             DL   \n",
       "6767   2016        3      8            11            4             DL   \n",
       "6790   2016        3      8            11            4             DL   \n",
       "7129   2016        3      8            19            5             DL   \n",
       "7198   2016        3      8             4            4             DL   \n",
       "7259   2016        3      8            22            1             DL   \n",
       "9239   2016        4     10            30            7             DL   \n",
       "10598  2016        4     12            11            7             DL   \n",
       "10754  2016        4     12            17            6             DL   \n",
       "10761  2016        4     12            17            6             DL   \n",
       "\n",
       "      TAIL_NUM  FL_NUM  ORIGIN_AIRPORT_ID ORIGIN  ...  ARR_TIME.1 ARR_DELAY  \\\n",
       "202     N125DL    1893              11433    DTW  ...      1615.0     326.0   \n",
       "565      N3753     463              12478    JFK  ...      2127.0     470.0   \n",
       "1199    N935DL      86              13487    MSP  ...      2140.0     300.0   \n",
       "1605    N983DL    1156              10397    ATL  ...       218.0     371.0   \n",
       "2535    N809DN    2330              14747    SEA  ...       246.0     615.0   \n",
       "2723    N624AG    1336              14747    SEA  ...      2317.0     437.0   \n",
       "4814    N319NB    2816              12478    JFK  ...      2318.0     301.0   \n",
       "5336    N171DN      43              12478    JFK  ...        27.0     374.0   \n",
       "5340    N355NB    2214              13487    MSP  ...       307.0     335.0   \n",
       "5378    N377NW     984              10397    ATL  ...       604.0     380.0   \n",
       "5524    N684DA    2218              14747    SEA  ...      2354.0     539.0   \n",
       "5561    N343NB    2816              12478    JFK  ...         3.0     348.0   \n",
       "5751    N991AT    1126              13487    MSP  ...      2355.0     370.0   \n",
       "6092    N910DE     220              12478    JFK  ...       421.0     366.0   \n",
       "6195    N988DL     433              12478    JFK  ...         5.0     457.0   \n",
       "6662    N855DN     173              10397    ATL  ...       140.0     398.0   \n",
       "6672    N923DL    2350              10397    ATL  ...      1723.0     423.0   \n",
       "6686    N3763D     420              10397    ATL  ...      2253.0     395.0   \n",
       "6693    N587NW     784              10397    ATL  ...      1741.0     444.0   \n",
       "6696    N946DL     902              10397    ATL  ...      2333.0     370.0   \n",
       "6701    N339NW     987              10397    ATL  ...      1741.0     320.0   \n",
       "6744    N121DE    2827              10397    ATL  ...       239.0     308.0   \n",
       "6767    N936DL      52              11433    DTW  ...      1507.0     337.0   \n",
       "6790    N684DA    1444              14747    SEA  ...      1958.0     423.0   \n",
       "7129    N695DL    1542              14747    SEA  ...       806.0     612.0   \n",
       "7198    N550NW    1232              14747    SEA  ...       420.0     461.0   \n",
       "7259    N537US    1444              14747    SEA  ...      2101.0     486.0   \n",
       "9239    N710TW     454              12478    JFK  ...        20.0     302.0   \n",
       "10598   N6705Y    2174              11433    DTW  ...       440.0     522.0   \n",
       "10754   N988DL      53              13487    MSP  ...       129.0     436.0   \n",
       "10761   N988DL     603              11433    DTW  ...       339.0     381.0   \n",
       "\n",
       "      ARR_DEL15  CANCELLED DIVERTED  CRS_ELAPSED_TIME1  ACTUAL_ELAPSED_TIME1  \\\n",
       "202         1.0          0        0           02:14:00              02:36:00   \n",
       "565         1.0          0        0           02:37:00              02:15:00   \n",
       "1199        1.0          0        0           01:45:00              01:24:00   \n",
       "1605        1.0          0        0           02:27:00              03:18:00   \n",
       "2535        1.0          0        0           04:46:00              04:16:00   \n",
       "2723        1.0          0        0           05:11:00              04:59:00   \n",
       "4814        1.0          0        0           03:22:00              02:48:00   \n",
       "5336        1.0          0        0           02:48:00              03:27:00   \n",
       "5340        1.0          0        0           02:57:00              03:10:00   \n",
       "5378        1.0          0        0           02:29:00              01:54:00   \n",
       "5524        1.0          0        0           04:20:00              03:58:00   \n",
       "5561        1.0          0        0           03:20:00              03:16:00   \n",
       "5751        1.0          0        0           02:59:00              02:48:00   \n",
       "6092        1.0          0        0           02:50:00              02:01:00   \n",
       "6195        1.0          0        0           02:38:00              02:44:00   \n",
       "6662        1.0          0        0           05:26:00              04:47:00   \n",
       "6672        1.0          0        0           02:18:00              02:09:00   \n",
       "6686        1.0          0        0           02:34:00              02:05:00   \n",
       "6693        1.0          0        0           02:33:00              02:15:00   \n",
       "6696        1.0          0        0           02:12:00              01:48:00   \n",
       "6701        1.0          0        0           02:36:00              02:24:00   \n",
       "6744        1.0          0        0           02:42:00              02:11:00   \n",
       "6767        1.0          0        0           02:00:00              01:37:00   \n",
       "6790        1.0          0        0           04:15:00              04:10:00   \n",
       "7129        1.0          0        0           05:34:00              05:21:00   \n",
       "7198        1.0          0        0           04:53:00              04:24:00   \n",
       "7259        1.0          0        0           04:15:00              04:00:00   \n",
       "9239        1.0          0        0           06:18:00              06:17:00   \n",
       "10598       1.0          0        0           02:08:00              02:13:00   \n",
       "10754       1.0          0        0           01:38:00              01:39:00   \n",
       "10761       1.0          0        0           02:09:00              02:13:00   \n",
       "\n",
       "       CRS_ELAPSED_TIME ACTUAL_ELAPSED_TIME  DISTANCE  \n",
       "202                 134               156.0       594  \n",
       "565                 157               135.0       760  \n",
       "1199                105                84.0       528  \n",
       "1605                147               198.0       760  \n",
       "2535                286               256.0      2182  \n",
       "2723                311               299.0      2422  \n",
       "4814                202               168.0      1029  \n",
       "5336                168               207.0       760  \n",
       "5340                177               190.0      1029  \n",
       "5378                149               114.0       760  \n",
       "5524                260               238.0      1927  \n",
       "5561                200               196.0      1029  \n",
       "5751                179               168.0      1029  \n",
       "6092                170               121.0       760  \n",
       "6195                158               164.0       760  \n",
       "6662                326               287.0      2182  \n",
       "6672                138               129.0       760  \n",
       "6686                154               125.0       760  \n",
       "6693                153               135.0       907  \n",
       "6696                132               108.0       594  \n",
       "6701                156               144.0       907  \n",
       "6744                162               131.0       907  \n",
       "6767                120                97.0       528  \n",
       "6790                255               250.0      1927  \n",
       "7129                334               321.0      2422  \n",
       "7198                293               264.0      2182  \n",
       "7259                255               240.0      1927  \n",
       "9239                378               377.0      2422  \n",
       "10598               128               133.0       594  \n",
       "10754                98                99.0       528  \n",
       "10761               129               133.0       528  \n",
       "\n",
       "[31 rows x 31 columns]"
      ]
     },
     "execution_count": 58,
     "metadata": {},
     "output_type": "execute_result"
    }
   ],
   "source": [
    "df[df[\"ARR_DELAY\"]>=300]"
   ]
  },
  {
   "cell_type": "code",
   "execution_count": 59,
   "id": "52ca1aab",
   "metadata": {},
   "outputs": [],
   "source": [
    "sm=[6,7,8]\n",
    "wt=[9,10,11]\n",
    "sp=[12,1,2,3]\n",
    "fl=[4,5]"
   ]
  },
  {
   "cell_type": "code",
   "execution_count": 60,
   "id": "f8e191ea",
   "metadata": {},
   "outputs": [],
   "source": [
    "df[\"SEASON\"]=np.where(df[\"MONTH\"].isin(sm),0,np.where(df[\"MONTH\"].isin(wt),1,np.where(df[\"MONTH\"].isin(sp),2,3)))"
   ]
  },
  {
   "cell_type": "code",
   "execution_count": 61,
   "id": "924049bc",
   "metadata": {},
   "outputs": [
    {
     "data": {
      "text/plain": [
       "2    3441\n",
       "0    3184\n",
       "1    2808\n",
       "3    1798\n",
       "Name: SEASON, dtype: int64"
      ]
     },
     "execution_count": 61,
     "metadata": {},
     "output_type": "execute_result"
    }
   ],
   "source": [
    "df[\"SEASON\"].value_counts()"
   ]
  },
  {
   "cell_type": "code",
   "execution_count": 141,
   "id": "691491c1",
   "metadata": {},
   "outputs": [],
   "source": [
    "#Encoding categorial columns into numerical"
   ]
  },
  {
   "cell_type": "code",
   "execution_count": 62,
   "id": "3eaad8e8",
   "metadata": {},
   "outputs": [],
   "source": [
    "df[\"CANCELLED\"]=np.where(df[\"CANCELLED\"]==1,4,0)"
   ]
  },
  {
   "cell_type": "code",
   "execution_count": 63,
   "id": "400d0dc4",
   "metadata": {},
   "outputs": [],
   "source": [
    "df[\"DIVERTED\"]=np.where(df[\"DIVERTED\"]==1,3,0)"
   ]
  },
  {
   "cell_type": "code",
   "execution_count": 64,
   "id": "be774326",
   "metadata": {},
   "outputs": [
    {
     "data": {
      "text/plain": [
       "(array([0, 4]), array([0, 3]))"
      ]
     },
     "execution_count": 64,
     "metadata": {},
     "output_type": "execute_result"
    }
   ],
   "source": [
    "df.CANCELLED.unique(),df.DIVERTED.unique()"
   ]
  },
  {
   "cell_type": "code",
   "execution_count": 65,
   "id": "068fa22f",
   "metadata": {},
   "outputs": [
    {
     "data": {
      "text/plain": [
       "array([ 0.,  1.,  2., nan])"
      ]
     },
     "execution_count": 65,
     "metadata": {},
     "output_type": "execute_result"
    }
   ],
   "source": [
    "df[\"DELAY_15\"]=df[\"ARR_DEL15\"]+df[\"DEP_DEL15\"]\n",
    "df.DELAY_15.unique()"
   ]
  },
  {
   "cell_type": "code",
   "execution_count": 66,
   "id": "10481e3b",
   "metadata": {},
   "outputs": [
    {
     "data": {
      "text/plain": [
       "array([0., 1., 2.])"
      ]
     },
     "execution_count": 66,
     "metadata": {},
     "output_type": "execute_result"
    }
   ],
   "source": [
    "df[\"DELAY_15\"].fillna(0,inplace=True)\n",
    "df.DELAY_15.unique()"
   ]
  },
  {
   "cell_type": "code",
   "execution_count": 67,
   "id": "28210add",
   "metadata": {},
   "outputs": [],
   "source": [
    "df[\"NDELAY\"]=df[\"DELAY_15\"]+df[\"CANCELLED\"]+df[\"DIVERTED\"]"
   ]
  },
  {
   "cell_type": "code",
   "execution_count": 68,
   "id": "19d5c75e",
   "metadata": {},
   "outputs": [
    {
     "data": {
      "text/plain": [
       "array([0., 1., 2., 3., 4.])"
      ]
     },
     "execution_count": 68,
     "metadata": {},
     "output_type": "execute_result"
    }
   ],
   "source": [
    "df.NDELAY.unique()"
   ]
  },
  {
   "cell_type": "code",
   "execution_count": 69,
   "id": "02e0780f",
   "metadata": {},
   "outputs": [
    {
     "data": {
      "text/plain": [
       "(789, 690)"
      ]
     },
     "execution_count": 69,
     "metadata": {},
     "output_type": "execute_result"
    }
   ],
   "source": [
    "len(df[\"TAIL_NUM\"].value_counts()),len(df[\"FL_NUM\"].value_counts())"
   ]
  },
  {
   "cell_type": "code",
   "execution_count": 70,
   "id": "50f5c45f",
   "metadata": {},
   "outputs": [
    {
     "name": "stdout",
     "output_type": "stream",
     "text": [
      "<class 'pandas.core.frame.DataFrame'>\n",
      "RangeIndex: 11231 entries, 0 to 11230\n",
      "Data columns (total 34 columns):\n",
      " #   Column                Non-Null Count  Dtype  \n",
      "---  ------                --------------  -----  \n",
      " 0   YEAR                  11231 non-null  int64  \n",
      " 1   QUARTER               11231 non-null  int64  \n",
      " 2   MONTH                 11231 non-null  int64  \n",
      " 3   DAY_OF_MONTH          11231 non-null  int64  \n",
      " 4   DAY_OF_WEEK           11231 non-null  int64  \n",
      " 5   UNIQUE_CARRIER        11231 non-null  object \n",
      " 6   TAIL_NUM              11231 non-null  object \n",
      " 7   FL_NUM                11231 non-null  int64  \n",
      " 8   ORIGIN_AIRPORT_ID     11231 non-null  int64  \n",
      " 9   ORIGIN                11231 non-null  object \n",
      " 10  DEST_AIRPORT_ID       11231 non-null  int64  \n",
      " 11  DEST                  11231 non-null  object \n",
      " 12  CRS_DEP_TIME          11231 non-null  object \n",
      " 13  CRS_DEP_TIME.1        11231 non-null  int64  \n",
      " 14  DEP_TIME              11124 non-null  object \n",
      " 15  DEP_TIME.1            11124 non-null  float64\n",
      " 16  DEP_DELAY             11231 non-null  float64\n",
      " 17  DEP_DEL15             11231 non-null  float64\n",
      " 18  CRS_ARR_TIME          11231 non-null  object \n",
      " 19  CRS_ARR_TIME.1        11231 non-null  int64  \n",
      " 20  ARR_TIME              11116 non-null  object \n",
      " 21  ARR_TIME.1            11116 non-null  float64\n",
      " 22  ARR_DELAY             11043 non-null  float64\n",
      " 23  ARR_DEL15             11043 non-null  float64\n",
      " 24  CANCELLED             11231 non-null  int64  \n",
      " 25  DIVERTED              11231 non-null  int64  \n",
      " 26  CRS_ELAPSED_TIME1     11231 non-null  object \n",
      " 27  ACTUAL_ELAPSED_TIME1  11231 non-null  object \n",
      " 28  CRS_ELAPSED_TIME      11231 non-null  int64  \n",
      " 29  ACTUAL_ELAPSED_TIME   11043 non-null  float64\n",
      " 30  DISTANCE              11231 non-null  int64  \n",
      " 31  SEASON                11231 non-null  int64  \n",
      " 32  DELAY_15              11231 non-null  float64\n",
      " 33  NDELAY                11231 non-null  float64\n",
      "dtypes: float64(9), int64(15), object(10)\n",
      "memory usage: 2.9+ MB\n"
     ]
    }
   ],
   "source": [
    "df.info()"
   ]
  },
  {
   "cell_type": "code",
   "execution_count": 71,
   "id": "875ce863",
   "metadata": {},
   "outputs": [
    {
     "data": {
      "text/html": [
       "<div>\n",
       "<style scoped>\n",
       "    .dataframe tbody tr th:only-of-type {\n",
       "        vertical-align: middle;\n",
       "    }\n",
       "\n",
       "    .dataframe tbody tr th {\n",
       "        vertical-align: top;\n",
       "    }\n",
       "\n",
       "    .dataframe thead th {\n",
       "        text-align: right;\n",
       "    }\n",
       "</style>\n",
       "<table border=\"1\" class=\"dataframe\">\n",
       "  <thead>\n",
       "    <tr style=\"text-align: right;\">\n",
       "      <th></th>\n",
       "      <th>QUARTER</th>\n",
       "      <th>MONTH</th>\n",
       "      <th>DAY_OF_MONTH</th>\n",
       "      <th>DAY_OF_WEEK</th>\n",
       "      <th>TAIL_NUM</th>\n",
       "      <th>FL_NUM</th>\n",
       "      <th>ORIGIN_AIRPORT_ID</th>\n",
       "      <th>ORIGIN</th>\n",
       "      <th>DEST_AIRPORT_ID</th>\n",
       "      <th>DEST</th>\n",
       "      <th>...</th>\n",
       "      <th>DEP_TIME.1</th>\n",
       "      <th>CRS_ARR_TIME</th>\n",
       "      <th>CRS_ARR_TIME.1</th>\n",
       "      <th>ARR_TIME.1</th>\n",
       "      <th>CRS_ELAPSED_TIME1</th>\n",
       "      <th>ACTUAL_ELAPSED_TIME1</th>\n",
       "      <th>CRS_ELAPSED_TIME</th>\n",
       "      <th>DISTANCE</th>\n",
       "      <th>SEASON</th>\n",
       "      <th>NDELAY</th>\n",
       "    </tr>\n",
       "  </thead>\n",
       "  <tbody>\n",
       "    <tr>\n",
       "      <th>0</th>\n",
       "      <td>1</td>\n",
       "      <td>1</td>\n",
       "      <td>1</td>\n",
       "      <td>5</td>\n",
       "      <td>N836DN</td>\n",
       "      <td>1399</td>\n",
       "      <td>10397</td>\n",
       "      <td>ATL</td>\n",
       "      <td>14747</td>\n",
       "      <td>SEA</td>\n",
       "      <td>...</td>\n",
       "      <td>1907.0</td>\n",
       "      <td>21:43:00</td>\n",
       "      <td>2143</td>\n",
       "      <td>2102.0</td>\n",
       "      <td>05:38:00</td>\n",
       "      <td>04:55:00</td>\n",
       "      <td>338</td>\n",
       "      <td>2182</td>\n",
       "      <td>2</td>\n",
       "      <td>0.0</td>\n",
       "    </tr>\n",
       "    <tr>\n",
       "      <th>1</th>\n",
       "      <td>1</td>\n",
       "      <td>1</td>\n",
       "      <td>1</td>\n",
       "      <td>5</td>\n",
       "      <td>N964DN</td>\n",
       "      <td>1476</td>\n",
       "      <td>11433</td>\n",
       "      <td>DTW</td>\n",
       "      <td>13487</td>\n",
       "      <td>MSP</td>\n",
       "      <td>...</td>\n",
       "      <td>1344.0</td>\n",
       "      <td>14:35:00</td>\n",
       "      <td>1435</td>\n",
       "      <td>1439.0</td>\n",
       "      <td>01:50:00</td>\n",
       "      <td>01:55:00</td>\n",
       "      <td>110</td>\n",
       "      <td>528</td>\n",
       "      <td>2</td>\n",
       "      <td>0.0</td>\n",
       "    </tr>\n",
       "    <tr>\n",
       "      <th>2</th>\n",
       "      <td>1</td>\n",
       "      <td>1</td>\n",
       "      <td>1</td>\n",
       "      <td>5</td>\n",
       "      <td>N813DN</td>\n",
       "      <td>1597</td>\n",
       "      <td>10397</td>\n",
       "      <td>ATL</td>\n",
       "      <td>14747</td>\n",
       "      <td>SEA</td>\n",
       "      <td>...</td>\n",
       "      <td>942.0</td>\n",
       "      <td>12:15:00</td>\n",
       "      <td>1215</td>\n",
       "      <td>1142.0</td>\n",
       "      <td>05:35:00</td>\n",
       "      <td>05:00:00</td>\n",
       "      <td>335</td>\n",
       "      <td>2182</td>\n",
       "      <td>2</td>\n",
       "      <td>0.0</td>\n",
       "    </tr>\n",
       "    <tr>\n",
       "      <th>3</th>\n",
       "      <td>1</td>\n",
       "      <td>1</td>\n",
       "      <td>1</td>\n",
       "      <td>5</td>\n",
       "      <td>N587NW</td>\n",
       "      <td>1768</td>\n",
       "      <td>14747</td>\n",
       "      <td>SEA</td>\n",
       "      <td>13487</td>\n",
       "      <td>MSP</td>\n",
       "      <td>...</td>\n",
       "      <td>820.0</td>\n",
       "      <td>13:35:00</td>\n",
       "      <td>1335</td>\n",
       "      <td>1345.0</td>\n",
       "      <td>03:16:00</td>\n",
       "      <td>03:25:00</td>\n",
       "      <td>196</td>\n",
       "      <td>1399</td>\n",
       "      <td>2</td>\n",
       "      <td>0.0</td>\n",
       "    </tr>\n",
       "    <tr>\n",
       "      <th>4</th>\n",
       "      <td>1</td>\n",
       "      <td>1</td>\n",
       "      <td>1</td>\n",
       "      <td>5</td>\n",
       "      <td>N836DN</td>\n",
       "      <td>1823</td>\n",
       "      <td>14747</td>\n",
       "      <td>SEA</td>\n",
       "      <td>11433</td>\n",
       "      <td>DTW</td>\n",
       "      <td>...</td>\n",
       "      <td>2256.0</td>\n",
       "      <td>06:07:00</td>\n",
       "      <td>607</td>\n",
       "      <td>615.0</td>\n",
       "      <td>04:07:00</td>\n",
       "      <td>04:19:00</td>\n",
       "      <td>247</td>\n",
       "      <td>1927</td>\n",
       "      <td>2</td>\n",
       "      <td>0.0</td>\n",
       "    </tr>\n",
       "  </tbody>\n",
       "</table>\n",
       "<p>5 rows × 22 columns</p>\n",
       "</div>"
      ],
      "text/plain": [
       "   QUARTER  MONTH  DAY_OF_MONTH  DAY_OF_WEEK TAIL_NUM  FL_NUM  \\\n",
       "0        1      1             1            5   N836DN    1399   \n",
       "1        1      1             1            5   N964DN    1476   \n",
       "2        1      1             1            5   N813DN    1597   \n",
       "3        1      1             1            5   N587NW    1768   \n",
       "4        1      1             1            5   N836DN    1823   \n",
       "\n",
       "   ORIGIN_AIRPORT_ID ORIGIN  DEST_AIRPORT_ID DEST  ... DEP_TIME.1  \\\n",
       "0              10397    ATL            14747  SEA  ...     1907.0   \n",
       "1              11433    DTW            13487  MSP  ...     1344.0   \n",
       "2              10397    ATL            14747  SEA  ...      942.0   \n",
       "3              14747    SEA            13487  MSP  ...      820.0   \n",
       "4              14747    SEA            11433  DTW  ...     2256.0   \n",
       "\n",
       "   CRS_ARR_TIME  CRS_ARR_TIME.1 ARR_TIME.1  CRS_ELAPSED_TIME1  \\\n",
       "0      21:43:00            2143     2102.0           05:38:00   \n",
       "1      14:35:00            1435     1439.0           01:50:00   \n",
       "2      12:15:00            1215     1142.0           05:35:00   \n",
       "3      13:35:00            1335     1345.0           03:16:00   \n",
       "4      06:07:00             607      615.0           04:07:00   \n",
       "\n",
       "   ACTUAL_ELAPSED_TIME1 CRS_ELAPSED_TIME DISTANCE  SEASON  NDELAY  \n",
       "0              04:55:00              338     2182       2     0.0  \n",
       "1              01:55:00              110      528       2     0.0  \n",
       "2              05:00:00              335     2182       2     0.0  \n",
       "3              03:25:00              196     1399       2     0.0  \n",
       "4              04:19:00              247     1927       2     0.0  \n",
       "\n",
       "[5 rows x 22 columns]"
      ]
     },
     "execution_count": 71,
     "metadata": {},
     "output_type": "execute_result"
    }
   ],
   "source": [
    "#Drop unnecessary columns\n",
    "clm=[\"YEAR\",\"UNIQUE_CARRIER\",\"DEP_TIME\",\"DEP_DELAY\",\"DEP_DEL15\",\"ARR_TIME\",\"ARR_DELAY\",\"ARR_DEL15\",\"CANCELLED\",\"DIVERTED\",\n",
    "    \"ACTUAL_ELAPSED_TIME\",\"DELAY_15\"]\n",
    "df1=df.drop(columns=clm)\n",
    "df1.head()"
   ]
  },
  {
   "cell_type": "code",
   "execution_count": 72,
   "id": "8033ed3b",
   "metadata": {},
   "outputs": [
    {
     "data": {
      "text/html": [
       "<div>\n",
       "<style scoped>\n",
       "    .dataframe tbody tr th:only-of-type {\n",
       "        vertical-align: middle;\n",
       "    }\n",
       "\n",
       "    .dataframe tbody tr th {\n",
       "        vertical-align: top;\n",
       "    }\n",
       "\n",
       "    .dataframe thead th {\n",
       "        text-align: right;\n",
       "    }\n",
       "</style>\n",
       "<table border=\"1\" class=\"dataframe\">\n",
       "  <thead>\n",
       "    <tr style=\"text-align: right;\">\n",
       "      <th></th>\n",
       "      <th>QUARTER</th>\n",
       "      <th>MONTH</th>\n",
       "      <th>DAY_OF_MONTH</th>\n",
       "      <th>DAY_OF_WEEK</th>\n",
       "      <th>TAIL_NUM</th>\n",
       "      <th>FL_NUM</th>\n",
       "      <th>ORIGIN_AIRPORT_ID</th>\n",
       "      <th>ORIGIN</th>\n",
       "      <th>DEST_AIRPORT_ID</th>\n",
       "      <th>DEST</th>\n",
       "      <th>...</th>\n",
       "      <th>DEP_TIME.1</th>\n",
       "      <th>CRS_ARR_TIME</th>\n",
       "      <th>CRS_ARR_TIME.1</th>\n",
       "      <th>ARR_TIME.1</th>\n",
       "      <th>CRS_ELAPSED_TIME1</th>\n",
       "      <th>ACTUAL_ELAPSED_TIME1</th>\n",
       "      <th>CRS_ELAPSED_TIME</th>\n",
       "      <th>DISTANCE</th>\n",
       "      <th>SEASON</th>\n",
       "      <th>NDELAY</th>\n",
       "    </tr>\n",
       "  </thead>\n",
       "  <tbody>\n",
       "    <tr>\n",
       "      <th>0</th>\n",
       "      <td>1</td>\n",
       "      <td>1</td>\n",
       "      <td>1</td>\n",
       "      <td>5</td>\n",
       "      <td>N836DN</td>\n",
       "      <td>1399</td>\n",
       "      <td>10397</td>\n",
       "      <td>ATL</td>\n",
       "      <td>14747</td>\n",
       "      <td>SEA</td>\n",
       "      <td>...</td>\n",
       "      <td>1907.0</td>\n",
       "      <td>21:43:00</td>\n",
       "      <td>2143</td>\n",
       "      <td>2102.0</td>\n",
       "      <td>05:38:00</td>\n",
       "      <td>04:55:00</td>\n",
       "      <td>338</td>\n",
       "      <td>2182</td>\n",
       "      <td>2</td>\n",
       "      <td>0.0</td>\n",
       "    </tr>\n",
       "    <tr>\n",
       "      <th>1</th>\n",
       "      <td>1</td>\n",
       "      <td>1</td>\n",
       "      <td>1</td>\n",
       "      <td>5</td>\n",
       "      <td>N964DN</td>\n",
       "      <td>1476</td>\n",
       "      <td>11433</td>\n",
       "      <td>DTW</td>\n",
       "      <td>13487</td>\n",
       "      <td>MSP</td>\n",
       "      <td>...</td>\n",
       "      <td>1344.0</td>\n",
       "      <td>14:35:00</td>\n",
       "      <td>1435</td>\n",
       "      <td>1439.0</td>\n",
       "      <td>01:50:00</td>\n",
       "      <td>01:55:00</td>\n",
       "      <td>110</td>\n",
       "      <td>528</td>\n",
       "      <td>2</td>\n",
       "      <td>0.0</td>\n",
       "    </tr>\n",
       "    <tr>\n",
       "      <th>2</th>\n",
       "      <td>1</td>\n",
       "      <td>1</td>\n",
       "      <td>1</td>\n",
       "      <td>5</td>\n",
       "      <td>N813DN</td>\n",
       "      <td>1597</td>\n",
       "      <td>10397</td>\n",
       "      <td>ATL</td>\n",
       "      <td>14747</td>\n",
       "      <td>SEA</td>\n",
       "      <td>...</td>\n",
       "      <td>942.0</td>\n",
       "      <td>12:15:00</td>\n",
       "      <td>1215</td>\n",
       "      <td>1142.0</td>\n",
       "      <td>05:35:00</td>\n",
       "      <td>05:00:00</td>\n",
       "      <td>335</td>\n",
       "      <td>2182</td>\n",
       "      <td>2</td>\n",
       "      <td>0.0</td>\n",
       "    </tr>\n",
       "    <tr>\n",
       "      <th>3</th>\n",
       "      <td>1</td>\n",
       "      <td>1</td>\n",
       "      <td>1</td>\n",
       "      <td>5</td>\n",
       "      <td>N587NW</td>\n",
       "      <td>1768</td>\n",
       "      <td>14747</td>\n",
       "      <td>SEA</td>\n",
       "      <td>13487</td>\n",
       "      <td>MSP</td>\n",
       "      <td>...</td>\n",
       "      <td>820.0</td>\n",
       "      <td>13:35:00</td>\n",
       "      <td>1335</td>\n",
       "      <td>1345.0</td>\n",
       "      <td>03:16:00</td>\n",
       "      <td>03:25:00</td>\n",
       "      <td>196</td>\n",
       "      <td>1399</td>\n",
       "      <td>2</td>\n",
       "      <td>0.0</td>\n",
       "    </tr>\n",
       "    <tr>\n",
       "      <th>4</th>\n",
       "      <td>1</td>\n",
       "      <td>1</td>\n",
       "      <td>1</td>\n",
       "      <td>5</td>\n",
       "      <td>N836DN</td>\n",
       "      <td>1823</td>\n",
       "      <td>14747</td>\n",
       "      <td>SEA</td>\n",
       "      <td>11433</td>\n",
       "      <td>DTW</td>\n",
       "      <td>...</td>\n",
       "      <td>2256.0</td>\n",
       "      <td>06:07:00</td>\n",
       "      <td>607</td>\n",
       "      <td>615.0</td>\n",
       "      <td>04:07:00</td>\n",
       "      <td>04:19:00</td>\n",
       "      <td>247</td>\n",
       "      <td>1927</td>\n",
       "      <td>2</td>\n",
       "      <td>0.0</td>\n",
       "    </tr>\n",
       "    <tr>\n",
       "      <th>...</th>\n",
       "      <td>...</td>\n",
       "      <td>...</td>\n",
       "      <td>...</td>\n",
       "      <td>...</td>\n",
       "      <td>...</td>\n",
       "      <td>...</td>\n",
       "      <td>...</td>\n",
       "      <td>...</td>\n",
       "      <td>...</td>\n",
       "      <td>...</td>\n",
       "      <td>...</td>\n",
       "      <td>...</td>\n",
       "      <td>...</td>\n",
       "      <td>...</td>\n",
       "      <td>...</td>\n",
       "      <td>...</td>\n",
       "      <td>...</td>\n",
       "      <td>...</td>\n",
       "      <td>...</td>\n",
       "      <td>...</td>\n",
       "      <td>...</td>\n",
       "    </tr>\n",
       "    <tr>\n",
       "      <th>11226</th>\n",
       "      <td>4</td>\n",
       "      <td>12</td>\n",
       "      <td>30</td>\n",
       "      <td>5</td>\n",
       "      <td>N940DL</td>\n",
       "      <td>1715</td>\n",
       "      <td>11433</td>\n",
       "      <td>DTW</td>\n",
       "      <td>10397</td>\n",
       "      <td>ATL</td>\n",
       "      <td>...</td>\n",
       "      <td>1003.0</td>\n",
       "      <td>12:23:00</td>\n",
       "      <td>1223</td>\n",
       "      <td>1148.0</td>\n",
       "      <td>02:18:00</td>\n",
       "      <td>01:45:00</td>\n",
       "      <td>138</td>\n",
       "      <td>594</td>\n",
       "      <td>2</td>\n",
       "      <td>0.0</td>\n",
       "    </tr>\n",
       "    <tr>\n",
       "      <th>11227</th>\n",
       "      <td>4</td>\n",
       "      <td>12</td>\n",
       "      <td>30</td>\n",
       "      <td>5</td>\n",
       "      <td>N836DN</td>\n",
       "      <td>1770</td>\n",
       "      <td>14747</td>\n",
       "      <td>SEA</td>\n",
       "      <td>13487</td>\n",
       "      <td>MSP</td>\n",
       "      <td>...</td>\n",
       "      <td>1559.0</td>\n",
       "      <td>20:46:00</td>\n",
       "      <td>2046</td>\n",
       "      <td>2100.0</td>\n",
       "      <td>03:21:00</td>\n",
       "      <td>03:01:00</td>\n",
       "      <td>201</td>\n",
       "      <td>1399</td>\n",
       "      <td>2</td>\n",
       "      <td>1.0</td>\n",
       "    </tr>\n",
       "    <tr>\n",
       "      <th>11228</th>\n",
       "      <td>4</td>\n",
       "      <td>12</td>\n",
       "      <td>30</td>\n",
       "      <td>5</td>\n",
       "      <td>N583NW</td>\n",
       "      <td>1823</td>\n",
       "      <td>11433</td>\n",
       "      <td>DTW</td>\n",
       "      <td>14747</td>\n",
       "      <td>SEA</td>\n",
       "      <td>...</td>\n",
       "      <td>1959.0</td>\n",
       "      <td>22:10:00</td>\n",
       "      <td>2210</td>\n",
       "      <td>2154.0</td>\n",
       "      <td>05:11:00</td>\n",
       "      <td>04:55:00</td>\n",
       "      <td>311</td>\n",
       "      <td>1927</td>\n",
       "      <td>2</td>\n",
       "      <td>0.0</td>\n",
       "    </tr>\n",
       "    <tr>\n",
       "      <th>11229</th>\n",
       "      <td>4</td>\n",
       "      <td>12</td>\n",
       "      <td>30</td>\n",
       "      <td>5</td>\n",
       "      <td>N554NW</td>\n",
       "      <td>1901</td>\n",
       "      <td>10397</td>\n",
       "      <td>ATL</td>\n",
       "      <td>14747</td>\n",
       "      <td>SEA</td>\n",
       "      <td>...</td>\n",
       "      <td>1529.0</td>\n",
       "      <td>18:06:00</td>\n",
       "      <td>1806</td>\n",
       "      <td>1801.0</td>\n",
       "      <td>05:36:00</td>\n",
       "      <td>05:32:00</td>\n",
       "      <td>336</td>\n",
       "      <td>2182</td>\n",
       "      <td>2</td>\n",
       "      <td>0.0</td>\n",
       "    </tr>\n",
       "    <tr>\n",
       "      <th>11230</th>\n",
       "      <td>4</td>\n",
       "      <td>12</td>\n",
       "      <td>30</td>\n",
       "      <td>5</td>\n",
       "      <td>N843DN</td>\n",
       "      <td>2005</td>\n",
       "      <td>10397</td>\n",
       "      <td>ATL</td>\n",
       "      <td>11433</td>\n",
       "      <td>DTW</td>\n",
       "      <td>...</td>\n",
       "      <td>723.0</td>\n",
       "      <td>09:25:00</td>\n",
       "      <td>925</td>\n",
       "      <td>913.0</td>\n",
       "      <td>02:00:00</td>\n",
       "      <td>01:50:00</td>\n",
       "      <td>120</td>\n",
       "      <td>594</td>\n",
       "      <td>2</td>\n",
       "      <td>0.0</td>\n",
       "    </tr>\n",
       "  </tbody>\n",
       "</table>\n",
       "<p>11231 rows × 22 columns</p>\n",
       "</div>"
      ],
      "text/plain": [
       "       QUARTER  MONTH  DAY_OF_MONTH  DAY_OF_WEEK TAIL_NUM  FL_NUM  \\\n",
       "0            1      1             1            5   N836DN    1399   \n",
       "1            1      1             1            5   N964DN    1476   \n",
       "2            1      1             1            5   N813DN    1597   \n",
       "3            1      1             1            5   N587NW    1768   \n",
       "4            1      1             1            5   N836DN    1823   \n",
       "...        ...    ...           ...          ...      ...     ...   \n",
       "11226        4     12            30            5   N940DL    1715   \n",
       "11227        4     12            30            5   N836DN    1770   \n",
       "11228        4     12            30            5   N583NW    1823   \n",
       "11229        4     12            30            5   N554NW    1901   \n",
       "11230        4     12            30            5   N843DN    2005   \n",
       "\n",
       "       ORIGIN_AIRPORT_ID ORIGIN  DEST_AIRPORT_ID DEST  ... DEP_TIME.1  \\\n",
       "0                  10397    ATL            14747  SEA  ...     1907.0   \n",
       "1                  11433    DTW            13487  MSP  ...     1344.0   \n",
       "2                  10397    ATL            14747  SEA  ...      942.0   \n",
       "3                  14747    SEA            13487  MSP  ...      820.0   \n",
       "4                  14747    SEA            11433  DTW  ...     2256.0   \n",
       "...                  ...    ...              ...  ...  ...        ...   \n",
       "11226              11433    DTW            10397  ATL  ...     1003.0   \n",
       "11227              14747    SEA            13487  MSP  ...     1559.0   \n",
       "11228              11433    DTW            14747  SEA  ...     1959.0   \n",
       "11229              10397    ATL            14747  SEA  ...     1529.0   \n",
       "11230              10397    ATL            11433  DTW  ...      723.0   \n",
       "\n",
       "       CRS_ARR_TIME  CRS_ARR_TIME.1 ARR_TIME.1  CRS_ELAPSED_TIME1  \\\n",
       "0          21:43:00            2143     2102.0           05:38:00   \n",
       "1          14:35:00            1435     1439.0           01:50:00   \n",
       "2          12:15:00            1215     1142.0           05:35:00   \n",
       "3          13:35:00            1335     1345.0           03:16:00   \n",
       "4          06:07:00             607      615.0           04:07:00   \n",
       "...             ...             ...        ...                ...   \n",
       "11226      12:23:00            1223     1148.0           02:18:00   \n",
       "11227      20:46:00            2046     2100.0           03:21:00   \n",
       "11228      22:10:00            2210     2154.0           05:11:00   \n",
       "11229      18:06:00            1806     1801.0           05:36:00   \n",
       "11230      09:25:00             925      913.0           02:00:00   \n",
       "\n",
       "       ACTUAL_ELAPSED_TIME1 CRS_ELAPSED_TIME DISTANCE  SEASON  NDELAY  \n",
       "0                  04:55:00              338     2182       2     0.0  \n",
       "1                  01:55:00              110      528       2     0.0  \n",
       "2                  05:00:00              335     2182       2     0.0  \n",
       "3                  03:25:00              196     1399       2     0.0  \n",
       "4                  04:19:00              247     1927       2     0.0  \n",
       "...                     ...              ...      ...     ...     ...  \n",
       "11226              01:45:00              138      594       2     0.0  \n",
       "11227              03:01:00              201     1399       2     1.0  \n",
       "11228              04:55:00              311     1927       2     0.0  \n",
       "11229              05:32:00              336     2182       2     0.0  \n",
       "11230              01:50:00              120      594       2     0.0  \n",
       "\n",
       "[11231 rows x 22 columns]"
      ]
     },
     "execution_count": 72,
     "metadata": {},
     "output_type": "execute_result"
    }
   ],
   "source": [
    "df1.dropna(how='all',axis=1)"
   ]
  },
  {
   "cell_type": "code",
   "execution_count": 73,
   "id": "0bfb0681",
   "metadata": {},
   "outputs": [
    {
     "data": {
      "text/html": [
       "<div>\n",
       "<style scoped>\n",
       "    .dataframe tbody tr th:only-of-type {\n",
       "        vertical-align: middle;\n",
       "    }\n",
       "\n",
       "    .dataframe tbody tr th {\n",
       "        vertical-align: top;\n",
       "    }\n",
       "\n",
       "    .dataframe thead th {\n",
       "        text-align: right;\n",
       "    }\n",
       "</style>\n",
       "<table border=\"1\" class=\"dataframe\">\n",
       "  <thead>\n",
       "    <tr style=\"text-align: right;\">\n",
       "      <th></th>\n",
       "      <th>QUARTER</th>\n",
       "      <th>MONTH</th>\n",
       "      <th>DAY_OF_MONTH</th>\n",
       "      <th>DAY_OF_WEEK</th>\n",
       "      <th>TAIL_NUM</th>\n",
       "      <th>FL_NUM</th>\n",
       "      <th>ORIGIN_AIRPORT_ID</th>\n",
       "      <th>ORIGIN</th>\n",
       "      <th>DEST_AIRPORT_ID</th>\n",
       "      <th>DEST</th>\n",
       "      <th>...</th>\n",
       "      <th>DEP_TIME.1</th>\n",
       "      <th>CRS_ARR_TIME</th>\n",
       "      <th>CRS_ARR_TIME.1</th>\n",
       "      <th>ARR_TIME.1</th>\n",
       "      <th>CRS_ELAPSED_TIME1</th>\n",
       "      <th>ACTUAL_ELAPSED_TIME1</th>\n",
       "      <th>CRS_ELAPSED_TIME</th>\n",
       "      <th>DISTANCE</th>\n",
       "      <th>SEASON</th>\n",
       "      <th>NDELAY</th>\n",
       "    </tr>\n",
       "  </thead>\n",
       "  <tbody>\n",
       "    <tr>\n",
       "      <th>0</th>\n",
       "      <td>1</td>\n",
       "      <td>1</td>\n",
       "      <td>1</td>\n",
       "      <td>5</td>\n",
       "      <td>N836DN</td>\n",
       "      <td>1399</td>\n",
       "      <td>10397</td>\n",
       "      <td>ATL</td>\n",
       "      <td>14747</td>\n",
       "      <td>SEA</td>\n",
       "      <td>...</td>\n",
       "      <td>1907.0</td>\n",
       "      <td>21:43:00</td>\n",
       "      <td>2143</td>\n",
       "      <td>2102.0</td>\n",
       "      <td>05:38:00</td>\n",
       "      <td>04:55:00</td>\n",
       "      <td>338</td>\n",
       "      <td>2182</td>\n",
       "      <td>2</td>\n",
       "      <td>0.0</td>\n",
       "    </tr>\n",
       "    <tr>\n",
       "      <th>1</th>\n",
       "      <td>1</td>\n",
       "      <td>1</td>\n",
       "      <td>1</td>\n",
       "      <td>5</td>\n",
       "      <td>N964DN</td>\n",
       "      <td>1476</td>\n",
       "      <td>11433</td>\n",
       "      <td>DTW</td>\n",
       "      <td>13487</td>\n",
       "      <td>MSP</td>\n",
       "      <td>...</td>\n",
       "      <td>1344.0</td>\n",
       "      <td>14:35:00</td>\n",
       "      <td>1435</td>\n",
       "      <td>1439.0</td>\n",
       "      <td>01:50:00</td>\n",
       "      <td>01:55:00</td>\n",
       "      <td>110</td>\n",
       "      <td>528</td>\n",
       "      <td>2</td>\n",
       "      <td>0.0</td>\n",
       "    </tr>\n",
       "    <tr>\n",
       "      <th>2</th>\n",
       "      <td>1</td>\n",
       "      <td>1</td>\n",
       "      <td>1</td>\n",
       "      <td>5</td>\n",
       "      <td>N813DN</td>\n",
       "      <td>1597</td>\n",
       "      <td>10397</td>\n",
       "      <td>ATL</td>\n",
       "      <td>14747</td>\n",
       "      <td>SEA</td>\n",
       "      <td>...</td>\n",
       "      <td>942.0</td>\n",
       "      <td>12:15:00</td>\n",
       "      <td>1215</td>\n",
       "      <td>1142.0</td>\n",
       "      <td>05:35:00</td>\n",
       "      <td>05:00:00</td>\n",
       "      <td>335</td>\n",
       "      <td>2182</td>\n",
       "      <td>2</td>\n",
       "      <td>0.0</td>\n",
       "    </tr>\n",
       "    <tr>\n",
       "      <th>3</th>\n",
       "      <td>1</td>\n",
       "      <td>1</td>\n",
       "      <td>1</td>\n",
       "      <td>5</td>\n",
       "      <td>N587NW</td>\n",
       "      <td>1768</td>\n",
       "      <td>14747</td>\n",
       "      <td>SEA</td>\n",
       "      <td>13487</td>\n",
       "      <td>MSP</td>\n",
       "      <td>...</td>\n",
       "      <td>820.0</td>\n",
       "      <td>13:35:00</td>\n",
       "      <td>1335</td>\n",
       "      <td>1345.0</td>\n",
       "      <td>03:16:00</td>\n",
       "      <td>03:25:00</td>\n",
       "      <td>196</td>\n",
       "      <td>1399</td>\n",
       "      <td>2</td>\n",
       "      <td>0.0</td>\n",
       "    </tr>\n",
       "    <tr>\n",
       "      <th>4</th>\n",
       "      <td>1</td>\n",
       "      <td>1</td>\n",
       "      <td>1</td>\n",
       "      <td>5</td>\n",
       "      <td>N836DN</td>\n",
       "      <td>1823</td>\n",
       "      <td>14747</td>\n",
       "      <td>SEA</td>\n",
       "      <td>11433</td>\n",
       "      <td>DTW</td>\n",
       "      <td>...</td>\n",
       "      <td>2256.0</td>\n",
       "      <td>06:07:00</td>\n",
       "      <td>607</td>\n",
       "      <td>615.0</td>\n",
       "      <td>04:07:00</td>\n",
       "      <td>04:19:00</td>\n",
       "      <td>247</td>\n",
       "      <td>1927</td>\n",
       "      <td>2</td>\n",
       "      <td>0.0</td>\n",
       "    </tr>\n",
       "  </tbody>\n",
       "</table>\n",
       "<p>5 rows × 22 columns</p>\n",
       "</div>"
      ],
      "text/plain": [
       "   QUARTER  MONTH  DAY_OF_MONTH  DAY_OF_WEEK TAIL_NUM  FL_NUM  \\\n",
       "0        1      1             1            5   N836DN    1399   \n",
       "1        1      1             1            5   N964DN    1476   \n",
       "2        1      1             1            5   N813DN    1597   \n",
       "3        1      1             1            5   N587NW    1768   \n",
       "4        1      1             1            5   N836DN    1823   \n",
       "\n",
       "   ORIGIN_AIRPORT_ID ORIGIN  DEST_AIRPORT_ID DEST  ... DEP_TIME.1  \\\n",
       "0              10397    ATL            14747  SEA  ...     1907.0   \n",
       "1              11433    DTW            13487  MSP  ...     1344.0   \n",
       "2              10397    ATL            14747  SEA  ...      942.0   \n",
       "3              14747    SEA            13487  MSP  ...      820.0   \n",
       "4              14747    SEA            11433  DTW  ...     2256.0   \n",
       "\n",
       "   CRS_ARR_TIME  CRS_ARR_TIME.1 ARR_TIME.1  CRS_ELAPSED_TIME1  \\\n",
       "0      21:43:00            2143     2102.0           05:38:00   \n",
       "1      14:35:00            1435     1439.0           01:50:00   \n",
       "2      12:15:00            1215     1142.0           05:35:00   \n",
       "3      13:35:00            1335     1345.0           03:16:00   \n",
       "4      06:07:00             607      615.0           04:07:00   \n",
       "\n",
       "   ACTUAL_ELAPSED_TIME1 CRS_ELAPSED_TIME DISTANCE  SEASON  NDELAY  \n",
       "0              04:55:00              338     2182       2     0.0  \n",
       "1              01:55:00              110      528       2     0.0  \n",
       "2              05:00:00              335     2182       2     0.0  \n",
       "3              03:25:00              196     1399       2     0.0  \n",
       "4              04:19:00              247     1927       2     0.0  \n",
       "\n",
       "[5 rows x 22 columns]"
      ]
     },
     "execution_count": 73,
     "metadata": {},
     "output_type": "execute_result"
    }
   ],
   "source": [
    "df1.head()"
   ]
  },
  {
   "cell_type": "code",
   "execution_count": 74,
   "id": "09488a8e",
   "metadata": {},
   "outputs": [],
   "source": [
    "df2=df1.drop(columns=[\"TAIL_NUM\",\"FL_NUM\"])"
   ]
  },
  {
   "cell_type": "code",
   "execution_count": 75,
   "id": "311489aa",
   "metadata": {},
   "outputs": [
    {
     "name": "stdout",
     "output_type": "stream",
     "text": [
      "<class 'pandas.core.frame.DataFrame'>\n",
      "RangeIndex: 11231 entries, 0 to 11230\n",
      "Data columns (total 20 columns):\n",
      " #   Column                Non-Null Count  Dtype  \n",
      "---  ------                --------------  -----  \n",
      " 0   QUARTER               11231 non-null  int64  \n",
      " 1   MONTH                 11231 non-null  int64  \n",
      " 2   DAY_OF_MONTH          11231 non-null  int64  \n",
      " 3   DAY_OF_WEEK           11231 non-null  int64  \n",
      " 4   ORIGIN_AIRPORT_ID     11231 non-null  int64  \n",
      " 5   ORIGIN                11231 non-null  object \n",
      " 6   DEST_AIRPORT_ID       11231 non-null  int64  \n",
      " 7   DEST                  11231 non-null  object \n",
      " 8   CRS_DEP_TIME          11231 non-null  object \n",
      " 9   CRS_DEP_TIME.1        11231 non-null  int64  \n",
      " 10  DEP_TIME.1            11124 non-null  float64\n",
      " 11  CRS_ARR_TIME          11231 non-null  object \n",
      " 12  CRS_ARR_TIME.1        11231 non-null  int64  \n",
      " 13  ARR_TIME.1            11116 non-null  float64\n",
      " 14  CRS_ELAPSED_TIME1     11231 non-null  object \n",
      " 15  ACTUAL_ELAPSED_TIME1  11231 non-null  object \n",
      " 16  CRS_ELAPSED_TIME      11231 non-null  int64  \n",
      " 17  DISTANCE              11231 non-null  int64  \n",
      " 18  SEASON                11231 non-null  int64  \n",
      " 19  NDELAY                11231 non-null  float64\n",
      "dtypes: float64(3), int64(11), object(6)\n",
      "memory usage: 1.7+ MB\n"
     ]
    }
   ],
   "source": [
    "df2.info()"
   ]
  },
  {
   "cell_type": "code",
   "execution_count": 76,
   "id": "66f6727f",
   "metadata": {},
   "outputs": [
    {
     "data": {
      "text/plain": [
       "array([[<AxesSubplot:title={'center':'QUARTER'}>,\n",
       "        <AxesSubplot:title={'center':'MONTH'}>,\n",
       "        <AxesSubplot:title={'center':'DAY_OF_MONTH'}>,\n",
       "        <AxesSubplot:title={'center':'DAY_OF_WEEK'}>],\n",
       "       [<AxesSubplot:title={'center':'ORIGIN_AIRPORT_ID'}>,\n",
       "        <AxesSubplot:title={'center':'DEST_AIRPORT_ID'}>,\n",
       "        <AxesSubplot:title={'center':'CRS_DEP_TIME.1'}>,\n",
       "        <AxesSubplot:title={'center':'DEP_TIME.1'}>],\n",
       "       [<AxesSubplot:title={'center':'CRS_ARR_TIME.1'}>,\n",
       "        <AxesSubplot:title={'center':'ARR_TIME.1'}>,\n",
       "        <AxesSubplot:title={'center':'CRS_ELAPSED_TIME'}>,\n",
       "        <AxesSubplot:title={'center':'DISTANCE'}>],\n",
       "       [<AxesSubplot:title={'center':'SEASON'}>,\n",
       "        <AxesSubplot:title={'center':'NDELAY'}>, <AxesSubplot:>,\n",
       "        <AxesSubplot:>]], dtype=object)"
      ]
     },
     "execution_count": 76,
     "metadata": {},
     "output_type": "execute_result"
    },
    {
     "data": {
      "image/png": "[encoded data removed]",
      "text/plain": [
       "<Figure size 864x864 with 16 Axes>"
      ]
     },
     "metadata": {
      "needs_background": "light"
     },
     "output_type": "display_data"
    }
   ],
   "source": [
    "df2.hist(figsize=(12,12))"
   ]
  },
  {
   "cell_type": "code",
   "execution_count": 77,
   "id": "db5274e1",
   "metadata": {
    "scrolled": true
   },
   "outputs": [
    {
     "data": {
      "text/plain": [
       "0.0    9130\n",
       "2.0    1035\n",
       "1.0     878\n",
       "4.0     114\n",
       "3.0      74\n",
       "Name: NDELAY, dtype: int64"
      ]
     },
     "execution_count": 77,
     "metadata": {},
     "output_type": "execute_result"
    }
   ],
   "source": [
    "df2.NDELAY.value_counts()"
   ]
  },
  {
   "cell_type": "markdown",
   "id": "6a7e9c6d",
   "metadata": {},
   "source": [
    "# Spliting Dependent and Independent Variables"
   ]
  },
  {
   "cell_type": "code",
   "execution_count": 79,
   "id": "dfb1c5c4",
   "metadata": {},
   "outputs": [],
   "source": [
    "x=df1.drop(columns=[\"NDELAY\",\"TAIL_NUM\"])\n",
    "y=df1.NDELAY"
   ]
  },
  {
   "cell_type": "markdown",
   "id": "6e8638a7",
   "metadata": {},
   "source": [
    "# Encoding Categorical columns to numerical"
   ]
  },
  {
   "cell_type": "code",
   "execution_count": 80,
   "id": "e32a39c0",
   "metadata": {},
   "outputs": [],
   "source": [
    "x[\"ORIGIN\"].replace({\"ATL\":1,'DTW':2,'JFK':3,'MSP':4,'SEA':5},inplace=True)\n",
    "x[\"DEST\"].replace({\"ATL\":1,'DTW':2,'JFK':3,'MSP':4,'SEA':5},inplace=True)"
   ]
  },
  {
   "cell_type": "code",
   "execution_count": 81,
   "id": "3ebed3e3",
   "metadata": {},
   "outputs": [
    {
     "data": {
      "text/html": [
       "<div>\n",
       "<style scoped>\n",
       "    .dataframe tbody tr th:only-of-type {\n",
       "        vertical-align: middle;\n",
       "    }\n",
       "\n",
       "    .dataframe tbody tr th {\n",
       "        vertical-align: top;\n",
       "    }\n",
       "\n",
       "    .dataframe thead th {\n",
       "        text-align: right;\n",
       "    }\n",
       "</style>\n",
       "<table border=\"1\" class=\"dataframe\">\n",
       "  <thead>\n",
       "    <tr style=\"text-align: right;\">\n",
       "      <th></th>\n",
       "      <th>QUARTER</th>\n",
       "      <th>MONTH</th>\n",
       "      <th>DAY_OF_MONTH</th>\n",
       "      <th>DAY_OF_WEEK</th>\n",
       "      <th>FL_NUM</th>\n",
       "      <th>ORIGIN</th>\n",
       "      <th>DEST</th>\n",
       "      <th>CRS_DEP_TIME.1</th>\n",
       "      <th>CRS_ARR_TIME.1</th>\n",
       "      <th>CRS_ELAPSED_TIME</th>\n",
       "      <th>DISTANCE</th>\n",
       "      <th>SEASON</th>\n",
       "    </tr>\n",
       "  </thead>\n",
       "  <tbody>\n",
       "    <tr>\n",
       "      <th>0</th>\n",
       "      <td>1</td>\n",
       "      <td>1</td>\n",
       "      <td>1</td>\n",
       "      <td>5</td>\n",
       "      <td>1399</td>\n",
       "      <td>1</td>\n",
       "      <td>5</td>\n",
       "      <td>1905</td>\n",
       "      <td>2143</td>\n",
       "      <td>338</td>\n",
       "      <td>2182</td>\n",
       "      <td>2</td>\n",
       "    </tr>\n",
       "    <tr>\n",
       "      <th>1</th>\n",
       "      <td>1</td>\n",
       "      <td>1</td>\n",
       "      <td>1</td>\n",
       "      <td>5</td>\n",
       "      <td>1476</td>\n",
       "      <td>2</td>\n",
       "      <td>4</td>\n",
       "      <td>1345</td>\n",
       "      <td>1435</td>\n",
       "      <td>110</td>\n",
       "      <td>528</td>\n",
       "      <td>2</td>\n",
       "    </tr>\n",
       "    <tr>\n",
       "      <th>2</th>\n",
       "      <td>1</td>\n",
       "      <td>1</td>\n",
       "      <td>1</td>\n",
       "      <td>5</td>\n",
       "      <td>1597</td>\n",
       "      <td>1</td>\n",
       "      <td>5</td>\n",
       "      <td>940</td>\n",
       "      <td>1215</td>\n",
       "      <td>335</td>\n",
       "      <td>2182</td>\n",
       "      <td>2</td>\n",
       "    </tr>\n",
       "    <tr>\n",
       "      <th>3</th>\n",
       "      <td>1</td>\n",
       "      <td>1</td>\n",
       "      <td>1</td>\n",
       "      <td>5</td>\n",
       "      <td>1768</td>\n",
       "      <td>5</td>\n",
       "      <td>4</td>\n",
       "      <td>819</td>\n",
       "      <td>1335</td>\n",
       "      <td>196</td>\n",
       "      <td>1399</td>\n",
       "      <td>2</td>\n",
       "    </tr>\n",
       "    <tr>\n",
       "      <th>4</th>\n",
       "      <td>1</td>\n",
       "      <td>1</td>\n",
       "      <td>1</td>\n",
       "      <td>5</td>\n",
       "      <td>1823</td>\n",
       "      <td>5</td>\n",
       "      <td>2</td>\n",
       "      <td>2300</td>\n",
       "      <td>607</td>\n",
       "      <td>247</td>\n",
       "      <td>1927</td>\n",
       "      <td>2</td>\n",
       "    </tr>\n",
       "  </tbody>\n",
       "</table>\n",
       "</div>"
      ],
      "text/plain": [
       "   QUARTER  MONTH  DAY_OF_MONTH  DAY_OF_WEEK  FL_NUM  ORIGIN  DEST  \\\n",
       "0        1      1             1            5    1399       1     5   \n",
       "1        1      1             1            5    1476       2     4   \n",
       "2        1      1             1            5    1597       1     5   \n",
       "3        1      1             1            5    1768       5     4   \n",
       "4        1      1             1            5    1823       5     2   \n",
       "\n",
       "   CRS_DEP_TIME.1  CRS_ARR_TIME.1  CRS_ELAPSED_TIME  DISTANCE  SEASON  \n",
       "0            1905            2143               338      2182       2  \n",
       "1            1345            1435               110       528       2  \n",
       "2             940            1215               335      2182       2  \n",
       "3             819            1335               196      1399       2  \n",
       "4            2300             607               247      1927       2  "
      ]
     },
     "execution_count": 81,
     "metadata": {},
     "output_type": "execute_result"
    }
   ],
   "source": [
    "import os, types\n",
    "import pandas as pd\n",
    "from botocore.client import Config\n",
    "import ibm_boto3\n",
    "\n",
    "def __iter__(self): return 0\n",
    "\n",
    "# @hidden_cell\n",
    "# The following code accesses a file in your IBM Cloud Object Storage. It includes your credentials.\n",
    "# You might want to remove those credentials before you share the notebook.\n",
    "cos_client = ibm_boto3.client(service_name='s3',\n",
    "    ibm_api_key_id='9aSkuMDufRQ-_cGNUoBz7Lt6oBI_rXUiZ_yao-U4oncs',\n",
    "    ibm_auth_endpoint=\"https://iam.cloud.ibm.com/oidc/token\",\n",
    "    config=Config(signature_version='oauth'),\n",
    "    endpoint_url='https://s3.private.us.cloud-object-storage.appdomain.cloud')\n",
    "\n",
    "bucket = 'flightdelayprediction-donotdelete-pr-ocgt3z2vhznocj'\n",
    "object_key = 'X.csv'\n",
    "\n",
    "body = cos_client.get_object(Bucket=bucket,Key=object_key)['Body']\n",
    "# add missing __iter__ method, so pandas accepts body as file-like object\n",
    "if not hasattr(body, \"__iter__\"): body.__iter__ = types.MethodType( __iter__, body )\n",
    "\n",
    "x1 = pd.read_csv(body)\n",
    "x1.head()"
   ]
  },
  {
   "cell_type": "code",
   "execution_count": 82,
   "id": "b46b948d",
   "metadata": {},
   "outputs": [
    {
     "data": {
      "text/html": [
       "<div>\n",
       "<style scoped>\n",
       "    .dataframe tbody tr th:only-of-type {\n",
       "        vertical-align: middle;\n",
       "    }\n",
       "\n",
       "    .dataframe tbody tr th {\n",
       "        vertical-align: top;\n",
       "    }\n",
       "\n",
       "    .dataframe thead th {\n",
       "        text-align: right;\n",
       "    }\n",
       "</style>\n",
       "<table border=\"1\" class=\"dataframe\">\n",
       "  <thead>\n",
       "    <tr style=\"text-align: right;\">\n",
       "      <th></th>\n",
       "      <th>NDELAY</th>\n",
       "    </tr>\n",
       "  </thead>\n",
       "  <tbody>\n",
       "    <tr>\n",
       "      <th>0</th>\n",
       "      <td>0.0</td>\n",
       "    </tr>\n",
       "    <tr>\n",
       "      <th>1</th>\n",
       "      <td>0.0</td>\n",
       "    </tr>\n",
       "    <tr>\n",
       "      <th>2</th>\n",
       "      <td>0.0</td>\n",
       "    </tr>\n",
       "    <tr>\n",
       "      <th>3</th>\n",
       "      <td>0.0</td>\n",
       "    </tr>\n",
       "    <tr>\n",
       "      <th>4</th>\n",
       "      <td>0.0</td>\n",
       "    </tr>\n",
       "  </tbody>\n",
       "</table>\n",
       "</div>"
      ],
      "text/plain": [
       "   NDELAY\n",
       "0     0.0\n",
       "1     0.0\n",
       "2     0.0\n",
       "3     0.0\n",
       "4     0.0"
      ]
     },
     "execution_count": 82,
     "metadata": {},
     "output_type": "execute_result"
    }
   ],
   "source": [
    "import os, types\n",
    "import pandas as pd\n",
    "from botocore.client import Config\n",
    "import ibm_boto3\n",
    "\n",
    "def __iter__(self): return 0\n",
    "\n",
    "# @hidden_cell\n",
    "# The following code accesses a file in your IBM Cloud Object Storage. It includes your credentials.\n",
    "# You might want to remove those credentials before you share the notebook.\n",
    "cos_client = ibm_boto3.client(service_name='s3',\n",
    "    ibm_api_key_id='9aSkuMDufRQ-_cGNUoBz7Lt6oBI_rXUiZ_yao-U4oncs',\n",
    "    ibm_auth_endpoint=\"https://iam.cloud.ibm.com/oidc/token\",\n",
    "    config=Config(signature_version='oauth'),\n",
    "    endpoint_url='https://s3.private.us.cloud-object-storage.appdomain.cloud')\n",
    "\n",
    "bucket = 'flightdelayprediction-donotdelete-pr-ocgt3z2vhznocj'\n",
    "object_key = 'Y.csv'\n",
    "\n",
    "body = cos_client.get_object(Bucket=bucket,Key=object_key)['Body']\n",
    "# add missing __iter__ method, so pandas accepts body as file-like object\n",
    "if not hasattr(body, \"__iter__\"): body.__iter__ = types.MethodType( __iter__, body )\n",
    "\n",
    "y2 = pd.read_csv(body)\n",
    "y2.head()"
   ]
  },
  {
   "cell_type": "code",
   "execution_count": 83,
   "id": "395fe3e7",
   "metadata": {},
   "outputs": [
    {
     "data": {
      "text/html": [
       "<div>\n",
       "<style scoped>\n",
       "    .dataframe tbody tr th:only-of-type {\n",
       "        vertical-align: middle;\n",
       "    }\n",
       "\n",
       "    .dataframe tbody tr th {\n",
       "        vertical-align: top;\n",
       "    }\n",
       "\n",
       "    .dataframe thead th {\n",
       "        text-align: right;\n",
       "    }\n",
       "</style>\n",
       "<table border=\"1\" class=\"dataframe\">\n",
       "  <thead>\n",
       "    <tr style=\"text-align: right;\">\n",
       "      <th></th>\n",
       "      <th>QUARTER</th>\n",
       "      <th>MONTH</th>\n",
       "      <th>DAY_OF_MONTH</th>\n",
       "      <th>DAY_OF_WEEK</th>\n",
       "      <th>FL_NUM</th>\n",
       "      <th>ORIGIN</th>\n",
       "      <th>DEST</th>\n",
       "      <th>CRS_DEP_TIME.1</th>\n",
       "      <th>CRS_ARR_TIME.1</th>\n",
       "      <th>CRS_ELAPSED_TIME</th>\n",
       "      <th>DISTANCE</th>\n",
       "      <th>SEASON</th>\n",
       "    </tr>\n",
       "  </thead>\n",
       "  <tbody>\n",
       "    <tr>\n",
       "      <th>5816</th>\n",
       "      <td>3</td>\n",
       "      <td>8</td>\n",
       "      <td>16</td>\n",
       "      <td>2</td>\n",
       "      <td>786</td>\n",
       "      <td>2</td>\n",
       "      <td>1</td>\n",
       "      <td>1400</td>\n",
       "      <td>1603</td>\n",
       "      <td>123</td>\n",
       "      <td>594</td>\n",
       "      <td>0</td>\n",
       "    </tr>\n",
       "    <tr>\n",
       "      <th>475</th>\n",
       "      <td>1</td>\n",
       "      <td>1</td>\n",
       "      <td>25</td>\n",
       "      <td>1</td>\n",
       "      <td>1173</td>\n",
       "      <td>4</td>\n",
       "      <td>2</td>\n",
       "      <td>830</td>\n",
       "      <td>1114</td>\n",
       "      <td>104</td>\n",
       "      <td>528</td>\n",
       "      <td>2</td>\n",
       "    </tr>\n",
       "    <tr>\n",
       "      <th>10952</th>\n",
       "      <td>2</td>\n",
       "      <td>6</td>\n",
       "      <td>25</td>\n",
       "      <td>2</td>\n",
       "      <td>2547</td>\n",
       "      <td>5</td>\n",
       "      <td>4</td>\n",
       "      <td>1894</td>\n",
       "      <td>16</td>\n",
       "      <td>197</td>\n",
       "      <td>1399</td>\n",
       "      <td>0</td>\n",
       "    </tr>\n",
       "    <tr>\n",
       "      <th>8363</th>\n",
       "      <td>4</td>\n",
       "      <td>11</td>\n",
       "      <td>14</td>\n",
       "      <td>1</td>\n",
       "      <td>1247</td>\n",
       "      <td>5</td>\n",
       "      <td>1</td>\n",
       "      <td>900</td>\n",
       "      <td>1653</td>\n",
       "      <td>293</td>\n",
       "      <td>2182</td>\n",
       "      <td>1</td>\n",
       "    </tr>\n",
       "    <tr>\n",
       "      <th>11452</th>\n",
       "      <td>1</td>\n",
       "      <td>2</td>\n",
       "      <td>19</td>\n",
       "      <td>2</td>\n",
       "      <td>1232</td>\n",
       "      <td>1</td>\n",
       "      <td>4</td>\n",
       "      <td>2079</td>\n",
       "      <td>2209</td>\n",
       "      <td>149</td>\n",
       "      <td>744</td>\n",
       "      <td>2</td>\n",
       "    </tr>\n",
       "  </tbody>\n",
       "</table>\n",
       "</div>"
      ],
      "text/plain": [
       "       QUARTER  MONTH  DAY_OF_MONTH  DAY_OF_WEEK  FL_NUM  ORIGIN  DEST  \\\n",
       "5816         3      8            16            2     786       2     1   \n",
       "475          1      1            25            1    1173       4     2   \n",
       "10952        2      6            25            2    2547       5     4   \n",
       "8363         4     11            14            1    1247       5     1   \n",
       "11452        1      2            19            2    1232       1     4   \n",
       "\n",
       "       CRS_DEP_TIME.1  CRS_ARR_TIME.1  CRS_ELAPSED_TIME  DISTANCE  SEASON  \n",
       "5816             1400            1603               123       594       0  \n",
       "475               830            1114               104       528       2  \n",
       "10952            1894              16               197      1399       0  \n",
       "8363              900            1653               293      2182       1  \n",
       "11452            2079            2209               149       744       2  "
      ]
     },
     "execution_count": 83,
     "metadata": {},
     "output_type": "execute_result"
    }
   ],
   "source": [
    "from sklearn.utils import shuffle\n",
    "X,Y=shuffle(x1,y2,random_state=72)\n",
    "X.head()"
   ]
  },
  {
   "cell_type": "markdown",
   "id": "03d8fc60",
   "metadata": {},
   "source": [
    "# Splitting Dataset as Training and Testing data"
   ]
  },
  {
   "cell_type": "code",
   "execution_count": 84,
   "id": "1c08990c",
   "metadata": {},
   "outputs": [],
   "source": [
    "from sklearn.model_selection import train_test_split\n",
    "x_train,x_test,y_train,y_test=train_test_split(x1,y2,test_size=0.2,random_state=42)"
   ]
  },
  {
   "cell_type": "code",
   "execution_count": 85,
   "id": "8814953a",
   "metadata": {},
   "outputs": [
    {
     "data": {
      "text/plain": [
       "((9856, 12), (2464, 12))"
      ]
     },
     "execution_count": 85,
     "metadata": {},
     "output_type": "execute_result"
    }
   ],
   "source": [
    "x_train.shape,x_test.shape"
   ]
  },
  {
   "cell_type": "markdown",
   "id": "2928e4dd",
   "metadata": {},
   "source": [
    "# Model Building"
   ]
  },
  {
   "cell_type": "markdown",
   "id": "49e46733",
   "metadata": {},
   "source": [
    "# DecisionTree"
   ]
  },
  {
   "cell_type": "code",
   "execution_count": 86,
   "id": "f9c12cf8",
   "metadata": {},
   "outputs": [
    {
     "data": {
      "text/plain": [
       "0.7568993506493507"
      ]
     },
     "execution_count": 86,
     "metadata": {},
     "output_type": "execute_result"
    }
   ],
   "source": [
    "from sklearn.tree import DecisionTreeClassifier\n",
    "dc=DecisionTreeClassifier()\n",
    "dc.fit(x_train,y_train)\n",
    "dc.score(x_test,y_test)"
   ]
  },
  {
   "cell_type": "markdown",
   "id": "74e49410",
   "metadata": {},
   "source": [
    "# RandomForest"
   ]
  },
  {
   "cell_type": "code",
   "execution_count": 87,
   "id": "7e21e8fb",
   "metadata": {},
   "outputs": [
    {
     "data": {
      "text/plain": [
       "0.8368506493506493"
      ]
     },
     "execution_count": 87,
     "metadata": {},
     "output_type": "execute_result"
    }
   ],
   "source": [
    "from sklearn.ensemble import RandomForestClassifier\n",
    "rf=RandomForestClassifier(n_estimators=50,random_state=42)\n",
    "rf.fit(x_train,y_train.values.ravel())\n",
    "rf.score(x_test,y_test)"
   ]
  },
  {
   "cell_type": "code",
   "execution_count": 88,
   "id": "f71c4d8d",
   "metadata": {},
   "outputs": [
    {
     "data": {
      "text/plain": [
       "((9856, 12), (2464, 12))"
      ]
     },
     "execution_count": 88,
     "metadata": {},
     "output_type": "execute_result"
    }
   ],
   "source": [
    "x_train.shape,x_test.shape"
   ]
  },
  {
   "cell_type": "markdown",
   "id": "ae21dcad",
   "metadata": {},
   "source": [
    "# Model Building"
   ]
  },
  {
   "cell_type": "markdown",
   "id": "92f322ff",
   "metadata": {},
   "source": [
    "# Decision Tree"
   ]
  },
  {
   "cell_type": "code",
   "execution_count": 89,
   "id": "4faf0055",
   "metadata": {},
   "outputs": [
    {
     "data": {
      "text/plain": [
       "0.7495941558441559"
      ]
     },
     "execution_count": 89,
     "metadata": {},
     "output_type": "execute_result"
    }
   ],
   "source": [
    "from sklearn.tree import DecisionTreeClassifier\n",
    "dc=DecisionTreeClassifier()\n",
    "dc.fit(x_train,y_train)\n",
    "dc.score(x_test,y_test)"
   ]
  },
  {
   "cell_type": "markdown",
   "id": "b534b066",
   "metadata": {},
   "source": [
    "# Random Forest"
   ]
  },
  {
   "cell_type": "code",
   "execution_count": 90,
   "id": "a9abbfa0",
   "metadata": {},
   "outputs": [
    {
     "name": "stderr",
     "output_type": "stream",
     "text": [
      "/tmp/wsuser/ipykernel_164/905497165.py:3: DataConversionWarning: A column-vector y was passed when a 1d array was expected. Please change the shape of y to (n_samples,), for example using ravel().\n",
      "  rf.fit(x_train,y_train)\n"
     ]
    },
    {
     "data": {
      "text/plain": [
       "0.8368506493506493"
      ]
     },
     "execution_count": 90,
     "metadata": {},
     "output_type": "execute_result"
    }
   ],
   "source": [
    "from sklearn.ensemble import RandomForestClassifier\n",
    "rf=RandomForestClassifier(n_estimators=50,random_state=42)\n",
    "rf.fit(x_train,y_train)\n",
    "rf.score(x_test,y_test)"
   ]
  },
  {
   "cell_type": "code",
   "execution_count": 89,
   "id": "ae149c2a",
   "metadata": {},
   "outputs": [
    {
     "data": {
      "text/plain": [
       "0.0    1881\n",
       "1.0     223\n",
       "2.0     213\n",
       "4.0     106\n",
       "3.0      41\n",
       "dtype: int64"
      ]
     },
     "execution_count": 89,
     "metadata": {},
     "output_type": "execute_result"
    }
   ],
   "source": [
    "pd.DataFrame(rf.predict(x_test)).value_counts()"
   ]
  },
  {
   "cell_type": "code",
   "execution_count": 91,
   "id": "4c2a98a4",
   "metadata": {},
   "outputs": [
    {
     "data": {
      "text/html": [
       "<div>\n",
       "<style scoped>\n",
       "    .dataframe tbody tr th:only-of-type {\n",
       "        vertical-align: middle;\n",
       "    }\n",
       "\n",
       "    .dataframe tbody tr th {\n",
       "        vertical-align: top;\n",
       "    }\n",
       "\n",
       "    .dataframe thead th {\n",
       "        text-align: right;\n",
       "    }\n",
       "</style>\n",
       "<table border=\"1\" class=\"dataframe\">\n",
       "  <thead>\n",
       "    <tr style=\"text-align: right;\">\n",
       "      <th></th>\n",
       "      <th>QUARTER</th>\n",
       "      <th>MONTH</th>\n",
       "      <th>DAY_OF_MONTH</th>\n",
       "      <th>DAY_OF_WEEK</th>\n",
       "      <th>FL_NUM</th>\n",
       "      <th>ORIGIN</th>\n",
       "      <th>DEST</th>\n",
       "      <th>CRS_DEP_TIME.1</th>\n",
       "      <th>CRS_ARR_TIME.1</th>\n",
       "      <th>CRS_ELAPSED_TIME</th>\n",
       "      <th>DISTANCE</th>\n",
       "      <th>SEASON</th>\n",
       "    </tr>\n",
       "  </thead>\n",
       "  <tbody>\n",
       "    <tr>\n",
       "      <th>8817</th>\n",
       "      <td>4</td>\n",
       "      <td>11</td>\n",
       "      <td>3</td>\n",
       "      <td>4</td>\n",
       "      <td>2787</td>\n",
       "      <td>4</td>\n",
       "      <td>1</td>\n",
       "      <td>1935</td>\n",
       "      <td>2308</td>\n",
       "      <td>153</td>\n",
       "      <td>907</td>\n",
       "      <td>1</td>\n",
       "    </tr>\n",
       "    <tr>\n",
       "      <th>12270</th>\n",
       "      <td>3</td>\n",
       "      <td>7</td>\n",
       "      <td>26</td>\n",
       "      <td>4</td>\n",
       "      <td>43</td>\n",
       "      <td>3</td>\n",
       "      <td>1</td>\n",
       "      <td>1525</td>\n",
       "      <td>1814</td>\n",
       "      <td>169</td>\n",
       "      <td>760</td>\n",
       "      <td>0</td>\n",
       "    </tr>\n",
       "    <tr>\n",
       "      <th>2894</th>\n",
       "      <td>2</td>\n",
       "      <td>4</td>\n",
       "      <td>1</td>\n",
       "      <td>5</td>\n",
       "      <td>1991</td>\n",
       "      <td>4</td>\n",
       "      <td>1</td>\n",
       "      <td>520</td>\n",
       "      <td>845</td>\n",
       "      <td>145</td>\n",
       "      <td>907</td>\n",
       "      <td>3</td>\n",
       "    </tr>\n",
       "  </tbody>\n",
       "</table>\n",
       "</div>"
      ],
      "text/plain": [
       "       QUARTER  MONTH  DAY_OF_MONTH  DAY_OF_WEEK  FL_NUM  ORIGIN  DEST  \\\n",
       "8817         4     11             3            4    2787       4     1   \n",
       "12270        3      7            26            4      43       3     1   \n",
       "2894         2      4             1            5    1991       4     1   \n",
       "\n",
       "       CRS_DEP_TIME.1  CRS_ARR_TIME.1  CRS_ELAPSED_TIME  DISTANCE  SEASON  \n",
       "8817             1935            2308               153       907       1  \n",
       "12270            1525            1814               169       760       0  \n",
       "2894              520             845               145       907       3  "
      ]
     },
     "execution_count": 91,
     "metadata": {},
     "output_type": "execute_result"
    }
   ],
   "source": [
    "x_test.iloc[[99,21,22],:]"
   ]
  },
  {
   "cell_type": "code",
   "execution_count": 92,
   "id": "2f7c9d64",
   "metadata": {},
   "outputs": [
    {
     "data": {
      "text/html": [
       "<div>\n",
       "<style scoped>\n",
       "    .dataframe tbody tr th:only-of-type {\n",
       "        vertical-align: middle;\n",
       "    }\n",
       "\n",
       "    .dataframe tbody tr th {\n",
       "        vertical-align: top;\n",
       "    }\n",
       "\n",
       "    .dataframe thead th {\n",
       "        text-align: right;\n",
       "    }\n",
       "</style>\n",
       "<table border=\"1\" class=\"dataframe\">\n",
       "  <thead>\n",
       "    <tr style=\"text-align: right;\">\n",
       "      <th></th>\n",
       "      <th>NDELAY</th>\n",
       "    </tr>\n",
       "  </thead>\n",
       "  <tbody>\n",
       "    <tr>\n",
       "      <th>2318</th>\n",
       "      <td>0.0</td>\n",
       "    </tr>\n",
       "    <tr>\n",
       "      <th>12270</th>\n",
       "      <td>4.0</td>\n",
       "    </tr>\n",
       "    <tr>\n",
       "      <th>10061</th>\n",
       "      <td>1.0</td>\n",
       "    </tr>\n",
       "  </tbody>\n",
       "</table>\n",
       "</div>"
      ],
      "text/plain": [
       "       NDELAY\n",
       "2318      0.0\n",
       "12270     4.0\n",
       "10061     1.0"
      ]
     },
     "execution_count": 92,
     "metadata": {},
     "output_type": "execute_result"
    }
   ],
   "source": [
    "y_test.iloc[[8,21,912]]"
   ]
  },
  {
   "cell_type": "code",
   "execution_count": 93,
   "id": "78ab57b2",
   "metadata": {},
   "outputs": [
    {
     "data": {
      "text/plain": [
       "array([0., 4., 0.])"
      ]
     },
     "execution_count": 93,
     "metadata": {},
     "output_type": "execute_result"
    }
   ],
   "source": [
    "rf.predict(x_test.iloc[[8,21,912],:])"
   ]
  },
  {
   "cell_type": "code",
   "execution_count": 94,
   "id": "7ff8bfc3",
   "metadata": {},
   "outputs": [
    {
     "data": {
      "text/plain": [
       "0.0    1632\n",
       "1.0     335\n",
       "2.0     319\n",
       "4.0     121\n",
       "3.0      57\n",
       "dtype: int64"
      ]
     },
     "execution_count": 94,
     "metadata": {},
     "output_type": "execute_result"
    }
   ],
   "source": [
    "pd.DataFrame(dc.predict(x_test)).value_counts()"
   ]
  },
  {
   "cell_type": "markdown",
   "id": "b66f5e03",
   "metadata": {},
   "source": [
    "# Logistic Regression"
   ]
  },
  {
   "cell_type": "code",
   "execution_count": 95,
   "id": "7bc9000d",
   "metadata": {},
   "outputs": [
    {
     "name": "stderr",
     "output_type": "stream",
     "text": [
      "/opt/conda/envs/Python-3.9/lib/python3.9/site-packages/sklearn/linear_model/_sag.py:352: ConvergenceWarning: The max_iter was reached which means the coef_ did not converge\n",
      "  warnings.warn(\n"
     ]
    },
    {
     "data": {
      "text/plain": [
       "0.6830357142857143"
      ]
     },
     "execution_count": 95,
     "metadata": {},
     "output_type": "execute_result"
    }
   ],
   "source": [
    "from sklearn.linear_model import LogisticRegression\n",
    "lr1=LogisticRegression(solver='sag')\n",
    "lr1.fit(x_train,y_train.values.ravel())\n",
    "lr1.score(x_test,y_test)"
   ]
  },
  {
   "cell_type": "code",
   "execution_count": 96,
   "id": "e8b93a35",
   "metadata": {},
   "outputs": [
    {
     "data": {
      "text/plain": [
       "0.0"
      ]
     },
     "execution_count": 96,
     "metadata": {},
     "output_type": "execute_result"
    }
   ],
   "source": [
    "lr1.predict(x_test).sum()"
   ]
  },
  {
   "cell_type": "markdown",
   "id": "d01e29b5",
   "metadata": {},
   "source": [
    "# SVM"
   ]
  },
  {
   "cell_type": "code",
   "execution_count": 97,
   "id": "7c25f30a",
   "metadata": {},
   "outputs": [
    {
     "data": {
      "text/plain": [
       "0.6128246753246753"
      ]
     },
     "execution_count": 97,
     "metadata": {},
     "output_type": "execute_result"
    }
   ],
   "source": [
    "from sklearn.svm import SVC\n",
    "svm=SVC(kernel='sigmoid')\n",
    "svm.fit(x_train,y_train.values.ravel())\n",
    "svm.score(x_test,y_test)"
   ]
  },
  {
   "cell_type": "code",
   "execution_count": 98,
   "id": "3ebe71a4",
   "metadata": {},
   "outputs": [
    {
     "data": {
      "text/plain": [
       "0.0    2167\n",
       "2.0     230\n",
       "4.0      67\n",
       "dtype: int64"
      ]
     },
     "execution_count": 98,
     "metadata": {},
     "output_type": "execute_result"
    }
   ],
   "source": [
    "pd.DataFrame(svm.predict(x_test)).value_counts()"
   ]
  },
  {
   "cell_type": "code",
   "execution_count": 99,
   "id": "364d436f",
   "metadata": {},
   "outputs": [
    {
     "data": {
      "text/plain": [
       "NDELAY\n",
       "0.0       1683\n",
       "1.0        308\n",
       "2.0        288\n",
       "4.0        130\n",
       "3.0         55\n",
       "dtype: int64"
      ]
     },
     "execution_count": 99,
     "metadata": {},
     "output_type": "execute_result"
    }
   ],
   "source": [
    "pd.DataFrame(y_test).value_counts()"
   ]
  },
  {
   "cell_type": "markdown",
   "id": "43bb9aa4",
   "metadata": {},
   "source": [
    "# KNearestNeighborsClassifie"
   ]
  },
  {
   "cell_type": "code",
   "execution_count": 100,
   "id": "bbb512c3",
   "metadata": {},
   "outputs": [
    {
     "name": "stderr",
     "output_type": "stream",
     "text": [
      "/opt/conda/envs/Python-3.9/lib/python3.9/site-packages/sklearn/neighbors/_classification.py:198: DataConversionWarning: A column-vector y was passed when a 1d array was expected. Please change the shape of y to (n_samples,), for example using ravel().\n",
      "  return self._fit(X, y)\n"
     ]
    },
    {
     "data": {
      "text/plain": [
       "0.729301948051948"
      ]
     },
     "execution_count": 100,
     "metadata": {},
     "output_type": "execute_result"
    }
   ],
   "source": [
    "from sklearn.neighbors import KNeighborsClassifier\n",
    "knn=KNeighborsClassifier(n_neighbors=5)\n",
    "knn.fit(x_train,y_train)\n",
    "knn.score(x_test,y_test)"
   ]
  },
  {
   "cell_type": "code",
   "execution_count": 101,
   "id": "d4ce0c08",
   "metadata": {},
   "outputs": [
    {
     "data": {
      "text/plain": [
       "0.0    1942\n",
       "2.0     222\n",
       "1.0     197\n",
       "4.0      82\n",
       "3.0      21\n",
       "dtype: int64"
      ]
     },
     "execution_count": 101,
     "metadata": {},
     "output_type": "execute_result"
    }
   ],
   "source": [
    "pd.DataFrame(knn.predict(x_test)).value_counts()"
   ]
  },
  {
   "cell_type": "code",
   "execution_count": 102,
   "id": "743e1d60",
   "metadata": {},
   "outputs": [
    {
     "data": {
      "text/plain": [
       "array([0., 0., 3.])"
      ]
     },
     "execution_count": 102,
     "metadata": {},
     "output_type": "execute_result"
    }
   ],
   "source": [
    "knn.predict(x_test.iloc[[8,21,912],:])"
   ]
  },
  {
   "cell_type": "markdown",
   "id": "6f4a4d81",
   "metadata": {},
   "source": [
    "# Evaluation of Random Forest"
   ]
  },
  {
   "cell_type": "code",
   "execution_count": 103,
   "id": "0c6ba7f3",
   "metadata": {},
   "outputs": [
    {
     "name": "stdout",
     "output_type": "stream",
     "text": [
      "Testing Sensitivity for Random Forest 0.9360230547550432\n",
      "Testing Specificity for Random Forest 0.8716577540106952\n",
      "Testing Precision for Random Forest 0.9854368932038835\n",
      "Testing accuracy for Random Forest 0.8368506493506493\n"
     ]
    },
    {
     "data": {
      "image/png": "[encoded data removed]",
      "text/plain": [
       "<Figure size 720x432 with 2 Axes>"
      ]
     },
     "metadata": {
      "needs_background": "light"
     },
     "output_type": "display_data"
    }
   ],
   "source": [
    "from sklearn.metrics import confusion_matrix,accuracy_score,classification_report\n",
    "pred=rf.predict(x_test)\n",
    "cm=confusion_matrix(y_test, pred)\n",
    "plt.figure(figsize=(10,6))\n",
    "sns.heatmap(cm, annot=True,cmap='winter',linewidths=0.3, linecolor='black',annot_kws={\"size\": 20})\n",
    "TP=cm[0][0]\n",
    "TN=cm[1][1]\n",
    "FN=cm[1][0]\n",
    "FP=cm[0][1]\n",
    "#print(round(accuracy_score(prediction3,y_test)*100,2))\n",
    "#print('Testing Accuracy for knn',(TP+TN)/(TP+TN+FN+FP))\n",
    "print('Testing Sensitivity for Random Forest',(TP/(TP+FN)))\n",
    "print('Testing Specificity for Random Forest',(TN/(TN+FP)))\n",
    "print('Testing Precision for Random Forest',(TP/(TP+FP)))\n",
    "print('Testing accuracy for Random Forest',accuracy_score(y_test, pred))"
   ]
  },
  {
   "cell_type": "code",
   "execution_count": 104,
   "id": "4adcfc46",
   "metadata": {},
   "outputs": [
    {
     "name": "stdout",
     "output_type": "stream",
     "text": [
      "              precision    recall  f1-score   support\n",
      "\n",
      "         0.0       0.86      0.96      0.91      1683\n",
      "         1.0       0.73      0.53      0.61       308\n",
      "         2.0       0.67      0.49      0.57       288\n",
      "         3.0       0.88      0.65      0.75        55\n",
      "         4.0       0.92      0.75      0.82       130\n",
      "\n",
      "    accuracy                           0.84      2464\n",
      "   macro avg       0.81      0.68      0.73      2464\n",
      "weighted avg       0.83      0.84      0.83      2464\n",
      "\n"
     ]
    }
   ],
   "source": [
    "print(classification_report(y_test,pred))"
   ]
  },
  {
   "cell_type": "markdown",
   "id": "3a30f737",
   "metadata": {},
   "source": [
    "# Evaluation of Decision Tree"
   ]
  },
  {
   "cell_type": "code",
   "execution_count": 105,
   "id": "f41c1888",
   "metadata": {},
   "outputs": [
    {
     "name": "stdout",
     "output_type": "stream",
     "text": [
      "Testing Sensitivity for Random Forest 0.9360230547550432\n",
      "Testing Specificity for Random Forest 0.8716577540106952\n",
      "Testing Precision for Random Forest 0.9854368932038835\n",
      "Testing accuracy for Random Forest 0.8368506493506493\n"
     ]
    },
    {
     "data": {
      "image/png": "[encoded data removed]",
      "text/plain": [
       "<Figure size 720x432 with 2 Axes>"
      ]
     },
     "metadata": {
      "needs_background": "light"
     },
     "output_type": "display_data"
    }
   ],
   "source": [
    "from sklearn.metrics import confusion_matrix,accuracy_score,classification_report\n",
    "pred1=rf.predict(x_test)\n",
    "cm=confusion_matrix(y_test, pred)\n",
    "plt.figure(figsize=(10,6))\n",
    "sns.heatmap(cm, annot=True,cmap='winter',linewidths=0.3, linecolor='black',annot_kws={\"size\": 20})\n",
    "TP=cm[0][0]\n",
    "TN=cm[1][1]\n",
    "FN=cm[1][0]\n",
    "FP=cm[0][1]\n",
    "#print(round(accuracy_score(prediction3,y_test)*100,2))\n",
    "#print('Testing Accuracy for knn',(TP+TN)/(TP+TN+FN+FP))\n",
    "print('Testing Sensitivity for Random Forest',(TP/(TP+FN)))\n",
    "print('Testing Specificity for Random Forest',(TN/(TN+FP)))\n",
    "print('Testing Precision for Random Forest',(TP/(TP+FP)))\n",
    "print('Testing accuracy for Random Forest',accuracy_score(y_test, pred1))"
   ]
  },
  {
   "cell_type": "code",
   "execution_count": 112,
   "id": "053235bb",
   "metadata": {},
   "outputs": [
    {
     "name": "stdout",
     "output_type": "stream",
     "text": [
      "              precision    recall  f1-score   support\n",
      "\n",
      "         0.0       0.86      0.96      0.91      1683\n",
      "         1.0       0.73      0.53      0.61       308\n",
      "         2.0       0.67      0.49      0.57       288\n",
      "         3.0       0.88      0.65      0.75        55\n",
      "         4.0       0.92      0.75      0.82       130\n",
      "\n",
      "    accuracy                           0.84      2464\n",
      "   macro avg       0.81      0.68      0.73      2464\n",
      "weighted avg       0.83      0.84      0.83      2464\n",
      "\n"
     ]
    }
   ],
   "source": [
    "print(classification_report(y_test,pred1))"
   ]
  },
  {
   "cell_type": "code",
   "execution_count": 106,
   "id": "ca90a035",
   "metadata": {},
   "outputs": [],
   "source": [
    "import pickle"
   ]
  },
  {
   "cell_type": "code",
   "execution_count": 107,
   "id": "4bf2f8e3",
   "metadata": {},
   "outputs": [],
   "source": [
    "pickle.dump(rf,open(\"rfmodel.pkl\",'wb'))"
   ]
  },
  {
   "cell_type": "code",
   "execution_count": 108,
   "id": "872c0462",
   "metadata": {},
   "outputs": [
    {
     "data": {
      "text/plain": [
       "'/home/wsuser/work'"
      ]
     },
     "execution_count": 108,
     "metadata": {},
     "output_type": "execute_result"
    }
   ],
   "source": [
    "pwd"
   ]
  },
  {
   "cell_type": "code",
   "execution_count": 109,
   "id": "69b76e49",
   "metadata": {},
   "outputs": [
    {
     "name": "stdout",
     "output_type": "stream",
     "text": [
      "Testing Accuracy for Decision Tree 0.8813370473537604\n",
      "Testing Sensitivity for Decision Tree 0.9370491803278689\n",
      "Testing Specificity for Decision Tree 0.5666666666666667\n",
      "Testing Precision for Decision Tree 0.9243208279430789\n",
      "Testing accuracy for Decision Tree 0.7495941558441559\n"
     ]
    },
    {
     "data": {
      "image/png": "[encoded data removed]",
      "text/plain": [
       "<Figure size 720x432 with 2 Axes>"
      ]
     },
     "metadata": {
      "needs_background": "light"
     },
     "output_type": "display_data"
    }
   ],
   "source": [
    "pred1=dc.predict(x_test)\n",
    "cm1=confusion_matrix(y_test, pred1)\n",
    "plt.figure(figsize=(10,6))\n",
    "sns.heatmap(cm1, annot=True,cmap='winter',linewidths=0.3, linecolor='black',annot_kws={\"size\": 20})\n",
    "TP=cm1[0][0]\n",
    "TN=cm1[1][1]\n",
    "FN=cm1[1][0]\n",
    "FP=cm1[0][1]\n",
    "#print(round(accuracy_score(prediction3,y_test)*100,2))\n",
    "print('Testing Accuracy for Decision Tree',(TP+TN)/(TP+TN+FN+FP))\n",
    "print('Testing Sensitivity for Decision Tree',(TP/(TP+FN)))\n",
    "print('Testing Specificity for Decision Tree',(TN/(TN+FP)))\n",
    "print('Testing Precision for Decision Tree',(TP/(TP+FP)))\n",
    "print('Testing accuracy for Decision Tree',accuracy_score(y_test, pred1))"
   ]
  },
  {
   "cell_type": "code",
   "execution_count": 110,
   "id": "1c258bec",
   "metadata": {},
   "outputs": [
    {
     "name": "stdout",
     "output_type": "stream",
     "text": [
      "              precision    recall  f1-score   support\n",
      "\n",
      "         0.0       0.86      0.96      0.91      1683\n",
      "         1.0       0.73      0.53      0.61       308\n",
      "         2.0       0.67      0.49      0.57       288\n",
      "         3.0       0.88      0.65      0.75        55\n",
      "         4.0       0.92      0.75      0.82       130\n",
      "\n",
      "    accuracy                           0.84      2464\n",
      "   macro avg       0.81      0.68      0.73      2464\n",
      "weighted avg       0.83      0.84      0.83      2464\n",
      "\n"
     ]
    }
   ],
   "source": [
    "print(classification_report(y_test,pred))"
   ]
  },
  {
   "cell_type": "markdown",
   "id": "04f878af",
   "metadata": {},
   "source": [
    "# Evaluation of Decision Tree"
   ]
  },
  {
   "cell_type": "code",
   "execution_count": 111,
   "id": "7e9daa36",
   "metadata": {},
   "outputs": [
    {
     "name": "stdout",
     "output_type": "stream",
     "text": [
      "Testing Sensitivity for Random Forest 0.9360230547550432\n",
      "Testing Specificity for Random Forest 0.8716577540106952\n",
      "Testing Precision for Random Forest 0.9854368932038835\n",
      "Testing accuracy for Random Forest 0.8368506493506493\n"
     ]
    },
    {
     "data": {
      "image/png": "[encoded data removed]",
      "text/plain": [
       "<Figure size 720x432 with 2 Axes>"
      ]
     },
     "metadata": {
      "needs_background": "light"
     },
     "output_type": "display_data"
    }
   ],
   "source": [
    "from sklearn.metrics import confusion_matrix,accuracy_score,classification_report\n",
    "pred=rf.predict(x_test)\n",
    "cm=confusion_matrix(y_test, pred)\n",
    "plt.figure(figsize=(10,6))\n",
    "sns.heatmap(cm, annot=True,cmap='winter',linewidths=0.3, linecolor='black',annot_kws={\"size\": 20})\n",
    "TP=cm[0][0]\n",
    "TN=cm[1][1]\n",
    "FN=cm[1][0]\n",
    "FP=cm[0][1]\n",
    "#print(round(accuracy_score(prediction3,y_test)*100,2))\n",
    "#print('Testing Accuracy for knn',(TP+TN)/(TP+TN+FN+FP))\n",
    "print('Testing Sensitivity for Random Forest',(TP/(TP+FN)))\n",
    "print('Testing Specificity for Random Forest',(TN/(TN+FP)))\n",
    "print('Testing Precision for Random Forest',(TP/(TP+FP)))\n",
    "print('Testing accuracy for Random Forest',accuracy_score(y_test, pred))"
   ]
  },
  {
   "cell_type": "code",
   "execution_count": 112,
   "id": "494b216e",
   "metadata": {},
   "outputs": [
    {
     "name": "stdout",
     "output_type": "stream",
     "text": [
      "              precision    recall  f1-score   support\n",
      "\n",
      "         0.0       0.88      0.85      0.86      1683\n",
      "         1.0       0.46      0.50      0.48       308\n",
      "         2.0       0.45      0.49      0.47       288\n",
      "         3.0       0.53      0.55      0.54        55\n",
      "         4.0       0.77      0.72      0.74       130\n",
      "\n",
      "    accuracy                           0.75      2464\n",
      "   macro avg       0.61      0.62      0.62      2464\n",
      "weighted avg       0.76      0.75      0.75      2464\n",
      "\n"
     ]
    }
   ],
   "source": [
    "print(classification_report(y_test,pred1))"
   ]
  },
  {
   "cell_type": "code",
   "execution_count": 113,
   "id": "ddddf69d",
   "metadata": {},
   "outputs": [],
   "source": [
    "import pickle"
   ]
  },
  {
   "cell_type": "code",
   "execution_count": 114,
   "id": "bfa9d1b7",
   "metadata": {},
   "outputs": [],
   "source": [
    "pickle.dump(rf,open(\"rfmodel.pkl\",'wb'))"
   ]
  },
  {
   "cell_type": "code",
   "execution_count": 123,
   "id": "b1e6f728",
   "metadata": {},
   "outputs": [
    {
     "data": {
      "text/plain": [
       "'/home/wsuser/work'"
      ]
     },
     "execution_count": 123,
     "metadata": {},
     "output_type": "execute_result"
    }
   ],
   "source": [
    "pwd"
   ]
  },
  {
   "cell_type": "markdown",
   "id": "7463740a",
   "metadata": {},
   "source": [
    "# Deployment"
   ]
  },
  {
   "cell_type": "code",
   "execution_count": 115,
   "id": "45ae1a79",
   "metadata": {},
   "outputs": [
    {
     "name": "stdout",
     "output_type": "stream",
     "text": [
      "Requirement already satisfied: ibm-watson-machine-learning in /opt/conda/envs/Python-3.9/lib/python3.9/site-packages (1.0.257)\n",
      "Requirement already satisfied: urllib3 in /opt/conda/envs/Python-3.9/lib/python3.9/site-packages (from ibm-watson-machine-learning) (1.26.7)\n",
      "Requirement already satisfied: ibm-cos-sdk==2.11.* in /opt/conda/envs/Python-3.9/lib/python3.9/site-packages (from ibm-watson-machine-learning) (2.11.0)\n",
      "Requirement already satisfied: tabulate in /opt/conda/envs/Python-3.9/lib/python3.9/site-packages (from ibm-watson-machine-learning) (0.8.9)\n",
      "Requirement already satisfied: certifi in /opt/conda/envs/Python-3.9/lib/python3.9/site-packages (from ibm-watson-machine-learning) (2022.9.24)\n",
      "Requirement already satisfied: packaging in /opt/conda/envs/Python-3.9/lib/python3.9/site-packages (from ibm-watson-machine-learning) (21.3)\n",
      "Requirement already satisfied: importlib-metadata in /opt/conda/envs/Python-3.9/lib/python3.9/site-packages (from ibm-watson-machine-learning) (4.8.2)\n",
      "Requirement already satisfied: requests in /opt/conda/envs/Python-3.9/lib/python3.9/site-packages (from ibm-watson-machine-learning) (2.26.0)\n",
      "Requirement already satisfied: pandas<1.5.0,>=0.24.2 in /opt/conda/envs/Python-3.9/lib/python3.9/site-packages (from ibm-watson-machine-learning) (1.3.4)\n",
      "Requirement already satisfied: lomond in /opt/conda/envs/Python-3.9/lib/python3.9/site-packages (from ibm-watson-machine-learning) (0.3.3)\n",
      "Requirement already satisfied: ibm-cos-sdk-s3transfer==2.11.0 in /opt/conda/envs/Python-3.9/lib/python3.9/site-packages (from ibm-cos-sdk==2.11.*->ibm-watson-machine-learning) (2.11.0)\n",
      "Requirement already satisfied: ibm-cos-sdk-core==2.11.0 in /opt/conda/envs/Python-3.9/lib/python3.9/site-packages (from ibm-cos-sdk==2.11.*->ibm-watson-machine-learning) (2.11.0)\n",
      "Requirement already satisfied: jmespath<1.0.0,>=0.7.1 in /opt/conda/envs/Python-3.9/lib/python3.9/site-packages (from ibm-cos-sdk==2.11.*->ibm-watson-machine-learning) (0.10.0)\n",
      "Requirement already satisfied: python-dateutil<3.0.0,>=2.1 in /opt/conda/envs/Python-3.9/lib/python3.9/site-packages (from ibm-cos-sdk-core==2.11.0->ibm-cos-sdk==2.11.*->ibm-watson-machine-learning) (2.8.2)\n",
      "Requirement already satisfied: pytz>=2017.3 in /opt/conda/envs/Python-3.9/lib/python3.9/site-packages (from pandas<1.5.0,>=0.24.2->ibm-watson-machine-learning) (2021.3)\n",
      "Requirement already satisfied: numpy>=1.17.3 in /opt/conda/envs/Python-3.9/lib/python3.9/site-packages (from pandas<1.5.0,>=0.24.2->ibm-watson-machine-learning) (1.20.3)\n",
      "Requirement already satisfied: six>=1.5 in /opt/conda/envs/Python-3.9/lib/python3.9/site-packages (from python-dateutil<3.0.0,>=2.1->ibm-cos-sdk-core==2.11.0->ibm-cos-sdk==2.11.*->ibm-watson-machine-learning) (1.15.0)\n",
      "Requirement already satisfied: charset-normalizer~=2.0.0 in /opt/conda/envs/Python-3.9/lib/python3.9/site-packages (from requests->ibm-watson-machine-learning) (2.0.4)\n",
      "Requirement already satisfied: idna<4,>=2.5 in /opt/conda/envs/Python-3.9/lib/python3.9/site-packages (from requests->ibm-watson-machine-learning) (3.3)\n",
      "Requirement already satisfied: zipp>=0.5 in /opt/conda/envs/Python-3.9/lib/python3.9/site-packages (from importlib-metadata->ibm-watson-machine-learning) (3.6.0)\n",
      "Requirement already satisfied: pyparsing!=3.0.5,>=2.0.2 in /opt/conda/envs/Python-3.9/lib/python3.9/site-packages (from packaging->ibm-watson-machine-learning) (3.0.4)\n"
     ]
    }
   ],
   "source": [
    "!pip install -U ibm-watson-machine-learning"
   ]
  },
  {
   "cell_type": "code",
   "execution_count": 116,
   "id": "30a4387e",
   "metadata": {},
   "outputs": [],
   "source": [
    "from ibm_watson_machine_learning import APIClient\n",
    "import json\n",
    "import numpy as np"
   ]
  },
  {
   "cell_type": "markdown",
   "id": "fc356211",
   "metadata": {},
   "source": [
    "# Authenticate and Set Space"
   ]
  },
  {
   "cell_type": "code",
   "execution_count": 117,
   "id": "252c9ce6",
   "metadata": {},
   "outputs": [],
   "source": [
    "wml_cred = {\n",
    "\"apikey\":\"Y7PgzaolxWpOj7WDJSfSSlaKeKNEdrWLhIDda_wEt5Zc\",\n",
    "\"url\":\"https://us-south.ml.cloud.ibm.com\"\n",
    "}"
   ]
  },
  {
   "cell_type": "code",
   "execution_count": 118,
   "id": "4cc34bc3",
   "metadata": {},
   "outputs": [
    {
     "name": "stdout",
     "output_type": "stream",
     "text": [
      "Note: 'limit' is not provided. Only first 50 records will be displayed if the number of records exceed 50\n",
      "------------------------------------  -----  ------------------------\n",
      "ID                                    NAME   CREATED\n",
      "494a45e5-4850-459e-b17d-b9e7752c659a  model  2022-11-14T09:56:56.056Z\n",
      "------------------------------------  -----  ------------------------\n"
     ]
    }
   ],
   "source": [
    "wml_clients=APIClient(wml_cred)\n",
    "wml_clients.spaces.list()"
   ]
  },
  {
   "cell_type": "code",
   "execution_count": 119,
   "id": "4f5241a7",
   "metadata": {},
   "outputs": [],
   "source": [
    "space_id=\"494a45e5-4850-459e-b17d-b9e7752c659a\""
   ]
  },
  {
   "cell_type": "code",
   "execution_count": 120,
   "id": "2e02f230",
   "metadata": {},
   "outputs": [
    {
     "data": {
      "text/plain": [
       "'SUCCESS'"
      ]
     },
     "execution_count": 120,
     "metadata": {},
     "output_type": "execute_result"
    }
   ],
   "source": [
    "wml_clients.set.default_space(space_id)"
   ]
  },
  {
   "cell_type": "code",
   "execution_count": 121,
   "id": "b7935dde",
   "metadata": {},
   "outputs": [
    {
     "name": "stdout",
     "output_type": "stream",
     "text": [
      "-------------------------------  ------------------------------------  ----\n",
      "NAME                             ASSET_ID                              TYPE\n",
      "default_py3.6                    0062b8c9-8b7d-44a0-a9b9-46c416adcbd9  base\n",
      "kernel-spark3.2-scala2.12        020d69ce-7ac1-5e68-ac1a-31189867356a  base\n",
      "pytorch-onnx_1.3-py3.7-edt       069ea134-3346-5748-b513-49120e15d288  base\n",
      "scikit-learn_0.20-py3.6          09c5a1d0-9c1e-4473-a344-eb7b665ff687  base\n",
      "spark-mllib_3.0-scala_2.12       09f4cff0-90a7-5899-b9ed-1ef348aebdee  base\n",
      "pytorch-onnx_rt22.1-py3.9        0b848dd4-e681-5599-be41-b5f6fccc6471  base\n",
      "ai-function_0.1-py3.6            0cdb0f1e-5376-4f4d-92dd-da3b69aa9bda  base\n",
      "shiny-r3.6                       0e6e79df-875e-4f24-8ae9-62dcc2148306  base\n",
      "tensorflow_2.4-py3.7-horovod     1092590a-307d-563d-9b62-4eb7d64b3f22  base\n",
      "pytorch_1.1-py3.6                10ac12d6-6b30-4ccd-8392-3e922c096a92  base\n",
      "tensorflow_1.15-py3.6-ddl        111e41b3-de2d-5422-a4d6-bf776828c4b7  base\n",
      "autoai-kb_rt22.2-py3.10          125b6d9a-5b1f-5e8d-972a-b251688ccf40  base\n",
      "runtime-22.1-py3.9               12b83a17-24d8-5082-900f-0ab31fbfd3cb  base\n",
      "scikit-learn_0.22-py3.6          154010fa-5b3b-4ac1-82af-4d5ee5abbc85  base\n",
      "default_r3.6                     1b70aec3-ab34-4b87-8aa0-a4a3c8296a36  base\n",
      "pytorch-onnx_1.3-py3.6           1bc6029a-cc97-56da-b8e0-39c3880dbbe7  base\n",
      "kernel-spark3.3-r3.6             1c9e5454-f216-59dd-a20e-474a5cdf5988  base\n",
      "pytorch-onnx_rt22.1-py3.9-edt    1d362186-7ad5-5b59-8b6c-9d0880bde37f  base\n",
      "tensorflow_2.1-py3.6             1eb25b84-d6ed-5dde-b6a5-3fbdf1665666  base\n",
      "spark-mllib_3.2                  20047f72-0a98-58c7-9ff5-a77b012eb8f5  base\n",
      "tensorflow_2.4-py3.8-horovod     217c16f6-178f-56bf-824a-b19f20564c49  base\n",
      "runtime-22.1-py3.9-cuda          26215f05-08c3-5a41-a1b0-da66306ce658  base\n",
      "do_py3.8                         295addb5-9ef9-547e-9bf4-92ae3563e720  base\n",
      "autoai-ts_3.8-py3.8              2aa0c932-798f-5ae9-abd6-15e0c2402fb5  base\n",
      "tensorflow_1.15-py3.6            2b73a275-7cbf-420b-a912-eae7f436e0bc  base\n",
      "kernel-spark3.3-py3.9            2b7961e2-e3b1-5a8c-a491-482c8368839a  base\n",
      "pytorch_1.2-py3.6                2c8ef57d-2687-4b7d-acce-01f94976dac1  base\n",
      "spark-mllib_2.3                  2e51f700-bca0-4b0d-88dc-5c6791338875  base\n",
      "pytorch-onnx_1.1-py3.6-edt       32983cea-3f32-4400-8965-dde874a8d67e  base\n",
      "spark-mllib_3.0-py37             36507ebe-8770-55ba-ab2a-eafe787600e9  base\n",
      "spark-mllib_2.4                  390d21f8-e58b-4fac-9c55-d7ceda621326  base\n",
      "autoai-ts_rt22.2-py3.10          396b2e83-0953-5b86-9a55-7ce1628a406f  base\n",
      "xgboost_0.82-py3.6               39e31acd-5f30-41dc-ae44-60233c80306e  base\n",
      "pytorch-onnx_1.2-py3.6-edt       40589d0e-7019-4e28-8daa-fb03b6f4fe12  base\n",
      "pytorch-onnx_rt22.2-py3.10       40e73f55-783a-5535-b3fa-0c8b94291431  base\n",
      "default_r36py38                  41c247d3-45f8-5a71-b065-8580229facf0  base\n",
      "autoai-ts_rt22.1-py3.9           4269d26e-07ba-5d40-8f66-2d495b0c71f7  base\n",
      "autoai-obm_3.0                   42b92e18-d9ab-567f-988a-4240ba1ed5f7  base\n",
      "pmml-3.0_4.3                     493bcb95-16f1-5bc5-bee8-81b8af80e9c7  base\n",
      "spark-mllib_2.4-r_3.6            49403dff-92e9-4c87-a3d7-a42d0021c095  base\n",
      "xgboost_0.90-py3.6               4ff8d6c2-1343-4c18-85e1-689c965304d3  base\n",
      "pytorch-onnx_1.1-py3.6           50f95b2a-bc16-43bb-bc94-b0bed208c60b  base\n",
      "autoai-ts_3.9-py3.8              52c57136-80fa-572e-8728-a5e7cbb42cde  base\n",
      "spark-mllib_2.4-scala_2.11       55a70f99-7320-4be5-9fb9-9edb5a443af5  base\n",
      "spark-mllib_3.0                  5c1b0ca2-4977-5c2e-9439-ffd44ea8ffe9  base\n",
      "autoai-obm_2.0                   5c2e37fa-80b8-5e77-840f-d912469614ee  base\n",
      "spss-modeler_18.1                5c3cad7e-507f-4b2a-a9a3-ab53a21dee8b  base\n",
      "cuda-py3.8                       5d3232bf-c86b-5df4-a2cd-7bb870a1cd4e  base\n",
      "autoai-kb_3.1-py3.7              632d4b22-10aa-5180-88f0-f52dfb6444d7  base\n",
      "pytorch-onnx_1.7-py3.8           634d3cdc-b562-5bf9-a2d4-ea90a478456b  base\n",
      "spark-mllib_2.3-r_3.6            6586b9e3-ccd6-4f92-900f-0f8cb2bd6f0c  base\n",
      "tensorflow_2.4-py3.7             65e171d7-72d1-55d9-8ebb-f813d620c9bb  base\n",
      "spss-modeler_18.2                687eddc9-028a-4117-b9dd-e57b36f1efa5  base\n",
      "pytorch-onnx_1.2-py3.6           692a6a4d-2c4d-45ff-a1ed-b167ee55469a  base\n",
      "spark-mllib_2.3-scala_2.11       7963efe5-bbec-417e-92cf-0574e21b4e8d  base\n",
      "spark-mllib_2.4-py37             7abc992b-b685-532b-a122-a396a3cdbaab  base\n",
      "caffe_1.0-py3.6                  7bb3dbe2-da6e-4145-918d-b6d84aa93b6b  base\n",
      "pytorch-onnx_1.7-py3.7           812c6631-42b7-5613-982b-02098e6c909c  base\n",
      "cuda-py3.6                       82c79ece-4d12-40e6-8787-a7b9e0f62770  base\n",
      "tensorflow_1.15-py3.6-horovod    8964680e-d5e4-5bb8-919b-8342c6c0dfd8  base\n",
      "hybrid_0.1                       8c1a58c6-62b5-4dc4-987a-df751c2756b6  base\n",
      "pytorch-onnx_1.3-py3.7           8d5d8a87-a912-54cf-81ec-3914adaa988d  base\n",
      "caffe-ibm_1.0-py3.6              8d863266-7927-4d1e-97d7-56a7f4c0a19b  base\n",
      "spss-modeler_17.1                902d0051-84bd-4af6-ab6b-8f6aa6fdeabb  base\n",
      "do_12.10                         9100fd72-8159-4eb9-8a0b-a87e12eefa36  base\n",
      "do_py3.7                         9447fa8b-2051-4d24-9eef-5acb0e3c59f8  base\n",
      "spark-mllib_3.0-r_3.6            94bb6052-c837-589d-83f1-f4142f219e32  base\n",
      "cuda-py3.7-opence                94e9652b-7f2d-59d5-ba5a-23a414ea488f  base\n",
      "nlp-py3.8                        96e60351-99d4-5a1c-9cc0-473ac1b5a864  base\n",
      "cuda-py3.7                       9a44990c-1aa1-4c7d-baf8-c4099011741c  base\n",
      "hybrid_0.2                       9b3f9040-9cee-4ead-8d7a-780600f542f7  base\n",
      "spark-mllib_3.0-py38             9f7a8fc1-4d3c-5e65-ab90-41fa8de2d418  base\n",
      "autoai-kb_3.3-py3.7              a545cca3-02df-5c61-9e88-998b09dc79af  base\n",
      "spark-mllib_3.0-py39             a6082a27-5acc-5163-b02c-6b96916eb5e0  base\n",
      "runtime-22.1-py3.9-do            a7e7dbf1-1d03-5544-994d-e5ec845ce99a  base\n",
      "default_py3.8                    ab9e1b80-f2ce-592c-a7d2-4f2344f77194  base\n",
      "tensorflow_rt22.1-py3.9          acd9c798-6974-5d2f-a657-ce06e986df4d  base\n",
      "kernel-spark3.2-py3.9            ad7033ee-794e-58cf-812e-a95f4b64b207  base\n",
      "autoai-obm_2.0 with Spark 3.0    af10f35f-69fa-5d66-9bf5-acb58434263a  base\n",
      "default_py3.7_opence             c2057dd4-f42c-5f77-a02f-72bdbd3282c9  base\n",
      "tensorflow_2.1-py3.7             c4032338-2a40-500a-beef-b01ab2667e27  base\n",
      "do_py3.7_opence                  cc8f8976-b74a-551a-bb66-6377f8d865b4  base\n",
      "spark-mllib_3.3                  d11f2434-4fc7-58b7-8a62-755da64fdaf8  base\n",
      "autoai-kb_3.0-py3.6              d139f196-e04b-5d8b-9140-9a10ca1fa91a  base\n",
      "spark-mllib_3.0-py36             d82546d5-dd78-5fbb-9131-2ec309bc56ed  base\n",
      "autoai-kb_3.4-py3.8              da9b39c3-758c-5a4f-9cfd-457dd4d8c395  base\n",
      "kernel-spark3.2-r3.6             db2fe4d6-d641-5d05-9972-73c654c60e0a  base\n",
      "autoai-kb_rt22.1-py3.9           db6afe93-665f-5910-b117-d879897404d9  base\n",
      "tensorflow_rt22.1-py3.9-horovod  dda170cc-ca67-5da7-9b7a-cf84c6987fae  base\n",
      "autoai-ts_1.0-py3.7              deef04f0-0c42-5147-9711-89f9904299db  base\n",
      "tensorflow_2.1-py3.7-horovod     e384fce5-fdd1-53f8-bc71-11326c9c635f  base\n",
      "default_py3.7                    e4429883-c883-42b6-87a8-f419d64088cd  base\n",
      "do_22.1                          e51999ba-6452-5f1f-8287-17228b88b652  base\n",
      "autoai-obm_3.2                   eae86aab-da30-5229-a6a6-1d0d4e368983  base\n",
      "tensorflow_rt22.2-py3.10         f65bd165-f057-55de-b5cb-f97cf2c0f393  base\n",
      "do_20.1                          f686cdd9-7904-5f9d-a732-01b0d6b10dc5  base\n",
      "pytorch-onnx_rt22.2-py3.10-edt   f8a05d07-e7cd-57bb-a10b-23f1d4b837ac  base\n",
      "scikit-learn_0.19-py3.6          f963fa9d-4bb7-5652-9c5d-8d9289ef6ad9  base\n",
      "tensorflow_2.4-py3.8             fe185c44-9a99-5425-986b-59bd1d2eda46  base\n",
      "-------------------------------  ------------------------------------  ----\n"
     ]
    }
   ],
   "source": [
    "wml_clients.software_specifications.list(500)"
   ]
  },
  {
   "cell_type": "markdown",
   "id": "e613160d",
   "metadata": {},
   "source": [
    "# SAVE AND DEPLOY THE MODEL"
   ]
  },
  {
   "cell_type": "code",
   "execution_count": 141,
   "id": "3f1e1bb2",
   "metadata": {},
   "outputs": [
    {
     "data": {
      "text/plain": [
       "'1.0.2'"
      ]
     },
     "execution_count": 141,
     "metadata": {},
     "output_type": "execute_result"
    }
   ],
   "source": [
    "import sklearn\n",
    "sklearn.__version__"
   ]
  },
  {
   "cell_type": "code",
   "execution_count": 142,
   "id": "c2ca492f",
   "metadata": {},
   "outputs": [],
   "source": [
    "MODEL_NAME = 'Flight Delay Prediction'\n",
    "DEPLOYMENT_NAME ='model'\n",
    "DEMO_MODEL = rf"
   ]
  },
  {
   "cell_type": "markdown",
   "id": "8794faf3",
   "metadata": {},
   "source": [
    "# Set Python Version"
   ]
  },
  {
   "cell_type": "code",
   "execution_count": 143,
   "id": "bc626215",
   "metadata": {},
   "outputs": [
    {
     "data": {
      "text/plain": [
       "'12b83a17-24d8-5082-900f-0ab31fbfd3cb'"
      ]
     },
     "execution_count": 143,
     "metadata": {},
     "output_type": "execute_result"
    }
   ],
   "source": [
    "soft_sepc_id=wml_clients.software_specifications.get_id_by_name(\"runtime-22.1-py3.9\")\n",
    "soft_sepc_id"
   ]
  },
  {
   "cell_type": "markdown",
   "id": "15222710",
   "metadata": {},
   "source": [
    "# Setup model name"
   ]
  },
  {
   "cell_type": "code",
   "execution_count": 144,
   "id": "dbc982c0",
   "metadata": {},
   "outputs": [],
   "source": [
    "model_props={\n",
    "    wml_clients.repository.ModelMetaNames.NAME:MODEL_NAME,\n",
    "    wml_clients.repository.ModelMetaNames.TYPE:\"scikit-learn_1.0\",\n",
    "    wml_clients.repository.ModelMetaNames.SOFTWARE_SPEC_UID: soft_sepc_id\n",
    "    \n",
    "}"
   ]
  },
  {
   "cell_type": "markdown",
   "id": "c78027f9",
   "metadata": {},
   "source": [
    "# Save model"
   ]
  },
  {
   "cell_type": "code",
   "execution_count": 145,
   "id": "f56b659c",
   "metadata": {},
   "outputs": [],
   "source": [
    "model_details = wml_clients.repository.store_model(\n",
    " model=rf,\n",
    "    meta_props=model_props,\n",
    "    training_data=x_train,\n",
    "    training_target=y_train\n",
    ")"
   ]
  },
  {
   "cell_type": "code",
   "execution_count": 132,
   "id": "4b87c897",
   "metadata": {},
   "outputs": [
    {
     "data": {
      "text/plain": [
       "{'entity': {'hybrid_pipeline_software_specs': [],\n",
       "  'label_column': 'NDELAY',\n",
       "  'schemas': {'input': [{'fields': [{'name': 'QUARTER', 'type': 'int64'},\n",
       "      {'name': 'MONTH', 'type': 'int64'},\n",
       "      {'name': 'DAY_OF_MONTH', 'type': 'int64'},\n",
       "      {'name': 'DAY_OF_WEEK', 'type': 'int64'},\n",
       "      {'name': 'FL_NUM', 'type': 'int64'},\n",
       "      {'name': 'ORIGIN', 'type': 'int64'},\n",
       "      {'name': 'DEST', 'type': 'int64'},\n",
       "      {'name': 'CRS_DEP_TIME.1', 'type': 'int64'},\n",
       "      {'name': 'CRS_ARR_TIME.1', 'type': 'int64'},\n",
       "      {'name': 'CRS_ELAPSED_TIME', 'type': 'int64'},\n",
       "      {'name': 'DISTANCE', 'type': 'int64'},\n",
       "      {'name': 'SEASON', 'type': 'int64'}],\n",
       "     'id': '1',\n",
       "     'type': 'struct'}],\n",
       "   'output': []},\n",
       "  'software_spec': {'id': '12b83a17-24d8-5082-900f-0ab31fbfd3cb',\n",
       "   'name': 'runtime-22.1-py3.9'},\n",
       "  'type': 'scikit-learn_1.0'},\n",
       " 'metadata': {'created_at': '2022-11-14T15:13:03.464Z',\n",
       "  'id': '34e94425-c938-4ab1-95f8-b2e4dee160f0',\n",
       "  'modified_at': '2022-11-14T15:13:12.037Z',\n",
       "  'name': 'Flight Delay Prediction',\n",
       "  'owner': 'IBMid-662003VA5U',\n",
       "  'resource_key': '852ec3cf-db12-4d52-a5ac-61307960f4da',\n",
       "  'space_id': '494a45e5-4850-459e-b17d-b9e7752c659a'},\n",
       " 'system': {'warnings': []}}"
      ]
     },
     "execution_count": 132,
     "metadata": {},
     "output_type": "execute_result"
    }
   ],
   "source": [
    "model_details"
   ]
  },
  {
   "cell_type": "code",
   "execution_count": 146,
   "id": "db198452",
   "metadata": {},
   "outputs": [
    {
     "data": {
      "text/plain": [
       "'76f81f79-f5c2-41df-9ce0-a6f4978eac65'"
      ]
     },
     "execution_count": 146,
     "metadata": {},
     "output_type": "execute_result"
    }
   ],
   "source": [
    "model_uid = wml_clients.repository.get_model_id(model_details)\n",
    "model_uid"
   ]
  },
  {
   "cell_type": "code",
   "execution_count": 147,
   "id": "c33b83ce",
   "metadata": {},
   "outputs": [],
   "source": [
    "#set meta\n",
    "deployment_props = {\n",
    "    wml_clients.deployments.ConfigurationMetaNames.NAME:DEPLOYMENT_NAME,\n",
    "    wml_clients.deployments.ConfigurationMetaNames.ONLINE: {}\n",
    "}"
   ]
  },
  {
   "cell_type": "code",
   "execution_count": 148,
   "id": "a1cbba9c",
   "metadata": {},
   "outputs": [
    {
     "name": "stdout",
     "output_type": "stream",
     "text": [
      "\n",
      "\n",
      "#######################################################################################\n",
      "\n",
      "Synchronous deployment creation for uid: '76f81f79-f5c2-41df-9ce0-a6f4978eac65' started\n",
      "\n",
      "#######################################################################################\n",
      "\n",
      "\n",
      "initializing\n",
      "Note: online_url is deprecated and will be removed in a future release. Use serving_urls instead.\n",
      "\n",
      "ready\n",
      "\n",
      "\n",
      "------------------------------------------------------------------------------------------------\n",
      "Successfully finished deployment creation, deployment_uid='595b1b89-5a44-4182-8f21-9b737ac9ac86'\n",
      "------------------------------------------------------------------------------------------------\n",
      "\n",
      "\n"
     ]
    },
    {
     "data": {
      "text/plain": [
       "{'entity': {'asset': {'id': '76f81f79-f5c2-41df-9ce0-a6f4978eac65'},\n",
       "  'custom': {},\n",
       "  'deployed_asset_type': 'model',\n",
       "  'hardware_spec': {'id': 'e7ed1d6c-2e89-42d7-aed5-863b972c1d2b',\n",
       "   'name': 'S',\n",
       "   'num_nodes': 1},\n",
       "  'name': 'model',\n",
       "  'online': {},\n",
       "  'space_id': '494a45e5-4850-459e-b17d-b9e7752c659a',\n",
       "  'status': {'online_url': {'url': 'https://us-south.ml.cloud.ibm.com/ml/v4/deployments/595b1b89-5a44-4182-8f21-9b737ac9ac86/predictions'},\n",
       "   'serving_urls': ['https://us-south.ml.cloud.ibm.com/ml/v4/deployments/595b1b89-5a44-4182-8f21-9b737ac9ac86/predictions'],\n",
       "   'state': 'ready'}},\n",
       " 'metadata': {'created_at': '2022-11-14T15:35:39.844Z',\n",
       "  'id': '595b1b89-5a44-4182-8f21-9b737ac9ac86',\n",
       "  'modified_at': '2022-11-14T15:35:39.844Z',\n",
       "  'name': 'model',\n",
       "  'owner': 'IBMid-662003VA5U',\n",
       "  'space_id': '494a45e5-4850-459e-b17d-b9e7752c659a'},\n",
       " 'system': {'warnings': [{'id': 'Deprecated',\n",
       "    'message': 'online_url is deprecated and will be removed in a future release. Use serving_urls instead.'}]}}"
      ]
     },
     "execution_count": 148,
     "metadata": {},
     "output_type": "execute_result"
    }
   ],
   "source": [
    "deployment=wml_clients.deployments.create(\n",
    "artifact_uid=model_uid,\n",
    "meta_props=deployment_props\n",
    ")\n",
    "deployment"
   ]
  },
  {
   "cell_type": "code",
   "execution_count": null,
   "id": "f3e5b7a4",
   "metadata": {},
   "outputs": [],
   "source": []
  }
 ],
 "metadata": {
  "kernelspec": {
   "display_name": "Python 3.9",
   "language": "python",
   "name": "python3"
  },
  "language_info": {
   "codemirror_mode": {
    "name": "ipython",
    "version": 3
   },
   "file_extension": ".py",
   "mimetype": "text/x-python",
   "name": "python",
   "nbconvert_exporter": "python",
   "pygments_lexer": "ipython3",
   "version": "3.9.13"
  }
 },
 "nbformat": 4,
 "nbformat_minor": 5
}
